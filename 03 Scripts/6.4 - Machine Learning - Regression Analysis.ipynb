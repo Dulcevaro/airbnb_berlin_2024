{
 "cells": [
  {
   "cell_type": "markdown",
   "id": "b5a50e98",
   "metadata": {},
   "source": [
    "This script contains the following:\n",
    "1. Importing libraries and data\n",
    "2. Data cleaning\n",
    "  2.1 final_df\n",
    "  2.2 short_term\n",
    "3. Regression analysis : minimum_nights vs price\n",
    "   3.1. Data prep for regression analysis\n",
    "   3.2. Performing regression analysis\n",
    "   3.3. Regression Analysis: Subset = short term\n",
    "4. Regression analysis: number of reviews vs availability in Short Term\n",
    "   4.1. Data prep for regression analysis\n",
    "   4.2. Performing regression analysis\n",
    "5. Regression analysis: accommodates vs price in Short Term\n",
    "   5.1. Data prep for regression analysis\n",
    "   5.2. Performing regression analysis\n",
    "6. Performance improvement after removing outliers"
   ]
  },
  {
   "cell_type": "code",
   "execution_count": 1,
   "id": "704788bc",
   "metadata": {},
   "outputs": [],
   "source": [
    "import pandas as pd\n",
    "import numpy as np\n",
    "import seaborn as sns\n",
    "import matplotlib\n",
    "import matplotlib.pyplot as plt\n",
    "import os\n",
    "import sklearn\n",
    "from sklearn.model_selection import train_test_split \n",
    "from sklearn.linear_model import LinearRegression\n",
    "from sklearn.metrics import mean_squared_error, r2_score"
   ]
  },
  {
   "cell_type": "code",
   "execution_count": 2,
   "id": "1a1b1250",
   "metadata": {},
   "outputs": [],
   "source": [
    "# This option ensures that the graphs you create are displayed within the notebook without the need to \"call\" them specifically.\n",
    "%matplotlib inline"
   ]
  },
  {
   "cell_type": "code",
   "execution_count": 3,
   "id": "84e8b0ec",
   "metadata": {},
   "outputs": [],
   "source": [
    "# Create path\n",
    "path = r'/Users/Dulce/Dec2024 - Airbnb Berlin'"
   ]
  },
  {
   "cell_type": "code",
   "execution_count": 4,
   "id": "b337580a",
   "metadata": {
    "scrolled": true
   },
   "outputs": [
    {
     "data": {
      "text/html": [
       "<div>\n",
       "<style scoped>\n",
       "    .dataframe tbody tr th:only-of-type {\n",
       "        vertical-align: middle;\n",
       "    }\n",
       "\n",
       "    .dataframe tbody tr th {\n",
       "        vertical-align: top;\n",
       "    }\n",
       "\n",
       "    .dataframe thead th {\n",
       "        text-align: right;\n",
       "    }\n",
       "</style>\n",
       "<table border=\"1\" class=\"dataframe\">\n",
       "  <thead>\n",
       "    <tr style=\"text-align: right;\">\n",
       "      <th></th>\n",
       "      <th>id</th>\n",
       "      <th>date</th>\n",
       "      <th>month</th>\n",
       "      <th>available</th>\n",
       "      <th>season</th>\n",
       "      <th>name</th>\n",
       "      <th>host_id</th>\n",
       "      <th>host_name</th>\n",
       "      <th>neighbourhood_group</th>\n",
       "      <th>neighbourhood</th>\n",
       "      <th>...</th>\n",
       "      <th>review_scores_location</th>\n",
       "      <th>review_scores_value</th>\n",
       "      <th>instant_bookable</th>\n",
       "      <th>Population</th>\n",
       "      <th>Deficit housing</th>\n",
       "      <th>rental_simple_type</th>\n",
       "      <th>price_range</th>\n",
       "      <th>accommodates_type</th>\n",
       "      <th>rental_type</th>\n",
       "      <th>review_level</th>\n",
       "    </tr>\n",
       "  </thead>\n",
       "  <tbody>\n",
       "    <tr>\n",
       "      <th>1</th>\n",
       "      <td>22438</td>\n",
       "      <td>2024-01-01</td>\n",
       "      <td>January</td>\n",
       "      <td>f</td>\n",
       "      <td>Winter</td>\n",
       "      <td>Rental unit in Berlin ¬∑ ‚òÖ4.70 ¬∑ 2 bedrooms...</td>\n",
       "      <td>86159</td>\n",
       "      <td>Javier</td>\n",
       "      <td>Mitte</td>\n",
       "      <td>Brunnenstr. Sued</td>\n",
       "      <td>...</td>\n",
       "      <td>4.63</td>\n",
       "      <td>4.68</td>\n",
       "      <td>f</td>\n",
       "      <td>385748</td>\n",
       "      <td>-19725</td>\n",
       "      <td>Long-Term</td>\n",
       "      <td>Low-Priced</td>\n",
       "      <td>Couples</td>\n",
       "      <td>Long-Term</td>\n",
       "      <td>Highly Reviewed</td>\n",
       "    </tr>\n",
       "    <tr>\n",
       "      <th>2</th>\n",
       "      <td>22438</td>\n",
       "      <td>2024-02-01</td>\n",
       "      <td>January</td>\n",
       "      <td>t</td>\n",
       "      <td>Winter</td>\n",
       "      <td>Rental unit in Berlin ¬∑ ‚òÖ4.70 ¬∑ 2 bedrooms...</td>\n",
       "      <td>86159</td>\n",
       "      <td>Javier</td>\n",
       "      <td>Mitte</td>\n",
       "      <td>Brunnenstr. Sued</td>\n",
       "      <td>...</td>\n",
       "      <td>4.63</td>\n",
       "      <td>4.68</td>\n",
       "      <td>f</td>\n",
       "      <td>385748</td>\n",
       "      <td>-19725</td>\n",
       "      <td>Long-Term</td>\n",
       "      <td>Low-Priced</td>\n",
       "      <td>Couples</td>\n",
       "      <td>Long-Term</td>\n",
       "      <td>Highly Reviewed</td>\n",
       "    </tr>\n",
       "    <tr>\n",
       "      <th>3</th>\n",
       "      <td>22438</td>\n",
       "      <td>2024-03-01</td>\n",
       "      <td>January</td>\n",
       "      <td>t</td>\n",
       "      <td>Winter</td>\n",
       "      <td>Rental unit in Berlin ¬∑ ‚òÖ4.70 ¬∑ 2 bedrooms...</td>\n",
       "      <td>86159</td>\n",
       "      <td>Javier</td>\n",
       "      <td>Mitte</td>\n",
       "      <td>Brunnenstr. Sued</td>\n",
       "      <td>...</td>\n",
       "      <td>4.63</td>\n",
       "      <td>4.68</td>\n",
       "      <td>f</td>\n",
       "      <td>385748</td>\n",
       "      <td>-19725</td>\n",
       "      <td>Long-Term</td>\n",
       "      <td>Low-Priced</td>\n",
       "      <td>Couples</td>\n",
       "      <td>Long-Term</td>\n",
       "      <td>Highly Reviewed</td>\n",
       "    </tr>\n",
       "    <tr>\n",
       "      <th>4</th>\n",
       "      <td>22438</td>\n",
       "      <td>2024-04-01</td>\n",
       "      <td>January</td>\n",
       "      <td>t</td>\n",
       "      <td>Winter</td>\n",
       "      <td>Rental unit in Berlin ¬∑ ‚òÖ4.70 ¬∑ 2 bedrooms...</td>\n",
       "      <td>86159</td>\n",
       "      <td>Javier</td>\n",
       "      <td>Mitte</td>\n",
       "      <td>Brunnenstr. Sued</td>\n",
       "      <td>...</td>\n",
       "      <td>4.63</td>\n",
       "      <td>4.68</td>\n",
       "      <td>f</td>\n",
       "      <td>385748</td>\n",
       "      <td>-19725</td>\n",
       "      <td>Long-Term</td>\n",
       "      <td>Low-Priced</td>\n",
       "      <td>Couples</td>\n",
       "      <td>Long-Term</td>\n",
       "      <td>Highly Reviewed</td>\n",
       "    </tr>\n",
       "    <tr>\n",
       "      <th>5</th>\n",
       "      <td>22438</td>\n",
       "      <td>2024-05-01</td>\n",
       "      <td>January</td>\n",
       "      <td>t</td>\n",
       "      <td>Winter</td>\n",
       "      <td>Rental unit in Berlin ¬∑ ‚òÖ4.70 ¬∑ 2 bedrooms...</td>\n",
       "      <td>86159</td>\n",
       "      <td>Javier</td>\n",
       "      <td>Mitte</td>\n",
       "      <td>Brunnenstr. Sued</td>\n",
       "      <td>...</td>\n",
       "      <td>4.63</td>\n",
       "      <td>4.68</td>\n",
       "      <td>f</td>\n",
       "      <td>385748</td>\n",
       "      <td>-19725</td>\n",
       "      <td>Long-Term</td>\n",
       "      <td>Low-Priced</td>\n",
       "      <td>Couples</td>\n",
       "      <td>Long-Term</td>\n",
       "      <td>Highly Reviewed</td>\n",
       "    </tr>\n",
       "  </tbody>\n",
       "</table>\n",
       "<p>5 rows × 42 columns</p>\n",
       "</div>"
      ],
      "text/plain": [
       "      id       date    month available  season  \\\n",
       "1  22438 2024-01-01  January         f  Winter   \n",
       "2  22438 2024-02-01  January         t  Winter   \n",
       "3  22438 2024-03-01  January         t  Winter   \n",
       "4  22438 2024-04-01  January         t  Winter   \n",
       "5  22438 2024-05-01  January         t  Winter   \n",
       "\n",
       "                                                name host_id host_name  \\\n",
       "1  Rental unit in Berlin ¬∑ ‚òÖ4.70 ¬∑ 2 bedrooms...   86159    Javier   \n",
       "2  Rental unit in Berlin ¬∑ ‚òÖ4.70 ¬∑ 2 bedrooms...   86159    Javier   \n",
       "3  Rental unit in Berlin ¬∑ ‚òÖ4.70 ¬∑ 2 bedrooms...   86159    Javier   \n",
       "4  Rental unit in Berlin ¬∑ ‚òÖ4.70 ¬∑ 2 bedrooms...   86159    Javier   \n",
       "5  Rental unit in Berlin ¬∑ ‚òÖ4.70 ¬∑ 2 bedrooms...   86159    Javier   \n",
       "\n",
       "  neighbourhood_group     neighbourhood  ... review_scores_location  \\\n",
       "1               Mitte  Brunnenstr. Sued  ...                   4.63   \n",
       "2               Mitte  Brunnenstr. Sued  ...                   4.63   \n",
       "3               Mitte  Brunnenstr. Sued  ...                   4.63   \n",
       "4               Mitte  Brunnenstr. Sued  ...                   4.63   \n",
       "5               Mitte  Brunnenstr. Sued  ...                   4.63   \n",
       "\n",
       "  review_scores_value instant_bookable  Population  Deficit housing  \\\n",
       "1                4.68                f      385748           -19725   \n",
       "2                4.68                f      385748           -19725   \n",
       "3                4.68                f      385748           -19725   \n",
       "4                4.68                f      385748           -19725   \n",
       "5                4.68                f      385748           -19725   \n",
       "\n",
       "   rental_simple_type price_range  accommodates_type  rental_type  \\\n",
       "1           Long-Term  Low-Priced            Couples    Long-Term   \n",
       "2           Long-Term  Low-Priced            Couples    Long-Term   \n",
       "3           Long-Term  Low-Priced            Couples    Long-Term   \n",
       "4           Long-Term  Low-Priced            Couples    Long-Term   \n",
       "5           Long-Term  Low-Priced            Couples    Long-Term   \n",
       "\n",
       "      review_level  \n",
       "1  Highly Reviewed  \n",
       "2  Highly Reviewed  \n",
       "3  Highly Reviewed  \n",
       "4  Highly Reviewed  \n",
       "5  Highly Reviewed  \n",
       "\n",
       "[5 rows x 42 columns]"
      ]
     },
     "execution_count": 4,
     "metadata": {},
     "output_type": "execute_result"
    }
   ],
   "source": [
    "# Import 'final_df'\n",
    "final_df = pd.read_pickle(os.path.join(path, '02 Data', 'Prepared Data', 'final_df_2.pkl'))\n",
    "final_df.reset_index(drop=True, inplace=True)\n",
    "final_df.index = range(1, len(final_df) + 1)\n",
    "final_df.head()"
   ]
  },
  {
   "cell_type": "code",
   "execution_count": 5,
   "id": "ab1439e3",
   "metadata": {},
   "outputs": [
    {
     "data": {
      "text/plain": [
       "(41018, 42)"
      ]
     },
     "execution_count": 5,
     "metadata": {},
     "output_type": "execute_result"
    }
   ],
   "source": [
    "# Import 'short_term'\n",
    "short_term = pd.read_pickle(os.path.join(path, '02 Data', 'Prepared Data', 'short_term_3.pkl'))\n",
    "short_term.reset_index(drop=True, inplace=True)\n",
    "short_term.index = range(1, len(short_term) + 1)\n",
    "short_term.shape"
   ]
  },
  {
   "cell_type": "markdown",
   "id": "449b6d3a",
   "metadata": {},
   "source": [
    "# 2. Data cleaning"
   ]
  },
  {
   "cell_type": "markdown",
   "id": "bc10d255",
   "metadata": {},
   "source": [
    "## 2.1 final_df"
   ]
  },
  {
   "cell_type": "code",
   "execution_count": 6,
   "id": "8d0289a9",
   "metadata": {},
   "outputs": [
    {
     "data": {
      "text/plain": [
       "id                                0\n",
       "date                              0\n",
       "month                             0\n",
       "available                         0\n",
       "season                            0\n",
       "name                              0\n",
       "host_id                           0\n",
       "host_name                         0\n",
       "neighbourhood_group               0\n",
       "neighbourhood                     0\n",
       "latitude                          0\n",
       "longitude                         0\n",
       "room_type                         0\n",
       "price                             0\n",
       "minimum_nights                    0\n",
       "number_of_reviews                 0\n",
       "last_review                       0\n",
       "calculated_host_listings_count    0\n",
       "availability_365                  0\n",
       "license                           0\n",
       "host_response_time                0\n",
       "host_response_rate                0\n",
       "host_is_superhost                 0\n",
       "property_type                     0\n",
       "accommodates                      0\n",
       "maximum_nights                    0\n",
       "first_review                      0\n",
       "review_scores_rating              0\n",
       "review_scores_accuracy            0\n",
       "review_scores_cleanliness         0\n",
       "review_scores_checkin             0\n",
       "review_scores_communication       0\n",
       "review_scores_location            0\n",
       "review_scores_value               0\n",
       "instant_bookable                  0\n",
       "Population                        0\n",
       "Deficit housing                   0\n",
       "rental_simple_type                0\n",
       "price_range                       0\n",
       "accommodates_type                 0\n",
       "rental_type                       0\n",
       "review_level                      0\n",
       "dtype: int64"
      ]
     },
     "execution_count": 6,
     "metadata": {},
     "output_type": "execute_result"
    }
   ],
   "source": [
    "# Check for missing values\n",
    "\n",
    "final_df.isnull().sum()\n",
    "\n",
    "# No missing values to handle"
   ]
  },
  {
   "cell_type": "code",
   "execution_count": 7,
   "id": "6786b0fb",
   "metadata": {},
   "outputs": [
    {
     "data": {
      "text/plain": [
       "(60730,)"
      ]
     },
     "execution_count": 7,
     "metadata": {},
     "output_type": "execute_result"
    }
   ],
   "source": [
    "dups = final_df.duplicated()\n",
    "dups.shape\n",
    "# No dups"
   ]
  },
  {
   "cell_type": "markdown",
   "id": "8a0d19fe",
   "metadata": {},
   "source": [
    "## 2.2 short_term"
   ]
  },
  {
   "cell_type": "code",
   "execution_count": 8,
   "id": "5e47ebf1",
   "metadata": {},
   "outputs": [
    {
     "data": {
      "text/plain": [
       "id                                0\n",
       "date                              0\n",
       "month                             0\n",
       "available                         0\n",
       "season                            0\n",
       "name                              0\n",
       "host_id                           0\n",
       "host_name                         0\n",
       "neighbourhood_group               0\n",
       "neighbourhood                     0\n",
       "latitude                          0\n",
       "longitude                         0\n",
       "room_type                         0\n",
       "price                             0\n",
       "minimum_nights                    0\n",
       "number_of_reviews                 0\n",
       "last_review                       0\n",
       "calculated_host_listings_count    0\n",
       "availability_365                  0\n",
       "license                           0\n",
       "host_response_time                0\n",
       "host_response_rate                0\n",
       "host_is_superhost                 0\n",
       "property_type                     0\n",
       "accommodates                      0\n",
       "maximum_nights                    0\n",
       "first_review                      0\n",
       "review_scores_rating              0\n",
       "review_scores_accuracy            0\n",
       "review_scores_cleanliness         0\n",
       "review_scores_checkin             0\n",
       "review_scores_communication       0\n",
       "review_scores_location            0\n",
       "review_scores_value               0\n",
       "instant_bookable                  0\n",
       "Population                        0\n",
       "Deficit housing                   0\n",
       "rental_simple_type                0\n",
       "price_range                       0\n",
       "accommodates_type                 0\n",
       "rental_type                       0\n",
       "review_level                      0\n",
       "dtype: int64"
      ]
     },
     "execution_count": 8,
     "metadata": {},
     "output_type": "execute_result"
    }
   ],
   "source": [
    "# Check for missing values\n",
    "\n",
    "short_term.isnull().sum()\n",
    "\n",
    "# No missing values to handle"
   ]
  },
  {
   "cell_type": "code",
   "execution_count": 9,
   "id": "4c25f53c",
   "metadata": {},
   "outputs": [
    {
     "data": {
      "text/plain": [
       "(41018,)"
      ]
     },
     "execution_count": 9,
     "metadata": {},
     "output_type": "execute_result"
    }
   ],
   "source": [
    "dups = short_term.duplicated()\n",
    "dups.shape\n",
    "# No dups"
   ]
  },
  {
   "cell_type": "markdown",
   "id": "6fd89c00",
   "metadata": {},
   "source": [
    "# 3. Regression analysis : minimum_nights vs price"
   ]
  },
  {
   "cell_type": "markdown",
   "id": "ed17f964",
   "metadata": {},
   "source": [
    "#### HYPOTHESIS: 5. If the number of minimum nights is higher, the price will be lower"
   ]
  },
  {
   "cell_type": "markdown",
   "id": "cd31116b",
   "metadata": {},
   "source": [
    "## 3.1. Data prep for regression analysis"
   ]
  },
  {
   "cell_type": "code",
   "execution_count": 10,
   "id": "3c49f7de",
   "metadata": {},
   "outputs": [
    {
     "data": {
      "image/png": "[encoded data removed]",
      "text/plain": [
       "<Figure size 640x480 with 1 Axes>"
      ]
     },
     "metadata": {},
     "output_type": "display_data"
    }
   ],
   "source": [
    "# Create a scatterplot using matplotlib for another look at how the chosen variables plot against each other.\n",
    "plt_minnights_price = final_df.plot(x = 'minimum_nights', y='price',style='o') # The style option creates a scatterplot; without it, we only have lines.\n",
    "plt.title('Min. Nights vs Price')  \n",
    "plt.xlabel('Min. Nights')  \n",
    "plt.ylabel('Price')  \n",
    "plt.show()"
   ]
  },
  {
   "cell_type": "code",
   "execution_count": 11,
   "id": "bb3501e7",
   "metadata": {},
   "outputs": [],
   "source": [
    "# Reshape the variables into NumPy arrays and put them into separate objects.\n",
    "X = final_df['minimum_nights'].values.reshape(-1,1)\n",
    "y = final_df['price'].values.reshape(-1,1)"
   ]
  },
  {
   "cell_type": "code",
   "execution_count": 12,
   "id": "946da92d",
   "metadata": {},
   "outputs": [
    {
     "data": {
      "text/plain": [
       "array([[93],\n",
       "       [93],\n",
       "       [93],\n",
       "       ...,\n",
       "       [ 1],\n",
       "       [ 1],\n",
       "       [ 1]])"
      ]
     },
     "execution_count": 12,
     "metadata": {},
     "output_type": "execute_result"
    }
   ],
   "source": [
    "X"
   ]
  },
  {
   "cell_type": "code",
   "execution_count": 13,
   "id": "19a93d46",
   "metadata": {},
   "outputs": [
    {
     "data": {
      "text/plain": [
       "array([[53.],\n",
       "       [53.],\n",
       "       [53.],\n",
       "       ...,\n",
       "       [50.],\n",
       "       [50.],\n",
       "       [50.]])"
      ]
     },
     "execution_count": 13,
     "metadata": {},
     "output_type": "execute_result"
    }
   ],
   "source": [
    "y"
   ]
  },
  {
   "cell_type": "code",
   "execution_count": 14,
   "id": "b58181f7",
   "metadata": {},
   "outputs": [],
   "source": [
    "# Split data into a training set and a test set.\n",
    "X_train_minnights_price, X_test_minnights_price, y_train_minnights_price, y_test_minnights_price = train_test_split(X, y, test_size=0.3, random_state=0)"
   ]
  },
  {
   "cell_type": "markdown",
   "id": "30ec0e71",
   "metadata": {},
   "source": [
    "## 3.2. Performing regression analysis: minimum_nights vs price"
   ]
  },
  {
   "cell_type": "code",
   "execution_count": 15,
   "id": "c171ed6a",
   "metadata": {},
   "outputs": [],
   "source": [
    "# Create a regression object.\n",
    "regression_minnights_price_train = LinearRegression()  # This is the regression object, which will be fit onto the training set."
   ]
  },
  {
   "cell_type": "code",
   "execution_count": 16,
   "id": "82ebdf83",
   "metadata": {},
   "outputs": [
    {
     "data": {
      "text/html": [
       "<style>#sk-container-id-1 {color: black;}#sk-container-id-1 pre{padding: 0;}#sk-container-id-1 div.sk-toggleable {background-color: white;}#sk-container-id-1 label.sk-toggleable__label {cursor: pointer;display: block;width: 100%;margin-bottom: 0;padding: 0.3em;box-sizing: border-box;text-align: center;}#sk-container-id-1 label.sk-toggleable__label-arrow:before {content: \"▸\";float: left;margin-right: 0.25em;color: #696969;}#sk-container-id-1 label.sk-toggleable__label-arrow:hover:before {color: black;}#sk-container-id-1 div.sk-estimator:hover label.sk-toggleable__label-arrow:before {color: black;}#sk-container-id-1 div.sk-toggleable__content {max-height: 0;max-width: 0;overflow: hidden;text-align: left;background-color: #f0f8ff;}#sk-container-id-1 div.sk-toggleable__content pre {margin: 0.2em;color: black;border-radius: 0.25em;background-color: #f0f8ff;}#sk-container-id-1 input.sk-toggleable__control:checked~div.sk-toggleable__content {max-height: 200px;max-width: 100%;overflow: auto;}#sk-container-id-1 input.sk-toggleable__control:checked~label.sk-toggleable__label-arrow:before {content: \"▾\";}#sk-container-id-1 div.sk-estimator input.sk-toggleable__control:checked~label.sk-toggleable__label {background-color: #d4ebff;}#sk-container-id-1 div.sk-label input.sk-toggleable__control:checked~label.sk-toggleable__label {background-color: #d4ebff;}#sk-container-id-1 input.sk-hidden--visually {border: 0;clip: rect(1px 1px 1px 1px);clip: rect(1px, 1px, 1px, 1px);height: 1px;margin: -1px;overflow: hidden;padding: 0;position: absolute;width: 1px;}#sk-container-id-1 div.sk-estimator {font-family: monospace;background-color: #f0f8ff;border: 1px dotted black;border-radius: 0.25em;box-sizing: border-box;margin-bottom: 0.5em;}#sk-container-id-1 div.sk-estimator:hover {background-color: #d4ebff;}#sk-container-id-1 div.sk-parallel-item::after {content: \"\";width: 100%;border-bottom: 1px solid gray;flex-grow: 1;}#sk-container-id-1 div.sk-label:hover label.sk-toggleable__label {background-color: #d4ebff;}#sk-container-id-1 div.sk-serial::before {content: \"\";position: absolute;border-left: 1px solid gray;box-sizing: border-box;top: 0;bottom: 0;left: 50%;z-index: 0;}#sk-container-id-1 div.sk-serial {display: flex;flex-direction: column;align-items: center;background-color: white;padding-right: 0.2em;padding-left: 0.2em;position: relative;}#sk-container-id-1 div.sk-item {position: relative;z-index: 1;}#sk-container-id-1 div.sk-parallel {display: flex;align-items: stretch;justify-content: center;background-color: white;position: relative;}#sk-container-id-1 div.sk-item::before, #sk-container-id-1 div.sk-parallel-item::before {content: \"\";position: absolute;border-left: 1px solid gray;box-sizing: border-box;top: 0;bottom: 0;left: 50%;z-index: -1;}#sk-container-id-1 div.sk-parallel-item {display: flex;flex-direction: column;z-index: 1;position: relative;background-color: white;}#sk-container-id-1 div.sk-parallel-item:first-child::after {align-self: flex-end;width: 50%;}#sk-container-id-1 div.sk-parallel-item:last-child::after {align-self: flex-start;width: 50%;}#sk-container-id-1 div.sk-parallel-item:only-child::after {width: 0;}#sk-container-id-1 div.sk-dashed-wrapped {border: 1px dashed gray;margin: 0 0.4em 0.5em 0.4em;box-sizing: border-box;padding-bottom: 0.4em;background-color: white;}#sk-container-id-1 div.sk-label label {font-family: monospace;font-weight: bold;display: inline-block;line-height: 1.2em;}#sk-container-id-1 div.sk-label-container {text-align: center;}#sk-container-id-1 div.sk-container {/* jupyter's `normalize.less` sets `[hidden] { display: none; }` but bootstrap.min.css set `[hidden] { display: none !important; }` so we also need the `!important` here to be able to override the default hidden behavior on the sphinx rendered scikit-learn.org. See: https://github.com/scikit-learn/scikit-learn/issues/21755 */display: inline-block !important;position: relative;}#sk-container-id-1 div.sk-text-repr-fallback {display: none;}</style><div id=\"sk-container-id-1\" class=\"sk-top-container\"><div class=\"sk-text-repr-fallback\"><pre>LinearRegression()</pre><b>In a Jupyter environment, please rerun this cell to show the HTML representation or trust the notebook. <br />On GitHub, the HTML representation is unable to render, please try loading this page with nbviewer.org.</b></div><div class=\"sk-container\" hidden><div class=\"sk-item\"><div class=\"sk-estimator sk-toggleable\"><input class=\"sk-toggleable__control sk-hidden--visually\" id=\"sk-estimator-id-1\" type=\"checkbox\" checked><label for=\"sk-estimator-id-1\" class=\"sk-toggleable__label sk-toggleable__label-arrow\">LinearRegression</label><div class=\"sk-toggleable__content\"><pre>LinearRegression()</pre></div></div></div></div></div>"
      ],
      "text/plain": [
       "LinearRegression()"
      ]
     },
     "execution_count": 16,
     "metadata": {},
     "output_type": "execute_result"
    }
   ],
   "source": [
    "# Fit the regression object onto the training set.\n",
    "regression_minnights_price_train.fit(X_train_minnights_price, y_train_minnights_price)"
   ]
  },
  {
   "cell_type": "code",
   "execution_count": 17,
   "id": "90f2cbbe",
   "metadata": {},
   "outputs": [],
   "source": [
    "# Predict the values of y using X.\n",
    "y_predicted_minnights_price = regression_minnights_price_train.predict(X_test_minnights_price)"
   ]
  },
  {
   "cell_type": "code",
   "execution_count": 18,
   "id": "8f5a234b",
   "metadata": {},
   "outputs": [
    {
     "data": {
      "image/png": "[encoded data removed]",
      "text/plain": [
       "<Figure size 640x480 with 1 Axes>"
      ]
     },
     "metadata": {},
     "output_type": "display_data"
    }
   ],
   "source": [
    "# Create a plot that shows the regression line from the model on the test set.\n",
    "plot_test_minnights_price = plt\n",
    "plot_test_minnights_price.scatter(X_test_minnights_price, y_test_minnights_price, color='pink', s = 15)\n",
    "plot_test_minnights_price.plot(X_test_minnights_price, y_predicted_minnights_price, color='blue', linewidth =3)\n",
    "plot_test_minnights_price.title('Min. Nights vs Price (Test set)')\n",
    "plot_test_minnights_price.xlabel('Min. Nights')\n",
    "plot_test_minnights_price.ylabel('Price')\n",
    "plot_test_minnights_price.show()"
   ]
  },
  {
   "cell_type": "code",
   "execution_count": 19,
   "id": "893a05ad",
   "metadata": {},
   "outputs": [],
   "source": [
    "# Create objects that contain the model summary statistics.\n",
    "rmse_minnights_price_train = mean_squared_error(y_test_minnights_price, y_predicted_minnights_price) # This is the mean squared error\n",
    "r2_minnights_price_train = r2_score(y_test_minnights_price, y_predicted_minnights_price) # This is the R2 score. "
   ]
  },
  {
   "cell_type": "code",
   "execution_count": 20,
   "id": "8d49e287",
   "metadata": {},
   "outputs": [
    {
     "name": "stdout",
     "output_type": "stream",
     "text": [
      "Slope: [[-0.04572336]]\n",
      "Mean squared error:  3783.9715038686395\n",
      "R2 score:  0.002812625349691622\n"
     ]
    }
   ],
   "source": [
    "# Print the model summary statistics. This is where you evaluate the performance of the model.\n",
    "print('Slope:' ,regression_minnights_price_train.coef_)\n",
    "print('Mean squared error: ', rmse_minnights_price_train)\n",
    "print('R2 score: ', r2_minnights_price_train)"
   ]
  },
  {
   "cell_type": "markdown",
   "id": "dc733d66",
   "metadata": {},
   "source": [
    "- SLOPE: A negative slope value indicates a negative relationship (as Min. Nights rises, y Price drops)\n",
    "- MSE: A higher MSE indicates lower model performance, so 3778 is relatively high. It suggests that, on average, the squared difference between the predicted and actual values is significant.\n",
    "- R2: In this case, the R2 score is quite low (0.0017), indicating that the model explains very little of the variability in the data, which indicates poor fit."
   ]
  },
  {
   "cell_type": "code",
   "execution_count": 21,
   "id": "1e54fa13",
   "metadata": {
    "scrolled": true
   },
   "outputs": [
    {
     "data": {
      "text/html": [
       "<div>\n",
       "<style scoped>\n",
       "    .dataframe tbody tr th:only-of-type {\n",
       "        vertical-align: middle;\n",
       "    }\n",
       "\n",
       "    .dataframe tbody tr th {\n",
       "        vertical-align: top;\n",
       "    }\n",
       "\n",
       "    .dataframe thead th {\n",
       "        text-align: right;\n",
       "    }\n",
       "</style>\n",
       "<table border=\"1\" class=\"dataframe\">\n",
       "  <thead>\n",
       "    <tr style=\"text-align: right;\">\n",
       "      <th></th>\n",
       "      <th>Actual</th>\n",
       "      <th>Predicted</th>\n",
       "    </tr>\n",
       "  </thead>\n",
       "  <tbody>\n",
       "    <tr>\n",
       "      <th>0</th>\n",
       "      <td>82.000000</td>\n",
       "      <td>103.492460</td>\n",
       "    </tr>\n",
       "    <tr>\n",
       "      <th>1</th>\n",
       "      <td>108.000000</td>\n",
       "      <td>103.492460</td>\n",
       "    </tr>\n",
       "    <tr>\n",
       "      <th>2</th>\n",
       "      <td>45.000000</td>\n",
       "      <td>103.538184</td>\n",
       "    </tr>\n",
       "    <tr>\n",
       "      <th>3</th>\n",
       "      <td>100.000000</td>\n",
       "      <td>95.262255</td>\n",
       "    </tr>\n",
       "    <tr>\n",
       "      <th>4</th>\n",
       "      <td>143.000000</td>\n",
       "      <td>103.538184</td>\n",
       "    </tr>\n",
       "    <tr>\n",
       "      <th>5</th>\n",
       "      <td>120.000000</td>\n",
       "      <td>103.492460</td>\n",
       "    </tr>\n",
       "    <tr>\n",
       "      <th>6</th>\n",
       "      <td>70.000000</td>\n",
       "      <td>96.771126</td>\n",
       "    </tr>\n",
       "    <tr>\n",
       "      <th>7</th>\n",
       "      <td>124.515203</td>\n",
       "      <td>99.423081</td>\n",
       "    </tr>\n",
       "    <tr>\n",
       "      <th>8</th>\n",
       "      <td>124.515203</td>\n",
       "      <td>103.401013</td>\n",
       "    </tr>\n",
       "    <tr>\n",
       "      <th>9</th>\n",
       "      <td>65.000000</td>\n",
       "      <td>99.423081</td>\n",
       "    </tr>\n",
       "    <tr>\n",
       "      <th>10</th>\n",
       "      <td>143.000000</td>\n",
       "      <td>103.538184</td>\n",
       "    </tr>\n",
       "    <tr>\n",
       "      <th>11</th>\n",
       "      <td>54.000000</td>\n",
       "      <td>103.492460</td>\n",
       "    </tr>\n",
       "    <tr>\n",
       "      <th>12</th>\n",
       "      <td>250.000000</td>\n",
       "      <td>95.262255</td>\n",
       "    </tr>\n",
       "    <tr>\n",
       "      <th>13</th>\n",
       "      <td>124.515203</td>\n",
       "      <td>86.940603</td>\n",
       "    </tr>\n",
       "    <tr>\n",
       "      <th>14</th>\n",
       "      <td>65.000000</td>\n",
       "      <td>95.170808</td>\n",
       "    </tr>\n",
       "    <tr>\n",
       "      <th>15</th>\n",
       "      <td>56.000000</td>\n",
       "      <td>103.263843</td>\n",
       "    </tr>\n",
       "    <tr>\n",
       "      <th>16</th>\n",
       "      <td>100.000000</td>\n",
       "      <td>102.715163</td>\n",
       "    </tr>\n",
       "    <tr>\n",
       "      <th>17</th>\n",
       "      <td>19.000000</td>\n",
       "      <td>99.285911</td>\n",
       "    </tr>\n",
       "    <tr>\n",
       "      <th>18</th>\n",
       "      <td>280.000000</td>\n",
       "      <td>103.492460</td>\n",
       "    </tr>\n",
       "    <tr>\n",
       "      <th>19</th>\n",
       "      <td>124.515203</td>\n",
       "      <td>99.423081</td>\n",
       "    </tr>\n",
       "    <tr>\n",
       "      <th>20</th>\n",
       "      <td>75.000000</td>\n",
       "      <td>103.538184</td>\n",
       "    </tr>\n",
       "    <tr>\n",
       "      <th>21</th>\n",
       "      <td>220.000000</td>\n",
       "      <td>99.514528</td>\n",
       "    </tr>\n",
       "    <tr>\n",
       "      <th>22</th>\n",
       "      <td>86.000000</td>\n",
       "      <td>103.538184</td>\n",
       "    </tr>\n",
       "    <tr>\n",
       "      <th>23</th>\n",
       "      <td>83.000000</td>\n",
       "      <td>100.749058</td>\n",
       "    </tr>\n",
       "    <tr>\n",
       "      <th>24</th>\n",
       "      <td>99.000000</td>\n",
       "      <td>99.423081</td>\n",
       "    </tr>\n",
       "    <tr>\n",
       "      <th>25</th>\n",
       "      <td>140.000000</td>\n",
       "      <td>103.492460</td>\n",
       "    </tr>\n",
       "    <tr>\n",
       "      <th>26</th>\n",
       "      <td>30.000000</td>\n",
       "      <td>99.423081</td>\n",
       "    </tr>\n",
       "    <tr>\n",
       "      <th>27</th>\n",
       "      <td>68.000000</td>\n",
       "      <td>99.423081</td>\n",
       "    </tr>\n",
       "    <tr>\n",
       "      <th>28</th>\n",
       "      <td>42.000000</td>\n",
       "      <td>99.423081</td>\n",
       "    </tr>\n",
       "    <tr>\n",
       "      <th>29</th>\n",
       "      <td>84.000000</td>\n",
       "      <td>103.538184</td>\n",
       "    </tr>\n",
       "  </tbody>\n",
       "</table>\n",
       "</div>"
      ],
      "text/plain": [
       "        Actual   Predicted\n",
       "0    82.000000  103.492460\n",
       "1   108.000000  103.492460\n",
       "2    45.000000  103.538184\n",
       "3   100.000000   95.262255\n",
       "4   143.000000  103.538184\n",
       "5   120.000000  103.492460\n",
       "6    70.000000   96.771126\n",
       "7   124.515203   99.423081\n",
       "8   124.515203  103.401013\n",
       "9    65.000000   99.423081\n",
       "10  143.000000  103.538184\n",
       "11   54.000000  103.492460\n",
       "12  250.000000   95.262255\n",
       "13  124.515203   86.940603\n",
       "14   65.000000   95.170808\n",
       "15   56.000000  103.263843\n",
       "16  100.000000  102.715163\n",
       "17   19.000000   99.285911\n",
       "18  280.000000  103.492460\n",
       "19  124.515203   99.423081\n",
       "20   75.000000  103.538184\n",
       "21  220.000000   99.514528\n",
       "22   86.000000  103.538184\n",
       "23   83.000000  100.749058\n",
       "24   99.000000   99.423081\n",
       "25  140.000000  103.492460\n",
       "26   30.000000   99.423081\n",
       "27   68.000000   99.423081\n",
       "28   42.000000   99.423081\n",
       "29   84.000000  103.538184"
      ]
     },
     "execution_count": 21,
     "metadata": {},
     "output_type": "execute_result"
    }
   ],
   "source": [
    "# Create a dataframe comparing the actual and predicted values of y.\n",
    "data_minnights_price = pd.DataFrame({'Actual': y_test_minnights_price.flatten(), 'Predicted': y_predicted_minnights_price.flatten()})\n",
    "data_minnights_price.head(30)"
   ]
  },
  {
   "cell_type": "markdown",
   "id": "fd546cb2",
   "metadata": {},
   "source": [
    "Predicted values are very far away from actual values in many cases. This model is not good at predicting the variability of the price regarding minimum number of nights."
   ]
  },
  {
   "cell_type": "markdown",
   "id": "d45c6965",
   "metadata": {},
   "source": [
    "### Compare how the regression fits the training set"
   ]
  },
  {
   "cell_type": "code",
   "execution_count": 22,
   "id": "faf4233c",
   "metadata": {},
   "outputs": [],
   "source": [
    "# Predict.\n",
    "y_predicted_train_minnights_price = regression_minnights_price_train.predict(X_train_minnights_price) # This is predicting X_train!"
   ]
  },
  {
   "cell_type": "code",
   "execution_count": 23,
   "id": "3e7eae97",
   "metadata": {},
   "outputs": [],
   "source": [
    "rmse_minnights_price_test = mean_squared_error(y_train_minnights_price, y_predicted_train_minnights_price)\n",
    "r2_minnights_price_test = r2_score(y_train_minnights_price, y_predicted_train_minnights_price)"
   ]
  },
  {
   "cell_type": "code",
   "execution_count": 24,
   "id": "22851e9d",
   "metadata": {
    "scrolled": true
   },
   "outputs": [
    {
     "name": "stdout",
     "output_type": "stream",
     "text": [
      "Slope: [[-0.04572336]]\n",
      "Mean squared error:  3929.974366632521\n",
      "R2 score:  0.0025363988063440424\n"
     ]
    }
   ],
   "source": [
    "print('Slope:' ,regression_minnights_price_train.coef_)\n",
    "print('Mean squared error: ', rmse_minnights_price_test)\n",
    "print('R2 score: ', r2_minnights_price_test)"
   ]
  },
  {
   "cell_type": "markdown",
   "id": "94fe0c92",
   "metadata": {},
   "source": [
    "The values continue indicating that is not a good prediction model. Let´s try with a subset for just short-term listing."
   ]
  },
  {
   "cell_type": "markdown",
   "id": "3a100024",
   "metadata": {},
   "source": [
    "## 3.3 Regression Analysis: Subset = short term"
   ]
  },
  {
   "cell_type": "code",
   "execution_count": 25,
   "id": "f1cc176d",
   "metadata": {},
   "outputs": [],
   "source": [
    "# Reshape the variables into NumPy arrays and put them into separate objects.\n",
    "X = short_term['minimum_nights'].values.reshape(-1,1)\n",
    "y = short_term['price'].values.reshape(-1,1)"
   ]
  },
  {
   "cell_type": "code",
   "execution_count": 26,
   "id": "587d77af",
   "metadata": {},
   "outputs": [],
   "source": [
    "# Split data into a training set and a test set.\n",
    "X_train_minnights_price_ST, X_test_minnights_price_ST, y_train_minnights_price_ST, y_test_minnights_price_ST = train_test_split(X, y, test_size=0.3, random_state=0)"
   ]
  },
  {
   "cell_type": "code",
   "execution_count": 27,
   "id": "e39d50da",
   "metadata": {},
   "outputs": [],
   "source": [
    "# Create a regression object.\n",
    "regression_minnights_price_train_ST = LinearRegression()  # This is the regression object, which will be fit onto the training set."
   ]
  },
  {
   "cell_type": "code",
   "execution_count": 28,
   "id": "e65623c1",
   "metadata": {},
   "outputs": [
    {
     "data": {
      "text/html": [
       "<style>#sk-container-id-2 {color: black;}#sk-container-id-2 pre{padding: 0;}#sk-container-id-2 div.sk-toggleable {background-color: white;}#sk-container-id-2 label.sk-toggleable__label {cursor: pointer;display: block;width: 100%;margin-bottom: 0;padding: 0.3em;box-sizing: border-box;text-align: center;}#sk-container-id-2 label.sk-toggleable__label-arrow:before {content: \"▸\";float: left;margin-right: 0.25em;color: #696969;}#sk-container-id-2 label.sk-toggleable__label-arrow:hover:before {color: black;}#sk-container-id-2 div.sk-estimator:hover label.sk-toggleable__label-arrow:before {color: black;}#sk-container-id-2 div.sk-toggleable__content {max-height: 0;max-width: 0;overflow: hidden;text-align: left;background-color: #f0f8ff;}#sk-container-id-2 div.sk-toggleable__content pre {margin: 0.2em;color: black;border-radius: 0.25em;background-color: #f0f8ff;}#sk-container-id-2 input.sk-toggleable__control:checked~div.sk-toggleable__content {max-height: 200px;max-width: 100%;overflow: auto;}#sk-container-id-2 input.sk-toggleable__control:checked~label.sk-toggleable__label-arrow:before {content: \"▾\";}#sk-container-id-2 div.sk-estimator input.sk-toggleable__control:checked~label.sk-toggleable__label {background-color: #d4ebff;}#sk-container-id-2 div.sk-label input.sk-toggleable__control:checked~label.sk-toggleable__label {background-color: #d4ebff;}#sk-container-id-2 input.sk-hidden--visually {border: 0;clip: rect(1px 1px 1px 1px);clip: rect(1px, 1px, 1px, 1px);height: 1px;margin: -1px;overflow: hidden;padding: 0;position: absolute;width: 1px;}#sk-container-id-2 div.sk-estimator {font-family: monospace;background-color: #f0f8ff;border: 1px dotted black;border-radius: 0.25em;box-sizing: border-box;margin-bottom: 0.5em;}#sk-container-id-2 div.sk-estimator:hover {background-color: #d4ebff;}#sk-container-id-2 div.sk-parallel-item::after {content: \"\";width: 100%;border-bottom: 1px solid gray;flex-grow: 1;}#sk-container-id-2 div.sk-label:hover label.sk-toggleable__label {background-color: #d4ebff;}#sk-container-id-2 div.sk-serial::before {content: \"\";position: absolute;border-left: 1px solid gray;box-sizing: border-box;top: 0;bottom: 0;left: 50%;z-index: 0;}#sk-container-id-2 div.sk-serial {display: flex;flex-direction: column;align-items: center;background-color: white;padding-right: 0.2em;padding-left: 0.2em;position: relative;}#sk-container-id-2 div.sk-item {position: relative;z-index: 1;}#sk-container-id-2 div.sk-parallel {display: flex;align-items: stretch;justify-content: center;background-color: white;position: relative;}#sk-container-id-2 div.sk-item::before, #sk-container-id-2 div.sk-parallel-item::before {content: \"\";position: absolute;border-left: 1px solid gray;box-sizing: border-box;top: 0;bottom: 0;left: 50%;z-index: -1;}#sk-container-id-2 div.sk-parallel-item {display: flex;flex-direction: column;z-index: 1;position: relative;background-color: white;}#sk-container-id-2 div.sk-parallel-item:first-child::after {align-self: flex-end;width: 50%;}#sk-container-id-2 div.sk-parallel-item:last-child::after {align-self: flex-start;width: 50%;}#sk-container-id-2 div.sk-parallel-item:only-child::after {width: 0;}#sk-container-id-2 div.sk-dashed-wrapped {border: 1px dashed gray;margin: 0 0.4em 0.5em 0.4em;box-sizing: border-box;padding-bottom: 0.4em;background-color: white;}#sk-container-id-2 div.sk-label label {font-family: monospace;font-weight: bold;display: inline-block;line-height: 1.2em;}#sk-container-id-2 div.sk-label-container {text-align: center;}#sk-container-id-2 div.sk-container {/* jupyter's `normalize.less` sets `[hidden] { display: none; }` but bootstrap.min.css set `[hidden] { display: none !important; }` so we also need the `!important` here to be able to override the default hidden behavior on the sphinx rendered scikit-learn.org. See: https://github.com/scikit-learn/scikit-learn/issues/21755 */display: inline-block !important;position: relative;}#sk-container-id-2 div.sk-text-repr-fallback {display: none;}</style><div id=\"sk-container-id-2\" class=\"sk-top-container\"><div class=\"sk-text-repr-fallback\"><pre>LinearRegression()</pre><b>In a Jupyter environment, please rerun this cell to show the HTML representation or trust the notebook. <br />On GitHub, the HTML representation is unable to render, please try loading this page with nbviewer.org.</b></div><div class=\"sk-container\" hidden><div class=\"sk-item\"><div class=\"sk-estimator sk-toggleable\"><input class=\"sk-toggleable__control sk-hidden--visually\" id=\"sk-estimator-id-2\" type=\"checkbox\" checked><label for=\"sk-estimator-id-2\" class=\"sk-toggleable__label sk-toggleable__label-arrow\">LinearRegression</label><div class=\"sk-toggleable__content\"><pre>LinearRegression()</pre></div></div></div></div></div>"
      ],
      "text/plain": [
       "LinearRegression()"
      ]
     },
     "execution_count": 28,
     "metadata": {},
     "output_type": "execute_result"
    }
   ],
   "source": [
    "# Fit the regression object onto the training set.\n",
    "regression_minnights_price_train_ST.fit(X_train_minnights_price_ST, y_train_minnights_price_ST)"
   ]
  },
  {
   "cell_type": "code",
   "execution_count": 29,
   "id": "20b89341",
   "metadata": {},
   "outputs": [],
   "source": [
    "# Predict the values of y using X.\n",
    "y_predicted_minnights_price_ST = regression_minnights_price_train_ST.predict(X_test_minnights_price_ST)"
   ]
  },
  {
   "cell_type": "code",
   "execution_count": 30,
   "id": "8d598467",
   "metadata": {},
   "outputs": [
    {
     "data": {
      "image/png": "[encoded data removed]",
      "text/plain": [
       "<Figure size 640x480 with 1 Axes>"
      ]
     },
     "metadata": {},
     "output_type": "display_data"
    }
   ],
   "source": [
    "# Create a plot that shows the regression line from the model on the test set.\n",
    "plot_test_minnights_price_ST = plt\n",
    "plot_test_minnights_price_ST.scatter(X_test_minnights_price_ST, y_test_minnights_price_ST, color='pink', s = 15)\n",
    "plot_test_minnights_price_ST.plot(X_test_minnights_price_ST, y_predicted_minnights_price_ST, color='blue', linewidth =3)\n",
    "plot_test_minnights_price_ST.title('Min. Nights vs Price (Test set)')\n",
    "plot_test_minnights_price_ST.xlabel('Min. Nights')\n",
    "plot_test_minnights_price_ST.ylabel('Price')\n",
    "plot_test_minnights_price_ST.show()"
   ]
  },
  {
   "cell_type": "code",
   "execution_count": 31,
   "id": "d476c4f7",
   "metadata": {},
   "outputs": [],
   "source": [
    "# Create objects that contain the model summary statistics.\n",
    "rmse_minnights_price_train_ST = mean_squared_error(y_test_minnights_price_ST, y_predicted_minnights_price_ST) # This is the mean squared error\n",
    "r2_minnights_price_train_ST = r2_score(y_test_minnights_price_ST, y_predicted_minnights_price_ST) # This is the R2 score. "
   ]
  },
  {
   "cell_type": "code",
   "execution_count": 32,
   "id": "57ab0ebe",
   "metadata": {
    "scrolled": true
   },
   "outputs": [
    {
     "name": "stdout",
     "output_type": "stream",
     "text": [
      "Slope: [[-0.78261127]]\n",
      "Mean squared error:  4811.708487144978\n",
      "R2 score:  0.004882798616184569\n"
     ]
    }
   ],
   "source": [
    "# Print the model summary statistics. This is where you evaluate the performance of the model.\n",
    "print('Slope:' ,regression_minnights_price_train_ST.coef_)\n",
    "print('Mean squared error: ', rmse_minnights_price_train_ST)\n",
    "print('R2 score: ', r2_minnights_price_train_ST)"
   ]
  },
  {
   "cell_type": "markdown",
   "id": "634cfb2b",
   "metadata": {},
   "source": [
    "- SLOPE: A negative slope value indicates a negative relationship (as Min. Nights rises, y Price drops)\n",
    "- MSE: A high MSE indicates low model performance, so 4577 is relatively high. It suggests that, on average, the squared difference between the predicted and actual values is significant.\n",
    "- R2: In this case, the R2 score is quite low (0.0042), indicating that the model explains very little of the variability in the data, which indicates poor fit.\n",
    "\n",
    "We have the same bad performance of the model for long+short term listing than for just short listing. It is not a good model so we will not follow with the analysis.\n",
    "In other words, this linear regression cannot explain the variance in the data, making it a poor choice for a prediction model."
   ]
  },
  {
   "cell_type": "markdown",
   "id": "04572074",
   "metadata": {},
   "source": [
    "# 4. Regression analysis: number of reviews vs availability in Short Term"
   ]
  },
  {
   "cell_type": "markdown",
   "id": "e5d3e86b",
   "metadata": {},
   "source": [
    "#### HYPOTHESIS 6: If a listing has a high number of reviews, the availability will be lower because its popularity"
   ]
  },
  {
   "cell_type": "markdown",
   "id": "c3a1c526",
   "metadata": {},
   "source": [
    "## 4.1. Data prep for regression analysis"
   ]
  },
  {
   "cell_type": "code",
   "execution_count": 33,
   "id": "66646723",
   "metadata": {},
   "outputs": [
    {
     "data": {
      "image/png": "[encoded data removed]",
      "text/plain": [
       "<Figure size 640x480 with 1 Axes>"
      ]
     },
     "metadata": {},
     "output_type": "display_data"
    }
   ],
   "source": [
    "# Create a scatterplot using matplotlib for another look at how the chosen variables plot against each other.\n",
    "plt_rev_avab_ST = short_term.plot(x = 'number_of_reviews', y='availability_365',style='o') # The style option creates a scatterplot; without it, we only have lines.\n",
    "plt.title('Number of Reviews vs Availability')  \n",
    "plt.xlabel('Number of Reviews')  \n",
    "plt.ylabel('Availability')  \n",
    "plt.show()"
   ]
  },
  {
   "cell_type": "code",
   "execution_count": 34,
   "id": "cb814df7",
   "metadata": {},
   "outputs": [],
   "source": [
    "# Reshape the variables into NumPy arrays and put them into separate objects.\n",
    "X = short_term['number_of_reviews'].values.reshape(-1,1)\n",
    "y = short_term['availability_365'].values.reshape(-1,1)"
   ]
  },
  {
   "cell_type": "code",
   "execution_count": 35,
   "id": "164d2aad",
   "metadata": {},
   "outputs": [],
   "source": [
    "# Split data into a training set and a test set.\n",
    "X_train_rev_avab_ST, X_test_rev_avab_ST, y_train_rev_avab_ST, y_test_rev_avab_ST = train_test_split(X, y, test_size=0.3, random_state=0)"
   ]
  },
  {
   "cell_type": "markdown",
   "id": "5d70b16f",
   "metadata": {},
   "source": [
    "## 4.2. Performing regression analysis"
   ]
  },
  {
   "cell_type": "code",
   "execution_count": 36,
   "id": "51d4a2b3",
   "metadata": {},
   "outputs": [],
   "source": [
    "# Create a regression object.\n",
    "regression_train_rev_avab_ST = LinearRegression()  # This is the regression object, which will be fit onto the training set."
   ]
  },
  {
   "cell_type": "code",
   "execution_count": 37,
   "id": "6fa3796e",
   "metadata": {},
   "outputs": [
    {
     "data": {
      "text/html": [
       "<style>#sk-container-id-3 {color: black;}#sk-container-id-3 pre{padding: 0;}#sk-container-id-3 div.sk-toggleable {background-color: white;}#sk-container-id-3 label.sk-toggleable__label {cursor: pointer;display: block;width: 100%;margin-bottom: 0;padding: 0.3em;box-sizing: border-box;text-align: center;}#sk-container-id-3 label.sk-toggleable__label-arrow:before {content: \"▸\";float: left;margin-right: 0.25em;color: #696969;}#sk-container-id-3 label.sk-toggleable__label-arrow:hover:before {color: black;}#sk-container-id-3 div.sk-estimator:hover label.sk-toggleable__label-arrow:before {color: black;}#sk-container-id-3 div.sk-toggleable__content {max-height: 0;max-width: 0;overflow: hidden;text-align: left;background-color: #f0f8ff;}#sk-container-id-3 div.sk-toggleable__content pre {margin: 0.2em;color: black;border-radius: 0.25em;background-color: #f0f8ff;}#sk-container-id-3 input.sk-toggleable__control:checked~div.sk-toggleable__content {max-height: 200px;max-width: 100%;overflow: auto;}#sk-container-id-3 input.sk-toggleable__control:checked~label.sk-toggleable__label-arrow:before {content: \"▾\";}#sk-container-id-3 div.sk-estimator input.sk-toggleable__control:checked~label.sk-toggleable__label {background-color: #d4ebff;}#sk-container-id-3 div.sk-label input.sk-toggleable__control:checked~label.sk-toggleable__label {background-color: #d4ebff;}#sk-container-id-3 input.sk-hidden--visually {border: 0;clip: rect(1px 1px 1px 1px);clip: rect(1px, 1px, 1px, 1px);height: 1px;margin: -1px;overflow: hidden;padding: 0;position: absolute;width: 1px;}#sk-container-id-3 div.sk-estimator {font-family: monospace;background-color: #f0f8ff;border: 1px dotted black;border-radius: 0.25em;box-sizing: border-box;margin-bottom: 0.5em;}#sk-container-id-3 div.sk-estimator:hover {background-color: #d4ebff;}#sk-container-id-3 div.sk-parallel-item::after {content: \"\";width: 100%;border-bottom: 1px solid gray;flex-grow: 1;}#sk-container-id-3 div.sk-label:hover label.sk-toggleable__label {background-color: #d4ebff;}#sk-container-id-3 div.sk-serial::before {content: \"\";position: absolute;border-left: 1px solid gray;box-sizing: border-box;top: 0;bottom: 0;left: 50%;z-index: 0;}#sk-container-id-3 div.sk-serial {display: flex;flex-direction: column;align-items: center;background-color: white;padding-right: 0.2em;padding-left: 0.2em;position: relative;}#sk-container-id-3 div.sk-item {position: relative;z-index: 1;}#sk-container-id-3 div.sk-parallel {display: flex;align-items: stretch;justify-content: center;background-color: white;position: relative;}#sk-container-id-3 div.sk-item::before, #sk-container-id-3 div.sk-parallel-item::before {content: \"\";position: absolute;border-left: 1px solid gray;box-sizing: border-box;top: 0;bottom: 0;left: 50%;z-index: -1;}#sk-container-id-3 div.sk-parallel-item {display: flex;flex-direction: column;z-index: 1;position: relative;background-color: white;}#sk-container-id-3 div.sk-parallel-item:first-child::after {align-self: flex-end;width: 50%;}#sk-container-id-3 div.sk-parallel-item:last-child::after {align-self: flex-start;width: 50%;}#sk-container-id-3 div.sk-parallel-item:only-child::after {width: 0;}#sk-container-id-3 div.sk-dashed-wrapped {border: 1px dashed gray;margin: 0 0.4em 0.5em 0.4em;box-sizing: border-box;padding-bottom: 0.4em;background-color: white;}#sk-container-id-3 div.sk-label label {font-family: monospace;font-weight: bold;display: inline-block;line-height: 1.2em;}#sk-container-id-3 div.sk-label-container {text-align: center;}#sk-container-id-3 div.sk-container {/* jupyter's `normalize.less` sets `[hidden] { display: none; }` but bootstrap.min.css set `[hidden] { display: none !important; }` so we also need the `!important` here to be able to override the default hidden behavior on the sphinx rendered scikit-learn.org. See: https://github.com/scikit-learn/scikit-learn/issues/21755 */display: inline-block !important;position: relative;}#sk-container-id-3 div.sk-text-repr-fallback {display: none;}</style><div id=\"sk-container-id-3\" class=\"sk-top-container\"><div class=\"sk-text-repr-fallback\"><pre>LinearRegression()</pre><b>In a Jupyter environment, please rerun this cell to show the HTML representation or trust the notebook. <br />On GitHub, the HTML representation is unable to render, please try loading this page with nbviewer.org.</b></div><div class=\"sk-container\" hidden><div class=\"sk-item\"><div class=\"sk-estimator sk-toggleable\"><input class=\"sk-toggleable__control sk-hidden--visually\" id=\"sk-estimator-id-3\" type=\"checkbox\" checked><label for=\"sk-estimator-id-3\" class=\"sk-toggleable__label sk-toggleable__label-arrow\">LinearRegression</label><div class=\"sk-toggleable__content\"><pre>LinearRegression()</pre></div></div></div></div></div>"
      ],
      "text/plain": [
       "LinearRegression()"
      ]
     },
     "execution_count": 37,
     "metadata": {},
     "output_type": "execute_result"
    }
   ],
   "source": [
    "# Fit the regression object onto the training set.\n",
    "regression_train_rev_avab_ST.fit(X_train_rev_avab_ST, y_train_rev_avab_ST)"
   ]
  },
  {
   "cell_type": "code",
   "execution_count": 38,
   "id": "a1502fee",
   "metadata": {},
   "outputs": [],
   "source": [
    "# Predict the values of y using X.\n",
    "y_predicted_rev_avab_ST = regression_train_rev_avab_ST.predict(X_test_rev_avab_ST)"
   ]
  },
  {
   "cell_type": "code",
   "execution_count": 39,
   "id": "900bc4fd",
   "metadata": {},
   "outputs": [
    {
     "data": {
      "image/png": "[encoded data removed]",
      "text/plain": [
       "<Figure size 640x480 with 1 Axes>"
      ]
     },
     "metadata": {},
     "output_type": "display_data"
    }
   ],
   "source": [
    "# Create a plot that shows the regression line from the model on the test set.\n",
    "plot_test_rev_avab_ST = plt\n",
    "plot_test_rev_avab_ST.scatter(X_test_rev_avab_ST, y_test_rev_avab_ST, color='pink', s = 15)\n",
    "plot_test_rev_avab_ST.plot(X_test_rev_avab_ST, y_predicted_rev_avab_ST, color='blue', linewidth =3)\n",
    "plot_test_rev_avab_ST.title('Number of Reviews vs Availability (Test set)')\n",
    "plot_test_rev_avab_ST.xlabel('Number of Reviews')\n",
    "plot_test_rev_avab_ST.ylabel('Availability')\n",
    "plot_test_rev_avab_ST.show()"
   ]
  },
  {
   "cell_type": "code",
   "execution_count": 40,
   "id": "650c156b",
   "metadata": {},
   "outputs": [],
   "source": [
    "# Create objects that contain the model summary statistics.\n",
    "rmse_train_rev_avab_ST = mean_squared_error(y_test_rev_avab_ST, y_predicted_rev_avab_ST) # This is the mean squared error\n",
    "r2_train_rev_avab_ST = r2_score(y_test_rev_avab_ST, y_predicted_rev_avab_ST) # This is the R2 score. "
   ]
  },
  {
   "cell_type": "code",
   "execution_count": 41,
   "id": "e97e72db",
   "metadata": {
    "scrolled": true
   },
   "outputs": [
    {
     "name": "stdout",
     "output_type": "stream",
     "text": [
      "Slope: [[-0.78261127]]\n",
      "Mean squared error:  4811.708487144978\n",
      "R2 score:  0.004882798616184569\n"
     ]
    }
   ],
   "source": [
    "# Print the model summary statistics. This is where you evaluate the performance of the model.\n",
    "print('Slope:' ,regression_minnights_price_train_ST.coef_)\n",
    "print('Mean squared error: ', rmse_minnights_price_train_ST)\n",
    "print('R2 score: ', r2_minnights_price_train_ST)"
   ]
  },
  {
   "cell_type": "markdown",
   "id": "2f15e16a",
   "metadata": {},
   "source": [
    "- SLOPE: A negative slope value indicates a negative relationship (as number of reviews rises, y availability drops)\n",
    "- MSE: A higher MSE indicates lower model performance, so 4577 is relatively high. It suggests that, on average, the squared difference between the predicted and actual values is significant.\n",
    "- R2: In this case, the R2 score is quite low (0.0042), indicating that the model explains very little of the variability in the data, which indicates poor fit.\n",
    "\n",
    "We have the a bad performance of the model short listing. It is not a good model so we will not follow with the analysis. It was not a surprise, as we see the first scatterplot (plt_rev_avab_ST), where the points already indicates there were no relation between variables.\n",
    "In other words, this linear regression cannot explain the variance in the data, making it a poor choice for a prediction model."
   ]
  },
  {
   "cell_type": "markdown",
   "id": "c007a25d",
   "metadata": {},
   "source": [
    "# 5. Regression analysis: accommodates vs price in Short Term"
   ]
  },
  {
   "cell_type": "markdown",
   "id": "a03e91a0",
   "metadata": {},
   "source": [
    "#### HYPOTHESIS 7. If a listing has a high number of accommodates, the price will be higher than for couple or solo guests."
   ]
  },
  {
   "cell_type": "markdown",
   "id": "34bca4dc",
   "metadata": {},
   "source": [
    "## 5.1. Data prep for regression analysis"
   ]
  },
  {
   "cell_type": "code",
   "execution_count": 42,
   "id": "7778f48b",
   "metadata": {},
   "outputs": [
    {
     "data": {
      "image/png": "[encoded data removed]",
      "text/plain": [
       "<Figure size 640x480 with 1 Axes>"
      ]
     },
     "metadata": {},
     "output_type": "display_data"
    }
   ],
   "source": [
    "# Create a scatterplot using matplotlib for another look at how the chosen variables plot against each other.\n",
    "plt_acc_price_ST = short_term.plot(x = 'accommodates', y='price',style='o') # The style option creates a scatterplot; without it, we only have lines.\n",
    "plt.title('Number of Accommodates vs Price')  \n",
    "plt.xlabel('Number of Accommodates')  \n",
    "plt.ylabel('Price')  \n",
    "plt.show()"
   ]
  },
  {
   "cell_type": "code",
   "execution_count": 43,
   "id": "5b943827",
   "metadata": {},
   "outputs": [],
   "source": [
    "# Reshape the variables into NumPy arrays and put them into separate objects.\n",
    "X = short_term['accommodates'].values.reshape(-1,1)\n",
    "y = short_term['price'].values.reshape(-1,1)"
   ]
  },
  {
   "cell_type": "code",
   "execution_count": 44,
   "id": "4df5440d",
   "metadata": {},
   "outputs": [],
   "source": [
    "# Split data into a training set and a test set.\n",
    "X_train_acc_price_ST, X_test_acc_price_ST, y_train_acc_price_ST, y_test_acc_price_ST = train_test_split(X, y, test_size=0.3, random_state=0)"
   ]
  },
  {
   "cell_type": "markdown",
   "id": "6e439349",
   "metadata": {},
   "source": [
    "## 5.2. Performing regression analysis"
   ]
  },
  {
   "cell_type": "code",
   "execution_count": 45,
   "id": "1386f810",
   "metadata": {},
   "outputs": [],
   "source": [
    "# Create a regression object.\n",
    "regression_train_acc_price_ST = LinearRegression()  # This is the regression object, which will be fit onto the training set."
   ]
  },
  {
   "cell_type": "code",
   "execution_count": 46,
   "id": "57d9db17",
   "metadata": {},
   "outputs": [
    {
     "data": {
      "text/html": [
       "<style>#sk-container-id-4 {color: black;}#sk-container-id-4 pre{padding: 0;}#sk-container-id-4 div.sk-toggleable {background-color: white;}#sk-container-id-4 label.sk-toggleable__label {cursor: pointer;display: block;width: 100%;margin-bottom: 0;padding: 0.3em;box-sizing: border-box;text-align: center;}#sk-container-id-4 label.sk-toggleable__label-arrow:before {content: \"▸\";float: left;margin-right: 0.25em;color: #696969;}#sk-container-id-4 label.sk-toggleable__label-arrow:hover:before {color: black;}#sk-container-id-4 div.sk-estimator:hover label.sk-toggleable__label-arrow:before {color: black;}#sk-container-id-4 div.sk-toggleable__content {max-height: 0;max-width: 0;overflow: hidden;text-align: left;background-color: #f0f8ff;}#sk-container-id-4 div.sk-toggleable__content pre {margin: 0.2em;color: black;border-radius: 0.25em;background-color: #f0f8ff;}#sk-container-id-4 input.sk-toggleable__control:checked~div.sk-toggleable__content {max-height: 200px;max-width: 100%;overflow: auto;}#sk-container-id-4 input.sk-toggleable__control:checked~label.sk-toggleable__label-arrow:before {content: \"▾\";}#sk-container-id-4 div.sk-estimator input.sk-toggleable__control:checked~label.sk-toggleable__label {background-color: #d4ebff;}#sk-container-id-4 div.sk-label input.sk-toggleable__control:checked~label.sk-toggleable__label {background-color: #d4ebff;}#sk-container-id-4 input.sk-hidden--visually {border: 0;clip: rect(1px 1px 1px 1px);clip: rect(1px, 1px, 1px, 1px);height: 1px;margin: -1px;overflow: hidden;padding: 0;position: absolute;width: 1px;}#sk-container-id-4 div.sk-estimator {font-family: monospace;background-color: #f0f8ff;border: 1px dotted black;border-radius: 0.25em;box-sizing: border-box;margin-bottom: 0.5em;}#sk-container-id-4 div.sk-estimator:hover {background-color: #d4ebff;}#sk-container-id-4 div.sk-parallel-item::after {content: \"\";width: 100%;border-bottom: 1px solid gray;flex-grow: 1;}#sk-container-id-4 div.sk-label:hover label.sk-toggleable__label {background-color: #d4ebff;}#sk-container-id-4 div.sk-serial::before {content: \"\";position: absolute;border-left: 1px solid gray;box-sizing: border-box;top: 0;bottom: 0;left: 50%;z-index: 0;}#sk-container-id-4 div.sk-serial {display: flex;flex-direction: column;align-items: center;background-color: white;padding-right: 0.2em;padding-left: 0.2em;position: relative;}#sk-container-id-4 div.sk-item {position: relative;z-index: 1;}#sk-container-id-4 div.sk-parallel {display: flex;align-items: stretch;justify-content: center;background-color: white;position: relative;}#sk-container-id-4 div.sk-item::before, #sk-container-id-4 div.sk-parallel-item::before {content: \"\";position: absolute;border-left: 1px solid gray;box-sizing: border-box;top: 0;bottom: 0;left: 50%;z-index: -1;}#sk-container-id-4 div.sk-parallel-item {display: flex;flex-direction: column;z-index: 1;position: relative;background-color: white;}#sk-container-id-4 div.sk-parallel-item:first-child::after {align-self: flex-end;width: 50%;}#sk-container-id-4 div.sk-parallel-item:last-child::after {align-self: flex-start;width: 50%;}#sk-container-id-4 div.sk-parallel-item:only-child::after {width: 0;}#sk-container-id-4 div.sk-dashed-wrapped {border: 1px dashed gray;margin: 0 0.4em 0.5em 0.4em;box-sizing: border-box;padding-bottom: 0.4em;background-color: white;}#sk-container-id-4 div.sk-label label {font-family: monospace;font-weight: bold;display: inline-block;line-height: 1.2em;}#sk-container-id-4 div.sk-label-container {text-align: center;}#sk-container-id-4 div.sk-container {/* jupyter's `normalize.less` sets `[hidden] { display: none; }` but bootstrap.min.css set `[hidden] { display: none !important; }` so we also need the `!important` here to be able to override the default hidden behavior on the sphinx rendered scikit-learn.org. See: https://github.com/scikit-learn/scikit-learn/issues/21755 */display: inline-block !important;position: relative;}#sk-container-id-4 div.sk-text-repr-fallback {display: none;}</style><div id=\"sk-container-id-4\" class=\"sk-top-container\"><div class=\"sk-text-repr-fallback\"><pre>LinearRegression()</pre><b>In a Jupyter environment, please rerun this cell to show the HTML representation or trust the notebook. <br />On GitHub, the HTML representation is unable to render, please try loading this page with nbviewer.org.</b></div><div class=\"sk-container\" hidden><div class=\"sk-item\"><div class=\"sk-estimator sk-toggleable\"><input class=\"sk-toggleable__control sk-hidden--visually\" id=\"sk-estimator-id-4\" type=\"checkbox\" checked><label for=\"sk-estimator-id-4\" class=\"sk-toggleable__label sk-toggleable__label-arrow\">LinearRegression</label><div class=\"sk-toggleable__content\"><pre>LinearRegression()</pre></div></div></div></div></div>"
      ],
      "text/plain": [
       "LinearRegression()"
      ]
     },
     "execution_count": 46,
     "metadata": {},
     "output_type": "execute_result"
    }
   ],
   "source": [
    "# Fit the regression object onto the training set.\n",
    "regression_train_acc_price_ST.fit(X_train_acc_price_ST, y_train_acc_price_ST)"
   ]
  },
  {
   "cell_type": "code",
   "execution_count": 47,
   "id": "97f5acda",
   "metadata": {},
   "outputs": [],
   "source": [
    "# Predict the values of y using X.\n",
    "y_predicted_acc_price_ST = regression_train_acc_price_ST.predict(X_test_acc_price_ST)"
   ]
  },
  {
   "cell_type": "code",
   "execution_count": 48,
   "id": "c79402f0",
   "metadata": {},
   "outputs": [
    {
     "data": {
      "image/png": "[encoded data removed]",
      "text/plain": [
       "<Figure size 640x480 with 1 Axes>"
      ]
     },
     "metadata": {},
     "output_type": "display_data"
    }
   ],
   "source": [
    "# Create a plot that shows the regression line from the model on the test set.\n",
    "plot_test_acc_price_ST = plt\n",
    "plot_test_acc_price_ST.scatter(X_test_acc_price_ST, y_test_acc_price_ST, color='pink', s = 15)\n",
    "plot_test_acc_price_ST.plot(X_test_acc_price_ST, y_predicted_acc_price_ST, color='blue', linewidth =3)\n",
    "plot_test_acc_price_ST.title('Number of Accommodates vs Price (Test set)')\n",
    "plot_test_acc_price_ST.xlabel('Number of Accommodates')\n",
    "plot_test_acc_price_ST.ylabel('Price')\n",
    "plot_test_acc_price_ST.show()"
   ]
  },
  {
   "cell_type": "code",
   "execution_count": 49,
   "id": "e61df9f9",
   "metadata": {},
   "outputs": [],
   "source": [
    "# Create objects that contain the model summary statistics.\n",
    "rmse_train_acc_price_ST = mean_squared_error(y_test_acc_price_ST, y_predicted_acc_price_ST) # This is the mean squared error\n",
    "r2_train_acc_price_ST = r2_score(y_test_acc_price_ST, y_predicted_acc_price_ST) # This is the R2 score. "
   ]
  },
  {
   "cell_type": "code",
   "execution_count": 50,
   "id": "7e56f194",
   "metadata": {},
   "outputs": [
    {
     "name": "stdout",
     "output_type": "stream",
     "text": [
      "Slope: [[24.94735801]]\n",
      "Mean squared error:  2007.8272529107678\n",
      "R2 score:  0.5847580039155194\n"
     ]
    }
   ],
   "source": [
    "# Print the model summary statistics. This is where you evaluate the performance of the model.\n",
    "print('Slope:' ,regression_train_acc_price_ST.coef_)\n",
    "print('Mean squared error: ', rmse_train_acc_price_ST)\n",
    "print('R2 score: ', r2_train_acc_price_ST)"
   ]
  },
  {
   "cell_type": "markdown",
   "id": "7c813011",
   "metadata": {},
   "source": [
    "- SLOPE: A positive slope indicates a positive relationship (as number of accommodates rises, y price also rises)\n",
    "- MSE: A lower MSE indicates good model performance, so 1963 is relatively low. It suggests that, on average, the squared difference between the predicted and actual values is not significant. The points are close to the line, in other words.\n",
    "- R2: In this case, the R2 score is quite high (57%), indicating that the model explains very well of the variability in the data, which indicates good fit. \n",
    "\n",
    "We have the a good performance of the model short listing. So we will continue with the test."
   ]
  },
  {
   "cell_type": "markdown",
   "id": "27c673b1",
   "metadata": {},
   "source": [
    "### Compare how the regression fits the training set"
   ]
  },
  {
   "cell_type": "code",
   "execution_count": 51,
   "id": "a481156e",
   "metadata": {},
   "outputs": [],
   "source": [
    "# Predict.\n",
    "y_predicted_train_acc_price_ST = regression_train_acc_price_ST.predict(X_train_acc_price_ST) # This is predicting X_train!"
   ]
  },
  {
   "cell_type": "code",
   "execution_count": 52,
   "id": "1713a165",
   "metadata": {},
   "outputs": [],
   "source": [
    "rmse_test_acc_price_ST = mean_squared_error(y_train_acc_price_ST, y_predicted_train_acc_price_ST)\n",
    "r2_test_acc_price_ST = r2_score(y_train_acc_price_ST, y_predicted_train_acc_price_ST)"
   ]
  },
  {
   "cell_type": "code",
   "execution_count": 53,
   "id": "8e23768c",
   "metadata": {
    "scrolled": true
   },
   "outputs": [
    {
     "name": "stdout",
     "output_type": "stream",
     "text": [
      "Slope: [[24.94735801]]\n",
      "Mean squared error:  1965.678725865586\n",
      "R2 score:  0.5695642485338315\n"
     ]
    }
   ],
   "source": [
    "print('Slope:' ,regression_train_acc_price_ST.coef_)\n",
    "print('Mean squared error: ', rmse_test_acc_price_ST)\n",
    "print('R2 score: ', r2_test_acc_price_ST)"
   ]
  },
  {
   "cell_type": "markdown",
   "id": "db6ec5f9",
   "metadata": {},
   "source": [
    "We have the a good performance of the model short listing also for the test segment. \n",
    "Now that we’ve confirmed the accuracy of the model, we can also confirm the hypothesis, “If a listing has a high number of accommodates, the price will be higher”.\n",
    "\n",
    "In other words, this linear regression explains the variance in the data, making it a good choice for a prediction model."
   ]
  },
  {
   "cell_type": "markdown",
   "id": "d5c92da6",
   "metadata": {},
   "source": [
    "# 6. Performance improvement after removing outliers"
   ]
  },
  {
   "cell_type": "code",
   "execution_count": 54,
   "id": "a464ef43",
   "metadata": {},
   "outputs": [],
   "source": [
    "# Clean the extreme values from the \"Price\" variable observed during the consistency checks.\n",
    "df_test = short_term[short_term['price'] <=400] "
   ]
  },
  {
   "cell_type": "code",
   "execution_count": 55,
   "id": "3d52253f",
   "metadata": {},
   "outputs": [
    {
     "data": {
      "image/png": "[encoded data removed]",
      "text/plain": [
       "<Figure size 640x480 with 1 Axes>"
      ]
     },
     "metadata": {},
     "output_type": "display_data"
    }
   ],
   "source": [
    "# See how the scatterplot looks without outliers.\n",
    "df_test.plot(x = 'accommodates', y='price', style='o')  \n",
    "plt.title('Number of Accommodates vs Price')  \n",
    "plt.xlabel('Number of Accommodates')  \n",
    "plt.ylabel('Price')  \n",
    "plt.show()"
   ]
  },
  {
   "cell_type": "code",
   "execution_count": 56,
   "id": "2a78e124",
   "metadata": {},
   "outputs": [],
   "source": [
    "# Reshape again.\n",
    "X2 = df_test['accommodates'].values.reshape(-1,1)\n",
    "y2 = df_test['price'].values.reshape(-1,1)"
   ]
  },
  {
   "cell_type": "code",
   "execution_count": 57,
   "id": "d6e46394",
   "metadata": {},
   "outputs": [],
   "source": [
    "# Split data into a training set and a test set.\n",
    "X2_train_acc_price_ST, X2_test_acc_price_ST, y2_train_acc_price_ST, y2_test_acc_price_ST = train_test_split(X2, y2, test_size=0.3, random_state=0)"
   ]
  },
  {
   "cell_type": "code",
   "execution_count": 58,
   "id": "d144c27c",
   "metadata": {},
   "outputs": [
    {
     "data": {
      "text/html": [
       "<style>#sk-container-id-5 {color: black;}#sk-container-id-5 pre{padding: 0;}#sk-container-id-5 div.sk-toggleable {background-color: white;}#sk-container-id-5 label.sk-toggleable__label {cursor: pointer;display: block;width: 100%;margin-bottom: 0;padding: 0.3em;box-sizing: border-box;text-align: center;}#sk-container-id-5 label.sk-toggleable__label-arrow:before {content: \"▸\";float: left;margin-right: 0.25em;color: #696969;}#sk-container-id-5 label.sk-toggleable__label-arrow:hover:before {color: black;}#sk-container-id-5 div.sk-estimator:hover label.sk-toggleable__label-arrow:before {color: black;}#sk-container-id-5 div.sk-toggleable__content {max-height: 0;max-width: 0;overflow: hidden;text-align: left;background-color: #f0f8ff;}#sk-container-id-5 div.sk-toggleable__content pre {margin: 0.2em;color: black;border-radius: 0.25em;background-color: #f0f8ff;}#sk-container-id-5 input.sk-toggleable__control:checked~div.sk-toggleable__content {max-height: 200px;max-width: 100%;overflow: auto;}#sk-container-id-5 input.sk-toggleable__control:checked~label.sk-toggleable__label-arrow:before {content: \"▾\";}#sk-container-id-5 div.sk-estimator input.sk-toggleable__control:checked~label.sk-toggleable__label {background-color: #d4ebff;}#sk-container-id-5 div.sk-label input.sk-toggleable__control:checked~label.sk-toggleable__label {background-color: #d4ebff;}#sk-container-id-5 input.sk-hidden--visually {border: 0;clip: rect(1px 1px 1px 1px);clip: rect(1px, 1px, 1px, 1px);height: 1px;margin: -1px;overflow: hidden;padding: 0;position: absolute;width: 1px;}#sk-container-id-5 div.sk-estimator {font-family: monospace;background-color: #f0f8ff;border: 1px dotted black;border-radius: 0.25em;box-sizing: border-box;margin-bottom: 0.5em;}#sk-container-id-5 div.sk-estimator:hover {background-color: #d4ebff;}#sk-container-id-5 div.sk-parallel-item::after {content: \"\";width: 100%;border-bottom: 1px solid gray;flex-grow: 1;}#sk-container-id-5 div.sk-label:hover label.sk-toggleable__label {background-color: #d4ebff;}#sk-container-id-5 div.sk-serial::before {content: \"\";position: absolute;border-left: 1px solid gray;box-sizing: border-box;top: 0;bottom: 0;left: 50%;z-index: 0;}#sk-container-id-5 div.sk-serial {display: flex;flex-direction: column;align-items: center;background-color: white;padding-right: 0.2em;padding-left: 0.2em;position: relative;}#sk-container-id-5 div.sk-item {position: relative;z-index: 1;}#sk-container-id-5 div.sk-parallel {display: flex;align-items: stretch;justify-content: center;background-color: white;position: relative;}#sk-container-id-5 div.sk-item::before, #sk-container-id-5 div.sk-parallel-item::before {content: \"\";position: absolute;border-left: 1px solid gray;box-sizing: border-box;top: 0;bottom: 0;left: 50%;z-index: -1;}#sk-container-id-5 div.sk-parallel-item {display: flex;flex-direction: column;z-index: 1;position: relative;background-color: white;}#sk-container-id-5 div.sk-parallel-item:first-child::after {align-self: flex-end;width: 50%;}#sk-container-id-5 div.sk-parallel-item:last-child::after {align-self: flex-start;width: 50%;}#sk-container-id-5 div.sk-parallel-item:only-child::after {width: 0;}#sk-container-id-5 div.sk-dashed-wrapped {border: 1px dashed gray;margin: 0 0.4em 0.5em 0.4em;box-sizing: border-box;padding-bottom: 0.4em;background-color: white;}#sk-container-id-5 div.sk-label label {font-family: monospace;font-weight: bold;display: inline-block;line-height: 1.2em;}#sk-container-id-5 div.sk-label-container {text-align: center;}#sk-container-id-5 div.sk-container {/* jupyter's `normalize.less` sets `[hidden] { display: none; }` but bootstrap.min.css set `[hidden] { display: none !important; }` so we also need the `!important` here to be able to override the default hidden behavior on the sphinx rendered scikit-learn.org. See: https://github.com/scikit-learn/scikit-learn/issues/21755 */display: inline-block !important;position: relative;}#sk-container-id-5 div.sk-text-repr-fallback {display: none;}</style><div id=\"sk-container-id-5\" class=\"sk-top-container\"><div class=\"sk-text-repr-fallback\"><pre>LinearRegression()</pre><b>In a Jupyter environment, please rerun this cell to show the HTML representation or trust the notebook. <br />On GitHub, the HTML representation is unable to render, please try loading this page with nbviewer.org.</b></div><div class=\"sk-container\" hidden><div class=\"sk-item\"><div class=\"sk-estimator sk-toggleable\"><input class=\"sk-toggleable__control sk-hidden--visually\" id=\"sk-estimator-id-5\" type=\"checkbox\" checked><label for=\"sk-estimator-id-5\" class=\"sk-toggleable__label sk-toggleable__label-arrow\">LinearRegression</label><div class=\"sk-toggleable__content\"><pre>LinearRegression()</pre></div></div></div></div></div>"
      ],
      "text/plain": [
       "LinearRegression()"
      ]
     },
     "execution_count": 58,
     "metadata": {},
     "output_type": "execute_result"
    }
   ],
   "source": [
    "# Run and fit the regression.\n",
    "regression2_train_acc_price_ST = LinearRegression()  \n",
    "regression2_train_acc_price_ST.fit(X2_train_acc_price_ST, y2_train_acc_price_ST)"
   ]
  },
  {
   "cell_type": "code",
   "execution_count": 59,
   "id": "ee858b8a",
   "metadata": {},
   "outputs": [],
   "source": [
    "# Predict the values of y using X.\n",
    "y2_predicted_acc_price_ST = regression2_train_acc_price_ST.predict(X2_test_acc_price_ST)"
   ]
  },
  {
   "cell_type": "code",
   "execution_count": 60,
   "id": "8dbe43a7",
   "metadata": {},
   "outputs": [],
   "source": [
    "# Create objects that contain the model summary statistics.\n",
    "rmse2_test_acc_price_ST = mean_squared_error(y2_test_acc_price_ST, y2_predicted_acc_price_ST) # This is the mean squared error\n",
    "r2_2_test_acc_price_ST = r2_score(y2_test_acc_price_ST, y2_predicted_acc_price_ST) # This is the R2 score. "
   ]
  },
  {
   "cell_type": "code",
   "execution_count": 61,
   "id": "c4e4538a",
   "metadata": {},
   "outputs": [
    {
     "name": "stdout",
     "output_type": "stream",
     "text": [
      "Slope: [[21.0174149]]\n",
      "Mean squared error:  1757.6713954934364\n",
      "R2 score:  0.461793606675556\n"
     ]
    }
   ],
   "source": [
    "print('Slope:' ,regression2_train_acc_price_ST.coef_)\n",
    "print('Mean squared error: ', rmse2_test_acc_price_ST)\n",
    "print('R2 score: ', r2_2_test_acc_price_ST)"
   ]
  },
  {
   "cell_type": "code",
   "execution_count": 62,
   "id": "204079a7",
   "metadata": {
    "scrolled": true
   },
   "outputs": [
    {
     "data": {
      "image/png": "[encoded data removed]",
      "text/plain": [
       "<Figure size 640x480 with 1 Axes>"
      ]
     },
     "metadata": {},
     "output_type": "display_data"
    }
   ],
   "source": [
    "# Create a plot that shows the regression line from the model on the test set.\n",
    "plot_test_acc_price_ST = plt\n",
    "plot_test_acc_price_ST.scatter(X2_test_acc_price_ST, y2_test_acc_price_ST, color='pink', s = 15)\n",
    "plot_test_acc_price_ST.plot(X2_test_acc_price_ST, y2_predicted_acc_price_ST, color='blue', linewidth =3)\n",
    "plot_test_acc_price_ST.title('Number of Accommodates vs Price (Test set)')\n",
    "plot_test_acc_price_ST.xlabel('Number of Accommodates')\n",
    "plot_test_acc_price_ST.ylabel('Price')\n",
    "plot_test_acc_price_ST.show()"
   ]
  },
  {
   "cell_type": "markdown",
   "id": "26ef8d18",
   "metadata": {},
   "source": [
    "The model performes worse after dropping the outliers in the price:\n",
    "BEFORE: 57%\n",
    "AFTER: R2 score = 45%"
   ]
  }
 ],
 "metadata": {
  "kernelspec": {
   "display_name": "Python 3 (ipykernel)",
   "language": "python",
   "name": "python3"
  },
  "language_info": {
   "codemirror_mode": {
    "name": "ipython",
    "version": 3
   },
   "file_extension": ".py",
   "mimetype": "text/x-python",
   "name": "python",
   "nbconvert_exporter": "python",
   "pygments_lexer": "ipython3",
   "version": "3.11.5"
  }
 },
 "nbformat": 4,
 "nbformat_minor": 5
}
