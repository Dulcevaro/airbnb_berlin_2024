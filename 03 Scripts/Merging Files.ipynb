{
 "cells": [
  {
   "cell_type": "markdown",
   "id": "5927ef34",
   "metadata": {},
   "source": [
    "# Table on Content\n",
    "1. Importing Libraries & datasets\n",
    "2. Merge listings short and long\n",
    "3. Merge listings & calendar\n",
    "4. Wrangling\n",
    "  4.1 Drop Columns\n",
    "  4.2 Mixed Data types\n",
    "5. Consistency Checks\n",
    "  5.1 Missing Values\n",
    "  5.2 Duplicates\n",
    "6. Export final dataset"
   ]
  },
  {
   "cell_type": "markdown",
   "id": "e822b59f",
   "metadata": {},
   "source": [
    "# 1. Importing Libraries & datasets"
   ]
  },
  {
   "cell_type": "code",
   "execution_count": 2,
   "id": "59c54c1a",
   "metadata": {},
   "outputs": [],
   "source": [
    "# Import libraries\n",
    "import pandas as pd\n",
    "import numpy as np\n",
    "import os\n",
    "import matplotlib.pyplot as plt\n",
    "import seaborn as sns\n",
    "import scipy"
   ]
  },
  {
   "cell_type": "code",
   "execution_count": 3,
   "id": "0e35017e",
   "metadata": {},
   "outputs": [],
   "source": [
    "# Create path\n",
    "path = r'/Users/Dulce/Dec2024 - Airbnb Berlin'"
   ]
  },
  {
   "cell_type": "code",
   "execution_count": 4,
   "id": "ab964f98",
   "metadata": {
    "scrolled": true
   },
   "outputs": [],
   "source": [
    "# Import 'listing long_clean'\n",
    "listing_long_clean = pd.read_pickle(os.path.join(path, '02 Data', 'Prepared Data', 'listing_long_clean.pkl'))"
   ]
  },
  {
   "cell_type": "code",
   "execution_count": 5,
   "id": "06743e7c",
   "metadata": {},
   "outputs": [],
   "source": [
    "# Import 'listing short_clean'\n",
    "listing_short_clean = pd.read_pickle(os.path.join(path, '02 Data', 'Prepared Data', 'listing_short_clean.pkl'))"
   ]
  },
  {
   "cell_type": "code",
   "execution_count": 6,
   "id": "373a3a61",
   "metadata": {},
   "outputs": [],
   "source": [
    "# Import 'calendar_clean'\n",
    "calendar_clean = pd.read_pickle(os.path.join(path, '02 Data', 'Prepared Data', 'calendar_clean.pkl')).astype({'date': 'datetime64[ns]'})"
   ]
  },
  {
   "cell_type": "code",
   "execution_count": 7,
   "id": "cb54af99",
   "metadata": {},
   "outputs": [],
   "source": [
    "# Import 'demographics'\n",
    "demographics = pd.read_excel(os.path.join(path, '02 Data', 'Original Data', 'demographics.xlsx'))"
   ]
  },
  {
   "cell_type": "markdown",
   "id": "8a227cb0",
   "metadata": {},
   "source": [
    "# 2. Merge listings short and long"
   ]
  },
  {
   "cell_type": "code",
   "execution_count": 8,
   "id": "d1b13e9d",
   "metadata": {},
   "outputs": [
    {
     "name": "stdout",
     "output_type": "stream",
     "text": [
      "<class 'pandas.core.frame.DataFrame'>\n",
      "RangeIndex: 10326 entries, 0 to 10325\n",
      "Data columns (total 32 columns):\n",
      " #   Column                          Non-Null Count  Dtype  \n",
      "---  ------                          --------------  -----  \n",
      " 0   id                              10326 non-null  object \n",
      " 1   name                            10326 non-null  object \n",
      " 2   host_id                         10326 non-null  object \n",
      " 3   host_name                       10326 non-null  object \n",
      " 4   neighbourhood_group             10326 non-null  object \n",
      " 5   neighbourhood                   10326 non-null  object \n",
      " 6   latitude                        10326 non-null  object \n",
      " 7   longitude                       10326 non-null  object \n",
      " 8   room_type                       10326 non-null  object \n",
      " 9   price                           10326 non-null  float64\n",
      " 10  minimum_nights                  10326 non-null  int64  \n",
      " 11  number_of_reviews               10326 non-null  int64  \n",
      " 12  last_review                     10326 non-null  object \n",
      " 13  reviews_per_month               10326 non-null  float64\n",
      " 14  calculated_host_listings_count  10326 non-null  int64  \n",
      " 15  availability_365                10326 non-null  int64  \n",
      " 16  license                         10326 non-null  object \n",
      " 17  host_response_time              7738 non-null   object \n",
      " 18  host_response_rate              7738 non-null   object \n",
      " 19  host_is_superhost               7738 non-null   object \n",
      " 20  property_type                   7738 non-null   object \n",
      " 21  accommodates                    7738 non-null   float64\n",
      " 22  maximum_nights                  7738 non-null   float64\n",
      " 23  first_review                    7738 non-null   object \n",
      " 24  review_scores_rating            7738 non-null   float64\n",
      " 25  review_scores_accuracy          7738 non-null   float64\n",
      " 26  review_scores_cleanliness       7738 non-null   float64\n",
      " 27  review_scores_checkin           7738 non-null   float64\n",
      " 28  review_scores_communication     7738 non-null   float64\n",
      " 29  review_scores_location          7738 non-null   float64\n",
      " 30  review_scores_value             7738 non-null   float64\n",
      " 31  instant_bookable                7738 non-null   object \n",
      "dtypes: float64(11), int64(4), object(17)\n",
      "memory usage: 2.5+ MB\n"
     ]
    }
   ],
   "source": [
    "listings = pd.merge(listing_short_clean, listing_long_clean, on='id', how='left')\n",
    "listings.info()"
   ]
  },
  {
   "cell_type": "markdown",
   "id": "b5450af6",
   "metadata": {},
   "source": [
    "# 3. Merge listings & calendar"
   ]
  },
  {
   "cell_type": "code",
   "execution_count": 9,
   "id": "dd0c29ba",
   "metadata": {
    "scrolled": true
   },
   "outputs": [
    {
     "name": "stdout",
     "output_type": "stream",
     "text": [
      "<class 'pandas.core.frame.DataFrame'>\n",
      "RangeIndex: 63194 entries, 0 to 63193\n",
      "Data columns (total 36 columns):\n",
      " #   Column                          Non-Null Count  Dtype         \n",
      "---  ------                          --------------  -----         \n",
      " 0   id                              63194 non-null  object        \n",
      " 1   date                            63194 non-null  datetime64[ns]\n",
      " 2   month                           63194 non-null  object        \n",
      " 3   available                       63194 non-null  object        \n",
      " 4   season                          63194 non-null  object        \n",
      " 5   name                            60730 non-null  object        \n",
      " 6   host_id                         60730 non-null  object        \n",
      " 7   host_name                       60730 non-null  object        \n",
      " 8   neighbourhood_group             60730 non-null  object        \n",
      " 9   neighbourhood                   60730 non-null  object        \n",
      " 10  latitude                        60730 non-null  object        \n",
      " 11  longitude                       60730 non-null  object        \n",
      " 12  room_type                       60730 non-null  object        \n",
      " 13  price                           60730 non-null  float64       \n",
      " 14  minimum_nights                  60730 non-null  float64       \n",
      " 15  number_of_reviews               60730 non-null  float64       \n",
      " 16  last_review                     60730 non-null  object        \n",
      " 17  reviews_per_month               60730 non-null  float64       \n",
      " 18  calculated_host_listings_count  60730 non-null  float64       \n",
      " 19  availability_365                60730 non-null  float64       \n",
      " 20  license                         60730 non-null  object        \n",
      " 21  host_response_time              60730 non-null  object        \n",
      " 22  host_response_rate              60730 non-null  object        \n",
      " 23  host_is_superhost               60730 non-null  object        \n",
      " 24  property_type                   60730 non-null  object        \n",
      " 25  accommodates                    60730 non-null  float64       \n",
      " 26  maximum_nights                  60730 non-null  float64       \n",
      " 27  first_review                    60730 non-null  object        \n",
      " 28  review_scores_rating            60730 non-null  float64       \n",
      " 29  review_scores_accuracy          60730 non-null  float64       \n",
      " 30  review_scores_cleanliness       60730 non-null  float64       \n",
      " 31  review_scores_checkin           60730 non-null  float64       \n",
      " 32  review_scores_communication     60730 non-null  float64       \n",
      " 33  review_scores_location          60730 non-null  float64       \n",
      " 34  review_scores_value             60730 non-null  float64       \n",
      " 35  instant_bookable                60730 non-null  object        \n",
      "dtypes: datetime64[ns](1), float64(15), object(20)\n",
      "memory usage: 17.4+ MB\n"
     ]
    }
   ],
   "source": [
    "listings_calendar = pd.merge(calendar_clean, listings, on='id', how='left')\n",
    "listings_calendar.info()"
   ]
  },
  {
   "cell_type": "code",
   "execution_count": 10,
   "id": "ceab5a7d",
   "metadata": {},
   "outputs": [
    {
     "data": {
      "text/html": [
       "<div>\n",
       "<style scoped>\n",
       "    .dataframe tbody tr th:only-of-type {\n",
       "        vertical-align: middle;\n",
       "    }\n",
       "\n",
       "    .dataframe tbody tr th {\n",
       "        vertical-align: top;\n",
       "    }\n",
       "\n",
       "    .dataframe thead th {\n",
       "        text-align: right;\n",
       "    }\n",
       "</style>\n",
       "<table border=\"1\" class=\"dataframe\">\n",
       "  <thead>\n",
       "    <tr style=\"text-align: right;\">\n",
       "      <th></th>\n",
       "      <th>neighbourhood_group</th>\n",
       "      <th>listing_counts</th>\n",
       "    </tr>\n",
       "  </thead>\n",
       "  <tbody>\n",
       "    <tr>\n",
       "      <th>0</th>\n",
       "      <td>Charlottenburg-Wilm.</td>\n",
       "      <td>5632</td>\n",
       "    </tr>\n",
       "    <tr>\n",
       "      <th>1</th>\n",
       "      <td>Friedrichshain-Kreuzberg</td>\n",
       "      <td>13915</td>\n",
       "    </tr>\n",
       "    <tr>\n",
       "      <th>2</th>\n",
       "      <td>Lichtenberg</td>\n",
       "      <td>352</td>\n",
       "    </tr>\n",
       "    <tr>\n",
       "      <th>3</th>\n",
       "      <td>Marzahn - Hellersdorf</td>\n",
       "      <td>352</td>\n",
       "    </tr>\n",
       "    <tr>\n",
       "      <th>4</th>\n",
       "      <td>Mitte</td>\n",
       "      <td>13728</td>\n",
       "    </tr>\n",
       "    <tr>\n",
       "      <th>5</th>\n",
       "      <td>Neukoelln</td>\n",
       "      <td>3872</td>\n",
       "    </tr>\n",
       "    <tr>\n",
       "      <th>6</th>\n",
       "      <td>Pankow</td>\n",
       "      <td>14080</td>\n",
       "    </tr>\n",
       "    <tr>\n",
       "      <th>7</th>\n",
       "      <td>Spandau</td>\n",
       "      <td>352</td>\n",
       "    </tr>\n",
       "    <tr>\n",
       "      <th>8</th>\n",
       "      <td>Steglitz - Zehlendorf</td>\n",
       "      <td>1408</td>\n",
       "    </tr>\n",
       "    <tr>\n",
       "      <th>9</th>\n",
       "      <td>Tempelhof - Schoeneberg</td>\n",
       "      <td>5631</td>\n",
       "    </tr>\n",
       "    <tr>\n",
       "      <th>10</th>\n",
       "      <td>Treptow - Koepenick</td>\n",
       "      <td>1408</td>\n",
       "    </tr>\n",
       "  </tbody>\n",
       "</table>\n",
       "</div>"
      ],
      "text/plain": [
       "         neighbourhood_group  listing_counts\n",
       "0       Charlottenburg-Wilm.            5632\n",
       "1   Friedrichshain-Kreuzberg           13915\n",
       "2                Lichtenberg             352\n",
       "3      Marzahn - Hellersdorf             352\n",
       "4                      Mitte           13728\n",
       "5                  Neukoelln            3872\n",
       "6                     Pankow           14080\n",
       "7                    Spandau             352\n",
       "8      Steglitz - Zehlendorf            1408\n",
       "9    Tempelhof - Schoeneberg            5631\n",
       "10       Treptow - Koepenick            1408"
      ]
     },
     "execution_count": 10,
     "metadata": {},
     "output_type": "execute_result"
    }
   ],
   "source": [
    "# Count listings per neighbourhood_group\n",
    "listing_counts = listings_calendar.reset_index().groupby('neighbourhood_group')['id'].count().reset_index()\n",
    "listing_counts.columns = ['neighbourhood_group', 'listing_counts']\n",
    "listing_counts\n"
   ]
  },
  {
   "cell_type": "markdown",
   "id": "80d262f2",
   "metadata": {},
   "source": [
    "# 4. Merge listings_calendar & Demographics"
   ]
  },
  {
   "cell_type": "code",
   "execution_count": 11,
   "id": "a2d43a0b",
   "metadata": {},
   "outputs": [
    {
     "data": {
      "text/plain": [
       "(11, 3)"
      ]
     },
     "execution_count": 11,
     "metadata": {},
     "output_type": "execute_result"
    }
   ],
   "source": [
    "demographics.shape"
   ]
  },
  {
   "cell_type": "code",
   "execution_count": 12,
   "id": "9d20261a",
   "metadata": {},
   "outputs": [
    {
     "data": {
      "text/html": [
       "<div>\n",
       "<style scoped>\n",
       "    .dataframe tbody tr th:only-of-type {\n",
       "        vertical-align: middle;\n",
       "    }\n",
       "\n",
       "    .dataframe tbody tr th {\n",
       "        vertical-align: top;\n",
       "    }\n",
       "\n",
       "    .dataframe thead th {\n",
       "        text-align: right;\n",
       "    }\n",
       "</style>\n",
       "<table border=\"1\" class=\"dataframe\">\n",
       "  <thead>\n",
       "    <tr style=\"text-align: right;\">\n",
       "      <th></th>\n",
       "      <th>neighbourhood_group</th>\n",
       "      <th>Population</th>\n",
       "      <th>Deficit housing</th>\n",
       "    </tr>\n",
       "  </thead>\n",
       "  <tbody>\n",
       "    <tr>\n",
       "      <th>0</th>\n",
       "      <td>Mitte</td>\n",
       "      <td>385748</td>\n",
       "      <td>-19725</td>\n",
       "    </tr>\n",
       "    <tr>\n",
       "      <th>1</th>\n",
       "      <td>Charlottenburg-Wilm.</td>\n",
       "      <td>343592</td>\n",
       "      <td>-21015</td>\n",
       "    </tr>\n",
       "    <tr>\n",
       "      <th>2</th>\n",
       "      <td>Friedrichshain-Kreuzberg</td>\n",
       "      <td>290386</td>\n",
       "      <td>-17675</td>\n",
       "    </tr>\n",
       "    <tr>\n",
       "      <th>3</th>\n",
       "      <td>Lichtenberg</td>\n",
       "      <td>294201</td>\n",
       "      <td>-167</td>\n",
       "    </tr>\n",
       "    <tr>\n",
       "      <th>4</th>\n",
       "      <td>Marzahn - Hellersdorf</td>\n",
       "      <td>269967</td>\n",
       "      <td>2805</td>\n",
       "    </tr>\n",
       "  </tbody>\n",
       "</table>\n",
       "</div>"
      ],
      "text/plain": [
       "        neighbourhood_group  Population  Deficit housing\n",
       "0                     Mitte      385748           -19725\n",
       "1      Charlottenburg-Wilm.      343592           -21015\n",
       "2  Friedrichshain-Kreuzberg      290386           -17675\n",
       "3               Lichtenberg      294201             -167\n",
       "4     Marzahn - Hellersdorf      269967             2805"
      ]
     },
     "execution_count": 12,
     "metadata": {},
     "output_type": "execute_result"
    }
   ],
   "source": [
    "demographics.head()"
   ]
  },
  {
   "cell_type": "code",
   "execution_count": 13,
   "id": "fb3f18ad",
   "metadata": {},
   "outputs": [
    {
     "data": {
      "text/html": [
       "<div>\n",
       "<style scoped>\n",
       "    .dataframe tbody tr th:only-of-type {\n",
       "        vertical-align: middle;\n",
       "    }\n",
       "\n",
       "    .dataframe tbody tr th {\n",
       "        vertical-align: top;\n",
       "    }\n",
       "\n",
       "    .dataframe thead th {\n",
       "        text-align: right;\n",
       "    }\n",
       "</style>\n",
       "<table border=\"1\" class=\"dataframe\">\n",
       "  <thead>\n",
       "    <tr style=\"text-align: right;\">\n",
       "      <th></th>\n",
       "      <th>id</th>\n",
       "      <th>date</th>\n",
       "      <th>month</th>\n",
       "      <th>available</th>\n",
       "      <th>season</th>\n",
       "      <th>name</th>\n",
       "      <th>host_id</th>\n",
       "      <th>host_name</th>\n",
       "      <th>neighbourhood_group</th>\n",
       "      <th>neighbourhood</th>\n",
       "      <th>...</th>\n",
       "      <th>review_scores_rating</th>\n",
       "      <th>review_scores_accuracy</th>\n",
       "      <th>review_scores_cleanliness</th>\n",
       "      <th>review_scores_checkin</th>\n",
       "      <th>review_scores_communication</th>\n",
       "      <th>review_scores_location</th>\n",
       "      <th>review_scores_value</th>\n",
       "      <th>instant_bookable</th>\n",
       "      <th>Population</th>\n",
       "      <th>Deficit housing</th>\n",
       "    </tr>\n",
       "  </thead>\n",
       "  <tbody>\n",
       "    <tr>\n",
       "      <th>0</th>\n",
       "      <td>22438</td>\n",
       "      <td>2024-01-01</td>\n",
       "      <td>January</td>\n",
       "      <td>f</td>\n",
       "      <td>Winter</td>\n",
       "      <td>Rental unit in Berlin ¬∑ ‚òÖ4.70 ¬∑ 2 bedrooms...</td>\n",
       "      <td>86159</td>\n",
       "      <td>Javier</td>\n",
       "      <td>Mitte</td>\n",
       "      <td>Brunnenstr. Sued</td>\n",
       "      <td>...</td>\n",
       "      <td>4.7</td>\n",
       "      <td>4.76</td>\n",
       "      <td>4.7</td>\n",
       "      <td>4.82</td>\n",
       "      <td>4.73</td>\n",
       "      <td>4.63</td>\n",
       "      <td>4.68</td>\n",
       "      <td>f</td>\n",
       "      <td>385748</td>\n",
       "      <td>-19725</td>\n",
       "    </tr>\n",
       "    <tr>\n",
       "      <th>1</th>\n",
       "      <td>22438</td>\n",
       "      <td>2024-02-01</td>\n",
       "      <td>January</td>\n",
       "      <td>t</td>\n",
       "      <td>Winter</td>\n",
       "      <td>Rental unit in Berlin ¬∑ ‚òÖ4.70 ¬∑ 2 bedrooms...</td>\n",
       "      <td>86159</td>\n",
       "      <td>Javier</td>\n",
       "      <td>Mitte</td>\n",
       "      <td>Brunnenstr. Sued</td>\n",
       "      <td>...</td>\n",
       "      <td>4.7</td>\n",
       "      <td>4.76</td>\n",
       "      <td>4.7</td>\n",
       "      <td>4.82</td>\n",
       "      <td>4.73</td>\n",
       "      <td>4.63</td>\n",
       "      <td>4.68</td>\n",
       "      <td>f</td>\n",
       "      <td>385748</td>\n",
       "      <td>-19725</td>\n",
       "    </tr>\n",
       "    <tr>\n",
       "      <th>2</th>\n",
       "      <td>22438</td>\n",
       "      <td>2024-03-01</td>\n",
       "      <td>January</td>\n",
       "      <td>t</td>\n",
       "      <td>Winter</td>\n",
       "      <td>Rental unit in Berlin ¬∑ ‚òÖ4.70 ¬∑ 2 bedrooms...</td>\n",
       "      <td>86159</td>\n",
       "      <td>Javier</td>\n",
       "      <td>Mitte</td>\n",
       "      <td>Brunnenstr. Sued</td>\n",
       "      <td>...</td>\n",
       "      <td>4.7</td>\n",
       "      <td>4.76</td>\n",
       "      <td>4.7</td>\n",
       "      <td>4.82</td>\n",
       "      <td>4.73</td>\n",
       "      <td>4.63</td>\n",
       "      <td>4.68</td>\n",
       "      <td>f</td>\n",
       "      <td>385748</td>\n",
       "      <td>-19725</td>\n",
       "    </tr>\n",
       "    <tr>\n",
       "      <th>3</th>\n",
       "      <td>22438</td>\n",
       "      <td>2024-04-01</td>\n",
       "      <td>January</td>\n",
       "      <td>t</td>\n",
       "      <td>Winter</td>\n",
       "      <td>Rental unit in Berlin ¬∑ ‚òÖ4.70 ¬∑ 2 bedrooms...</td>\n",
       "      <td>86159</td>\n",
       "      <td>Javier</td>\n",
       "      <td>Mitte</td>\n",
       "      <td>Brunnenstr. Sued</td>\n",
       "      <td>...</td>\n",
       "      <td>4.7</td>\n",
       "      <td>4.76</td>\n",
       "      <td>4.7</td>\n",
       "      <td>4.82</td>\n",
       "      <td>4.73</td>\n",
       "      <td>4.63</td>\n",
       "      <td>4.68</td>\n",
       "      <td>f</td>\n",
       "      <td>385748</td>\n",
       "      <td>-19725</td>\n",
       "    </tr>\n",
       "    <tr>\n",
       "      <th>4</th>\n",
       "      <td>22438</td>\n",
       "      <td>2024-05-01</td>\n",
       "      <td>January</td>\n",
       "      <td>t</td>\n",
       "      <td>Winter</td>\n",
       "      <td>Rental unit in Berlin ¬∑ ‚òÖ4.70 ¬∑ 2 bedrooms...</td>\n",
       "      <td>86159</td>\n",
       "      <td>Javier</td>\n",
       "      <td>Mitte</td>\n",
       "      <td>Brunnenstr. Sued</td>\n",
       "      <td>...</td>\n",
       "      <td>4.7</td>\n",
       "      <td>4.76</td>\n",
       "      <td>4.7</td>\n",
       "      <td>4.82</td>\n",
       "      <td>4.73</td>\n",
       "      <td>4.63</td>\n",
       "      <td>4.68</td>\n",
       "      <td>f</td>\n",
       "      <td>385748</td>\n",
       "      <td>-19725</td>\n",
       "    </tr>\n",
       "  </tbody>\n",
       "</table>\n",
       "<p>5 rows × 38 columns</p>\n",
       "</div>"
      ],
      "text/plain": [
       "      id       date    month available  season  \\\n",
       "0  22438 2024-01-01  January         f  Winter   \n",
       "1  22438 2024-02-01  January         t  Winter   \n",
       "2  22438 2024-03-01  January         t  Winter   \n",
       "3  22438 2024-04-01  January         t  Winter   \n",
       "4  22438 2024-05-01  January         t  Winter   \n",
       "\n",
       "                                                name host_id host_name  \\\n",
       "0  Rental unit in Berlin ¬∑ ‚òÖ4.70 ¬∑ 2 bedrooms...   86159    Javier   \n",
       "1  Rental unit in Berlin ¬∑ ‚òÖ4.70 ¬∑ 2 bedrooms...   86159    Javier   \n",
       "2  Rental unit in Berlin ¬∑ ‚òÖ4.70 ¬∑ 2 bedrooms...   86159    Javier   \n",
       "3  Rental unit in Berlin ¬∑ ‚òÖ4.70 ¬∑ 2 bedrooms...   86159    Javier   \n",
       "4  Rental unit in Berlin ¬∑ ‚òÖ4.70 ¬∑ 2 bedrooms...   86159    Javier   \n",
       "\n",
       "  neighbourhood_group     neighbourhood  ... review_scores_rating  \\\n",
       "0               Mitte  Brunnenstr. Sued  ...                  4.7   \n",
       "1               Mitte  Brunnenstr. Sued  ...                  4.7   \n",
       "2               Mitte  Brunnenstr. Sued  ...                  4.7   \n",
       "3               Mitte  Brunnenstr. Sued  ...                  4.7   \n",
       "4               Mitte  Brunnenstr. Sued  ...                  4.7   \n",
       "\n",
       "  review_scores_accuracy review_scores_cleanliness  review_scores_checkin  \\\n",
       "0                   4.76                       4.7                   4.82   \n",
       "1                   4.76                       4.7                   4.82   \n",
       "2                   4.76                       4.7                   4.82   \n",
       "3                   4.76                       4.7                   4.82   \n",
       "4                   4.76                       4.7                   4.82   \n",
       "\n",
       "   review_scores_communication  review_scores_location review_scores_value  \\\n",
       "0                         4.73                    4.63                4.68   \n",
       "1                         4.73                    4.63                4.68   \n",
       "2                         4.73                    4.63                4.68   \n",
       "3                         4.73                    4.63                4.68   \n",
       "4                         4.73                    4.63                4.68   \n",
       "\n",
       "   instant_bookable  Population  Deficit housing  \n",
       "0                 f      385748           -19725  \n",
       "1                 f      385748           -19725  \n",
       "2                 f      385748           -19725  \n",
       "3                 f      385748           -19725  \n",
       "4                 f      385748           -19725  \n",
       "\n",
       "[5 rows x 38 columns]"
      ]
     },
     "execution_count": 13,
     "metadata": {},
     "output_type": "execute_result"
    }
   ],
   "source": [
    "listings_calendar_demogr = pd.merge(listings_calendar, demographics, on='neighbourhood_group', how='right')\n",
    "listings_calendar_demogr.head()"
   ]
  },
  {
   "cell_type": "markdown",
   "id": "dc8e9458",
   "metadata": {},
   "source": [
    "# 4. Data Wrangling"
   ]
  },
  {
   "cell_type": "markdown",
   "id": "a7aa83b2",
   "metadata": {},
   "source": [
    "## 4.1 Dropping Columns"
   ]
  },
  {
   "cell_type": "code",
   "execution_count": 14,
   "id": "edf81633",
   "metadata": {},
   "outputs": [
    {
     "data": {
      "text/plain": [
       "(60730, 37)"
      ]
     },
     "execution_count": 14,
     "metadata": {},
     "output_type": "execute_result"
    }
   ],
   "source": [
    "# Delete unnecessary columns to reduce volume\n",
    "columns_to_drop = ['reviews_per_month', ]\n",
    "listings_calendar_demogr = listings_calendar_demogr.drop(columns=columns_to_drop)\n",
    "listings_calendar_demogr.shape"
   ]
  },
  {
   "cell_type": "markdown",
   "id": "e59923cb",
   "metadata": {},
   "source": [
    "## 4.2 Mixed Data Type"
   ]
  },
  {
   "cell_type": "code",
   "execution_count": 15,
   "id": "ed3ec8f9",
   "metadata": {},
   "outputs": [],
   "source": [
    "for col in listings_calendar_demogr.columns.tolist():\n",
    "  weird = (listings_calendar_demogr[[col]].map(type) != listings_calendar_demogr[[col]].iloc[0].apply(type)).any(axis = 1)\n",
    "  if len (listings_calendar_demogr[weird]) > 0:\n",
    "    print (col)"
   ]
  },
  {
   "cell_type": "code",
   "execution_count": 16,
   "id": "b5052600",
   "metadata": {},
   "outputs": [],
   "source": [
    "# Convert mixed type into string\n",
    "columns_to_convert = ['name', 'host_id', 'host_name', 'neighbourhood_group', 'neighbourhood', 'latitude', 'longitude', 'room_type', 'last_review', 'license', 'host_response_time', 'host_response_rate', 'host_is_superhost', 'property_type', 'first_review', 'instant_bookable']\n",
    "listings_calendar_demogr[columns_to_convert] = listings_calendar_demogr[columns_to_convert].astype(str)"
   ]
  },
  {
   "cell_type": "markdown",
   "id": "40ed36db",
   "metadata": {},
   "source": [
    "# 5. Consistency Checks"
   ]
  },
  {
   "cell_type": "markdown",
   "id": "e7a564cb",
   "metadata": {},
   "source": [
    "## 5.1 Missing Values"
   ]
  },
  {
   "cell_type": "code",
   "execution_count": 17,
   "id": "95599efd",
   "metadata": {},
   "outputs": [
    {
     "data": {
      "text/plain": [
       "id                                0\n",
       "date                              0\n",
       "month                             0\n",
       "available                         0\n",
       "season                            0\n",
       "name                              0\n",
       "host_id                           0\n",
       "host_name                         0\n",
       "neighbourhood_group               0\n",
       "neighbourhood                     0\n",
       "latitude                          0\n",
       "longitude                         0\n",
       "room_type                         0\n",
       "price                             0\n",
       "minimum_nights                    0\n",
       "number_of_reviews                 0\n",
       "last_review                       0\n",
       "calculated_host_listings_count    0\n",
       "availability_365                  0\n",
       "license                           0\n",
       "host_response_time                0\n",
       "host_response_rate                0\n",
       "host_is_superhost                 0\n",
       "property_type                     0\n",
       "accommodates                      0\n",
       "maximum_nights                    0\n",
       "first_review                      0\n",
       "review_scores_rating              0\n",
       "review_scores_accuracy            0\n",
       "review_scores_cleanliness         0\n",
       "review_scores_checkin             0\n",
       "review_scores_communication       0\n",
       "review_scores_location            0\n",
       "review_scores_value               0\n",
       "instant_bookable                  0\n",
       "Population                        0\n",
       "Deficit housing                   0\n",
       "dtype: int64"
      ]
     },
     "execution_count": 17,
     "metadata": {},
     "output_type": "execute_result"
    }
   ],
   "source": [
    "listings_calendar_demogr.isnull().sum()"
   ]
  },
  {
   "cell_type": "code",
   "execution_count": 18,
   "id": "1012697e",
   "metadata": {},
   "outputs": [],
   "source": [
    "listings_calendar_demogr.dropna(subset = ['minimum_nights', 'price', 'number_of_reviews', 'calculated_host_listings_count', 'availability_365', 'maximum_nights', 'accommodates', 'review_scores_rating', 'review_scores_accuracy', 'review_scores_cleanliness', 'review_scores_checkin', 'review_scores_communication', 'review_scores_location', 'review_scores_value'], inplace = True)"
   ]
  },
  {
   "cell_type": "code",
   "execution_count": 19,
   "id": "609abaea",
   "metadata": {},
   "outputs": [
    {
     "data": {
      "text/plain": [
       "(60730, 37)"
      ]
     },
     "execution_count": 19,
     "metadata": {},
     "output_type": "execute_result"
    }
   ],
   "source": [
    "listings_calendar_demogr.shape"
   ]
  },
  {
   "cell_type": "markdown",
   "id": "40b6e91a",
   "metadata": {},
   "source": [
    "## 5.2 Duplicates"
   ]
  },
  {
   "cell_type": "code",
   "execution_count": 20,
   "id": "84272748",
   "metadata": {},
   "outputs": [
    {
     "data": {
      "text/html": [
       "<div>\n",
       "<style scoped>\n",
       "    .dataframe tbody tr th:only-of-type {\n",
       "        vertical-align: middle;\n",
       "    }\n",
       "\n",
       "    .dataframe tbody tr th {\n",
       "        vertical-align: top;\n",
       "    }\n",
       "\n",
       "    .dataframe thead th {\n",
       "        text-align: right;\n",
       "    }\n",
       "</style>\n",
       "<table border=\"1\" class=\"dataframe\">\n",
       "  <thead>\n",
       "    <tr style=\"text-align: right;\">\n",
       "      <th></th>\n",
       "      <th>id</th>\n",
       "      <th>date</th>\n",
       "      <th>month</th>\n",
       "      <th>available</th>\n",
       "      <th>season</th>\n",
       "      <th>name</th>\n",
       "      <th>host_id</th>\n",
       "      <th>host_name</th>\n",
       "      <th>neighbourhood_group</th>\n",
       "      <th>neighbourhood</th>\n",
       "      <th>...</th>\n",
       "      <th>review_scores_rating</th>\n",
       "      <th>review_scores_accuracy</th>\n",
       "      <th>review_scores_cleanliness</th>\n",
       "      <th>review_scores_checkin</th>\n",
       "      <th>review_scores_communication</th>\n",
       "      <th>review_scores_location</th>\n",
       "      <th>review_scores_value</th>\n",
       "      <th>instant_bookable</th>\n",
       "      <th>Population</th>\n",
       "      <th>Deficit housing</th>\n",
       "    </tr>\n",
       "  </thead>\n",
       "  <tbody>\n",
       "  </tbody>\n",
       "</table>\n",
       "<p>0 rows × 37 columns</p>\n",
       "</div>"
      ],
      "text/plain": [
       "Empty DataFrame\n",
       "Columns: [id, date, month, available, season, name, host_id, host_name, neighbourhood_group, neighbourhood, latitude, longitude, room_type, price, minimum_nights, number_of_reviews, last_review, calculated_host_listings_count, availability_365, license, host_response_time, host_response_rate, host_is_superhost, property_type, accommodates, maximum_nights, first_review, review_scores_rating, review_scores_accuracy, review_scores_cleanliness, review_scores_checkin, review_scores_communication, review_scores_location, review_scores_value, instant_bookable, Population, Deficit housing]\n",
       "Index: []\n",
       "\n",
       "[0 rows x 37 columns]"
      ]
     },
     "execution_count": 20,
     "metadata": {},
     "output_type": "execute_result"
    }
   ],
   "source": [
    "listings_calendar_demogr_dups = listings_calendar_demogr[listings_calendar_demogr.duplicated()]\n",
    "listings_calendar_demogr_dups"
   ]
  },
  {
   "cell_type": "code",
   "execution_count": 21,
   "id": "68fec53e",
   "metadata": {},
   "outputs": [
    {
     "data": {
      "text/plain": [
       "Index(['id', 'date', 'month', 'available', 'season', 'name', 'host_id',\n",
       "       'host_name', 'neighbourhood_group', 'neighbourhood', 'latitude',\n",
       "       'longitude', 'room_type', 'price', 'minimum_nights',\n",
       "       'number_of_reviews', 'last_review', 'calculated_host_listings_count',\n",
       "       'availability_365', 'license', 'host_response_time',\n",
       "       'host_response_rate', 'host_is_superhost', 'property_type',\n",
       "       'accommodates', 'maximum_nights', 'first_review',\n",
       "       'review_scores_rating', 'review_scores_accuracy',\n",
       "       'review_scores_cleanliness', 'review_scores_checkin',\n",
       "       'review_scores_communication', 'review_scores_location',\n",
       "       'review_scores_value', 'instant_bookable', 'Population',\n",
       "       'Deficit housing'],\n",
       "      dtype='object')"
      ]
     },
     "execution_count": 21,
     "metadata": {},
     "output_type": "execute_result"
    }
   ],
   "source": [
    "listings_calendar_demogr.columns"
   ]
  },
  {
   "cell_type": "code",
   "execution_count": 22,
   "id": "4cf798ea",
   "metadata": {},
   "outputs": [
    {
     "data": {
      "text/plain": [
       "(60730, 37)"
      ]
     },
     "execution_count": 22,
     "metadata": {},
     "output_type": "execute_result"
    }
   ],
   "source": [
    "listings_calendar_demogr.shape"
   ]
  },
  {
   "cell_type": "markdown",
   "id": "c187aefb",
   "metadata": {},
   "source": [
    "# 6. Export final dataset"
   ]
  },
  {
   "cell_type": "code",
   "execution_count": 23,
   "id": "a8d6feb1",
   "metadata": {},
   "outputs": [],
   "source": [
    "listings_calendar_demogr.to_pickle(os.path.join(path, '02 Data','Prepared Data', 'Final_df.pkl'))"
   ]
  },
  {
   "cell_type": "code",
   "execution_count": 24,
   "id": "7d19e51c",
   "metadata": {},
   "outputs": [],
   "source": [
    "listings_calendar_demogr.to_excel(os.path.join(path, '02 Data','Prepared Data', 'Final_df.xlsx'))"
   ]
  },
  {
   "cell_type": "code",
   "execution_count": null,
   "id": "d324faee",
   "metadata": {},
   "outputs": [],
   "source": []
  }
 ],
 "metadata": {
  "kernelspec": {
   "display_name": "Python 3 (ipykernel)",
   "language": "python",
   "name": "python3"
  },
  "language_info": {
   "codemirror_mode": {
    "name": "ipython",
    "version": 3
   },
   "file_extension": ".py",
   "mimetype": "text/x-python",
   "name": "python",
   "nbconvert_exporter": "python",
   "pygments_lexer": "ipython3",
   "version": "3.11.5"
  }
 },
 "nbformat": 4,
 "nbformat_minor": 5
}
