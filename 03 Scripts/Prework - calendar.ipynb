{
 "cells": [
  {
   "cell_type": "markdown",
   "id": "73be827f",
   "metadata": {},
   "source": [
    "# Table on Content\n",
    "    1. Importing Libraries & dataset 'calendar'\n",
    "    2. Dataset Exploration\n",
    "    3. Data Wrangling\n",
    "      3.1 Dropping Columns\n",
    "      3.2 Mixed Data Types\n",
    "      3.3 Change Data Types\n",
    "    4. Consistency Checks: Duplicates and Missing Values\n",
    "      4.1 Missing Values \n",
    "      4.2 Duplicates       \n",
    "    5. Deriving New Variables: Season segmentation\n",
    "    6. Export final dataset"
   ]
  },
  {
   "cell_type": "markdown",
   "id": "34670236",
   "metadata": {},
   "source": [
    "# 1. Importing Libraries & dataset 'calendar'"
   ]
  },
  {
   "cell_type": "code",
   "execution_count": 1,
   "id": "a38a8a35",
   "metadata": {},
   "outputs": [],
   "source": [
    "# Import libraries\n",
    "import pandas as pd\n",
    "import numpy as np\n",
    "import os\n",
    "import matplotlib.pyplot as plt\n",
    "import seaborn as sns\n",
    "import scipy"
   ]
  },
  {
   "cell_type": "code",
   "execution_count": 2,
   "id": "ca76931e",
   "metadata": {},
   "outputs": [],
   "source": [
    "# Create path\n",
    "path = r'/Users/Dulce/Dec2024 - Airbnb Berlin'"
   ]
  },
  {
   "cell_type": "code",
   "execution_count": 3,
   "id": "3285b8a8",
   "metadata": {
    "scrolled": true
   },
   "outputs": [
    {
     "name": "stderr",
     "output_type": "stream",
     "text": [
      "/var/folders/bq/9pw947f52fdd4s0pghmqxh580000gn/T/ipykernel_2324/2966802610.py:2: UserWarning: Could not infer format, so each element will be parsed individually, falling back to `dateutil`. To ensure parsing is consistent and as-expected, please specify a format.\n",
      "  calendar = pd.read_csv(os.path.join(path, '02 Data', 'Original Data', 'calendar.csv'), sep=\";\", parse_dates=['date'])\n"
     ]
    }
   ],
   "source": [
    "# Import 'calendar'\n",
    "calendar = pd.read_csv(os.path.join(path, '02 Data', 'Original Data', 'calendar.csv'), sep=\";\", parse_dates=['date'])"
   ]
  },
  {
   "cell_type": "code",
   "execution_count": 4,
   "id": "222eb823",
   "metadata": {},
   "outputs": [],
   "source": [
    "calendar.reset_index(drop=True, inplace=True)\n",
    "calendar.index = range(1, len(calendar) + 1)"
   ]
  },
  {
   "cell_type": "markdown",
   "id": "2478b89f",
   "metadata": {},
   "source": [
    "# 2. Dataset Exploration"
   ]
  },
  {
   "cell_type": "code",
   "execution_count": 5,
   "id": "48252626",
   "metadata": {},
   "outputs": [
    {
     "data": {
      "text/plain": [
       "(63194, 5)"
      ]
     },
     "execution_count": 5,
     "metadata": {},
     "output_type": "execute_result"
    }
   ],
   "source": [
    "calendar.shape"
   ]
  },
  {
   "cell_type": "code",
   "execution_count": 6,
   "id": "8f5c6301",
   "metadata": {
    "scrolled": true
   },
   "outputs": [
    {
     "data": {
      "text/html": [
       "<div>\n",
       "<style scoped>\n",
       "    .dataframe tbody tr th:only-of-type {\n",
       "        vertical-align: middle;\n",
       "    }\n",
       "\n",
       "    .dataframe tbody tr th {\n",
       "        vertical-align: top;\n",
       "    }\n",
       "\n",
       "    .dataframe thead th {\n",
       "        text-align: right;\n",
       "    }\n",
       "</style>\n",
       "<table border=\"1\" class=\"dataframe\">\n",
       "  <thead>\n",
       "    <tr style=\"text-align: right;\">\n",
       "      <th></th>\n",
       "      <th>id</th>\n",
       "      <th>date</th>\n",
       "      <th>month</th>\n",
       "      <th>available</th>\n",
       "      <th>adjusted_price</th>\n",
       "    </tr>\n",
       "  </thead>\n",
       "  <tbody>\n",
       "    <tr>\n",
       "      <th>1</th>\n",
       "      <td>3176</td>\n",
       "      <td>2024-01-01</td>\n",
       "      <td>January</td>\n",
       "      <td>f</td>\n",
       "      <td>NaN</td>\n",
       "    </tr>\n",
       "    <tr>\n",
       "      <th>2</th>\n",
       "      <td>3176</td>\n",
       "      <td>2024-02-01</td>\n",
       "      <td>January</td>\n",
       "      <td>f</td>\n",
       "      <td>NaN</td>\n",
       "    </tr>\n",
       "    <tr>\n",
       "      <th>3</th>\n",
       "      <td>3176</td>\n",
       "      <td>2024-03-01</td>\n",
       "      <td>January</td>\n",
       "      <td>f</td>\n",
       "      <td>NaN</td>\n",
       "    </tr>\n",
       "    <tr>\n",
       "      <th>4</th>\n",
       "      <td>3176</td>\n",
       "      <td>2024-04-01</td>\n",
       "      <td>January</td>\n",
       "      <td>f</td>\n",
       "      <td>NaN</td>\n",
       "    </tr>\n",
       "    <tr>\n",
       "      <th>5</th>\n",
       "      <td>3176</td>\n",
       "      <td>2024-05-01</td>\n",
       "      <td>January</td>\n",
       "      <td>f</td>\n",
       "      <td>NaN</td>\n",
       "    </tr>\n",
       "  </tbody>\n",
       "</table>\n",
       "</div>"
      ],
      "text/plain": [
       "     id       date    month available  adjusted_price\n",
       "1  3176 2024-01-01  January         f             NaN\n",
       "2  3176 2024-02-01  January         f             NaN\n",
       "3  3176 2024-03-01  January         f             NaN\n",
       "4  3176 2024-04-01  January         f             NaN\n",
       "5  3176 2024-05-01  January         f             NaN"
      ]
     },
     "execution_count": 6,
     "metadata": {},
     "output_type": "execute_result"
    }
   ],
   "source": [
    "calendar.head()"
   ]
  },
  {
   "cell_type": "code",
   "execution_count": 7,
   "id": "b87b426f",
   "metadata": {},
   "outputs": [
    {
     "data": {
      "text/html": [
       "<div>\n",
       "<style scoped>\n",
       "    .dataframe tbody tr th:only-of-type {\n",
       "        vertical-align: middle;\n",
       "    }\n",
       "\n",
       "    .dataframe tbody tr th {\n",
       "        vertical-align: top;\n",
       "    }\n",
       "\n",
       "    .dataframe thead th {\n",
       "        text-align: right;\n",
       "    }\n",
       "</style>\n",
       "<table border=\"1\" class=\"dataframe\">\n",
       "  <thead>\n",
       "    <tr style=\"text-align: right;\">\n",
       "      <th></th>\n",
       "      <th>id</th>\n",
       "      <th>date</th>\n",
       "      <th>month</th>\n",
       "      <th>available</th>\n",
       "      <th>adjusted_price</th>\n",
       "    </tr>\n",
       "  </thead>\n",
       "  <tbody>\n",
       "    <tr>\n",
       "      <th>63190</th>\n",
       "      <td>363454</td>\n",
       "      <td>2024-01-07</td>\n",
       "      <td>July</td>\n",
       "      <td>t</td>\n",
       "      <td>NaN</td>\n",
       "    </tr>\n",
       "    <tr>\n",
       "      <th>63191</th>\n",
       "      <td>363454</td>\n",
       "      <td>2024-02-07</td>\n",
       "      <td>July</td>\n",
       "      <td>t</td>\n",
       "      <td>NaN</td>\n",
       "    </tr>\n",
       "    <tr>\n",
       "      <th>63192</th>\n",
       "      <td>363454</td>\n",
       "      <td>2024-03-07</td>\n",
       "      <td>July</td>\n",
       "      <td>t</td>\n",
       "      <td>NaN</td>\n",
       "    </tr>\n",
       "    <tr>\n",
       "      <th>63193</th>\n",
       "      <td>363454</td>\n",
       "      <td>2024-04-07</td>\n",
       "      <td>July</td>\n",
       "      <td>t</td>\n",
       "      <td>NaN</td>\n",
       "    </tr>\n",
       "    <tr>\n",
       "      <th>63194</th>\n",
       "      <td>363454</td>\n",
       "      <td>2024-05-07</td>\n",
       "      <td>July</td>\n",
       "      <td>t</td>\n",
       "      <td>NaN</td>\n",
       "    </tr>\n",
       "  </tbody>\n",
       "</table>\n",
       "</div>"
      ],
      "text/plain": [
       "           id       date month available  adjusted_price\n",
       "63190  363454 2024-01-07  July         t             NaN\n",
       "63191  363454 2024-02-07  July         t             NaN\n",
       "63192  363454 2024-03-07  July         t             NaN\n",
       "63193  363454 2024-04-07  July         t             NaN\n",
       "63194  363454 2024-05-07  July         t             NaN"
      ]
     },
     "execution_count": 7,
     "metadata": {},
     "output_type": "execute_result"
    }
   ],
   "source": [
    "calendar.tail()"
   ]
  },
  {
   "cell_type": "code",
   "execution_count": 8,
   "id": "ca0aca16",
   "metadata": {},
   "outputs": [
    {
     "data": {
      "text/plain": [
       "Index(['id', 'date', 'month', 'available', 'adjusted_price'], dtype='object')"
      ]
     },
     "execution_count": 8,
     "metadata": {},
     "output_type": "execute_result"
    }
   ],
   "source": [
    "calendar.columns"
   ]
  },
  {
   "cell_type": "code",
   "execution_count": 9,
   "id": "b67e644a",
   "metadata": {},
   "outputs": [
    {
     "name": "stdout",
     "output_type": "stream",
     "text": [
      "<class 'pandas.core.frame.DataFrame'>\n",
      "RangeIndex: 63194 entries, 1 to 63194\n",
      "Data columns (total 5 columns):\n",
      " #   Column          Non-Null Count  Dtype         \n",
      "---  ------          --------------  -----         \n",
      " 0   id              63194 non-null  int64         \n",
      " 1   date            63194 non-null  datetime64[ns]\n",
      " 2   month           63194 non-null  object        \n",
      " 3   available       63194 non-null  object        \n",
      " 4   adjusted_price  0 non-null      float64       \n",
      "dtypes: datetime64[ns](1), float64(1), int64(1), object(2)\n",
      "memory usage: 2.4+ MB\n"
     ]
    }
   ],
   "source": [
    "calendar.info()"
   ]
  },
  {
   "cell_type": "code",
   "execution_count": 10,
   "id": "eceae175",
   "metadata": {
    "scrolled": true
   },
   "outputs": [
    {
     "data": {
      "text/html": [
       "<div>\n",
       "<style scoped>\n",
       "    .dataframe tbody tr th:only-of-type {\n",
       "        vertical-align: middle;\n",
       "    }\n",
       "\n",
       "    .dataframe tbody tr th {\n",
       "        vertical-align: top;\n",
       "    }\n",
       "\n",
       "    .dataframe thead th {\n",
       "        text-align: right;\n",
       "    }\n",
       "</style>\n",
       "<table border=\"1\" class=\"dataframe\">\n",
       "  <thead>\n",
       "    <tr style=\"text-align: right;\">\n",
       "      <th></th>\n",
       "      <th>id</th>\n",
       "      <th>date</th>\n",
       "      <th>adjusted_price</th>\n",
       "    </tr>\n",
       "  </thead>\n",
       "  <tbody>\n",
       "    <tr>\n",
       "      <th>count</th>\n",
       "      <td>63194.000000</td>\n",
       "      <td>63194</td>\n",
       "      <td>0.0</td>\n",
       "    </tr>\n",
       "    <tr>\n",
       "      <th>mean</th>\n",
       "      <td>196767.419090</td>\n",
       "      <td>2024-06-24 08:16:16.649681920</td>\n",
       "      <td>NaN</td>\n",
       "    </tr>\n",
       "    <tr>\n",
       "      <th>min</th>\n",
       "      <td>3176.000000</td>\n",
       "      <td>2024-01-01 00:00:00</td>\n",
       "      <td>NaN</td>\n",
       "    </tr>\n",
       "    <tr>\n",
       "      <th>25%</th>\n",
       "      <td>127708.000000</td>\n",
       "      <td>2024-03-28 00:00:00</td>\n",
       "      <td>NaN</td>\n",
       "    </tr>\n",
       "    <tr>\n",
       "      <th>50%</th>\n",
       "      <td>214518.000000</td>\n",
       "      <td>2024-06-24 00:00:00</td>\n",
       "      <td>NaN</td>\n",
       "    </tr>\n",
       "    <tr>\n",
       "      <th>75%</th>\n",
       "      <td>257373.000000</td>\n",
       "      <td>2024-09-20 00:00:00</td>\n",
       "      <td>NaN</td>\n",
       "    </tr>\n",
       "    <tr>\n",
       "      <th>max</th>\n",
       "      <td>363454.000000</td>\n",
       "      <td>2024-12-17 00:00:00</td>\n",
       "      <td>NaN</td>\n",
       "    </tr>\n",
       "    <tr>\n",
       "      <th>std</th>\n",
       "      <td>97941.424702</td>\n",
       "      <td>NaN</td>\n",
       "      <td>NaN</td>\n",
       "    </tr>\n",
       "  </tbody>\n",
       "</table>\n",
       "</div>"
      ],
      "text/plain": [
       "                  id                           date  adjusted_price\n",
       "count   63194.000000                          63194             0.0\n",
       "mean   196767.419090  2024-06-24 08:16:16.649681920             NaN\n",
       "min      3176.000000            2024-01-01 00:00:00             NaN\n",
       "25%    127708.000000            2024-03-28 00:00:00             NaN\n",
       "50%    214518.000000            2024-06-24 00:00:00             NaN\n",
       "75%    257373.000000            2024-09-20 00:00:00             NaN\n",
       "max    363454.000000            2024-12-17 00:00:00             NaN\n",
       "std     97941.424702                            NaN             NaN"
      ]
     },
     "execution_count": 10,
     "metadata": {},
     "output_type": "execute_result"
    }
   ],
   "source": [
    "calendar.describe()"
   ]
  },
  {
   "cell_type": "markdown",
   "id": "d4b2b21f",
   "metadata": {},
   "source": [
    "No potential outliers found."
   ]
  },
  {
   "cell_type": "markdown",
   "id": "8b685597",
   "metadata": {},
   "source": [
    "# 3. Data Wrangling"
   ]
  },
  {
   "cell_type": "markdown",
   "id": "c70a29b0",
   "metadata": {},
   "source": [
    "## 3.1 Dropping Columns"
   ]
  },
  {
   "cell_type": "code",
   "execution_count": 11,
   "id": "25763c4c",
   "metadata": {},
   "outputs": [
    {
     "data": {
      "text/plain": [
       "(63194, 4)"
      ]
     },
     "execution_count": 11,
     "metadata": {},
     "output_type": "execute_result"
    }
   ],
   "source": [
    "# Delete unnecessary columns to reduce volume\n",
    "columns_to_drop = ['adjusted_price']\n",
    "calendar = calendar.drop(columns=columns_to_drop)\n",
    "calendar.shape"
   ]
  },
  {
   "cell_type": "markdown",
   "id": "d0a1c6f5",
   "metadata": {},
   "source": [
    "## 3.2 Mixed Data Type"
   ]
  },
  {
   "cell_type": "code",
   "execution_count": 12,
   "id": "108d9de9",
   "metadata": {},
   "outputs": [],
   "source": [
    "for col in calendar.columns.tolist():\n",
    "  weird = (calendar[[col]].map(type) != calendar[[col]].iloc[0].apply(type)).any(axis = 1)\n",
    "  if len (calendar[weird]) > 0:\n",
    "    print (col)"
   ]
  },
  {
   "cell_type": "markdown",
   "id": "020bc172",
   "metadata": {},
   "source": [
    "No mixed data type found."
   ]
  },
  {
   "cell_type": "markdown",
   "id": "34ca65bf",
   "metadata": {},
   "source": [
    "## 3.3 Data Type changes"
   ]
  },
  {
   "cell_type": "code",
   "execution_count": 13,
   "id": "ae8136e2",
   "metadata": {},
   "outputs": [
    {
     "data": {
      "text/plain": [
       "dtype('O')"
      ]
     },
     "execution_count": 13,
     "metadata": {},
     "output_type": "execute_result"
    }
   ],
   "source": [
    "# Change id data type to string\n",
    "calendar['id'] = calendar['id'].astype('str')\n",
    "calendar['id'].dtype"
   ]
  },
  {
   "cell_type": "markdown",
   "id": "3a22b638",
   "metadata": {},
   "source": [
    "# 4. Consistency Checks: Duplicates and Missing Values"
   ]
  },
  {
   "cell_type": "markdown",
   "id": "8897a9fc",
   "metadata": {},
   "source": [
    "## 4.1 Missing Values"
   ]
  },
  {
   "cell_type": "code",
   "execution_count": 14,
   "id": "27a9baa8",
   "metadata": {},
   "outputs": [
    {
     "data": {
      "text/plain": [
       "id           0\n",
       "date         0\n",
       "month        0\n",
       "available    0\n",
       "dtype: int64"
      ]
     },
     "execution_count": 14,
     "metadata": {},
     "output_type": "execute_result"
    }
   ],
   "source": [
    "calendar.isnull().sum()"
   ]
  },
  {
   "cell_type": "markdown",
   "id": "27f94a5d",
   "metadata": {},
   "source": [
    "No missing values found."
   ]
  },
  {
   "cell_type": "markdown",
   "id": "f9396ee4",
   "metadata": {},
   "source": [
    "## 4.2 Duplicates"
   ]
  },
  {
   "cell_type": "code",
   "execution_count": 15,
   "id": "4512d2aa",
   "metadata": {},
   "outputs": [
    {
     "data": {
      "text/html": [
       "<div>\n",
       "<style scoped>\n",
       "    .dataframe tbody tr th:only-of-type {\n",
       "        vertical-align: middle;\n",
       "    }\n",
       "\n",
       "    .dataframe tbody tr th {\n",
       "        vertical-align: top;\n",
       "    }\n",
       "\n",
       "    .dataframe thead th {\n",
       "        text-align: right;\n",
       "    }\n",
       "</style>\n",
       "<table border=\"1\" class=\"dataframe\">\n",
       "  <thead>\n",
       "    <tr style=\"text-align: right;\">\n",
       "      <th></th>\n",
       "      <th>id</th>\n",
       "      <th>date</th>\n",
       "      <th>month</th>\n",
       "      <th>available</th>\n",
       "    </tr>\n",
       "  </thead>\n",
       "  <tbody>\n",
       "  </tbody>\n",
       "</table>\n",
       "</div>"
      ],
      "text/plain": [
       "Empty DataFrame\n",
       "Columns: [id, date, month, available]\n",
       "Index: []"
      ]
     },
     "execution_count": 15,
     "metadata": {},
     "output_type": "execute_result"
    }
   ],
   "source": [
    "calendar_dups = calendar[calendar.duplicated()]\n",
    "calendar_dups"
   ]
  },
  {
   "cell_type": "markdown",
   "id": "25cc56c4",
   "metadata": {},
   "source": [
    "# 5. Deriving New Variables: Season segmentation"
   ]
  },
  {
   "cell_type": "code",
   "execution_count": 16,
   "id": "d3f91044",
   "metadata": {},
   "outputs": [],
   "source": [
    "# Create Lists for Seasons\n",
    "Winter = ['December', 'January', 'February']\n",
    "Autumm = ['September', 'October', 'November']\n",
    "Spring = ['March', 'April', 'May']\n",
    "Summer = ['June', 'July', 'August']"
   ]
  },
  {
   "cell_type": "code",
   "execution_count": 17,
   "id": "891c90aa",
   "metadata": {},
   "outputs": [],
   "source": [
    "# Derive new variable \"Season\" and placing lists\n",
    "calendar.loc[calendar['month'].isin(Winter), 'season'] = 'Winter'\n",
    "calendar.loc[calendar['month'].isin(Autumm), 'season'] = 'Autumm'\n",
    "calendar.loc[calendar['month'].isin(Spring), 'season'] = 'Spring'\n",
    "calendar.loc[calendar['month'].isin(Summer), 'season'] = 'Summer'"
   ]
  },
  {
   "cell_type": "markdown",
   "id": "243c7514",
   "metadata": {},
   "source": [
    "# 6. Export final dataset"
   ]
  },
  {
   "cell_type": "code",
   "execution_count": 18,
   "id": "455b17f0",
   "metadata": {},
   "outputs": [],
   "source": [
    "calendar.to_pickle(os.path.join(path, '02 Data','Prepared Data', 'calendar_clean.pkl'))"
   ]
  },
  {
   "cell_type": "code",
   "execution_count": 19,
   "id": "2f8fad62",
   "metadata": {},
   "outputs": [],
   "source": [
    "calendar.to_excel(os.path.join(path, '02 Data','Prepared Data', 'calendar_clean.xlsx'))"
   ]
  }
 ],
 "metadata": {
  "kernelspec": {
   "display_name": "Python 3 (ipykernel)",
   "language": "python",
   "name": "python3"
  },
  "language_info": {
   "codemirror_mode": {
    "name": "ipython",
    "version": 3
   },
   "file_extension": ".py",
   "mimetype": "text/x-python",
   "name": "python",
   "nbconvert_exporter": "python",
   "pygments_lexer": "ipython3",
   "version": "3.11.5"
  }
 },
 "nbformat": 4,
 "nbformat_minor": 5
}
