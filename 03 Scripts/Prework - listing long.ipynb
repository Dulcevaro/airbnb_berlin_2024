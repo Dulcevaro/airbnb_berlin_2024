{
 "cells": [
  {
   "cell_type": "markdown",
   "id": "f7914e15",
   "metadata": {},
   "source": [
    "# Table on Content\n",
    "    1. Importing Libraries & dataset 'listing long'\n",
    "    2. Dataset Exploration\n",
    "      2.1 Delete unnecessary columns\n",
    "      2.2 Descriptive Analysis\n",
    "        2.2.1 Maximum_nights: Outliers Analysis\n",
    "    3. Data Wrangling \n",
    "      3.1 Mixed Data Type\n",
    "      3.2 Change Data Types\n",
    "    4. Consistency Checks: Missing Values and Duplicates\n",
    "      4.1 Missing Values\n",
    "        4.1.1 Missing Values: review_scores_rating - Mean\n",
    "        4.1.2 Missing Values: review_scores_accuracy - Mean\n",
    "        4.1.3 Missing Values: review_scores_cleanliness - Mean\n",
    "        4.1.4 Missing Values: review_scores_communication - Mean\n",
    "        4.1.5 Missing Values: review_scores_location - Mean\n",
    "        4.1.6 Missing Values: review_scores_value - Mean\n",
    "      4.2 Duplicates: Drop\n",
    "    5. Export final dataset"
   ]
  },
  {
   "cell_type": "markdown",
   "id": "43b34c86",
   "metadata": {},
   "source": [
    "# 1. Importing Libraries & dataset 'listing short'"
   ]
  },
  {
   "cell_type": "code",
   "execution_count": 1,
   "id": "5fce79c3",
   "metadata": {},
   "outputs": [],
   "source": [
    "# Import libraries\n",
    "import pandas as pd\n",
    "import numpy as np\n",
    "import os\n",
    "import matplotlib.pyplot as plt\n",
    "import seaborn as sns\n",
    "import scipy"
   ]
  },
  {
   "cell_type": "code",
   "execution_count": 2,
   "id": "da15b037",
   "metadata": {},
   "outputs": [],
   "source": [
    "# Create path\n",
    "path = r'/Users/Dulce/Dec2024 - Airbnb Berlin'"
   ]
  },
  {
   "cell_type": "code",
   "execution_count": 3,
   "id": "3431d45a",
   "metadata": {},
   "outputs": [
    {
     "name": "stderr",
     "output_type": "stream",
     "text": [
      "/var/folders/bq/9pw947f52fdd4s0pghmqxh580000gn/T/ipykernel_2835/4119695928.py:2: DtypeWarning: Columns (0) have mixed types. Specify dtype option on import or set low_memory=False.\n",
      "  listing_long = pd.read_csv(os.path.join(path, '02 Data', 'Original Data', 'listings_long.csv'))\n"
     ]
    }
   ],
   "source": [
    "# Import 'listing long'\n",
    "listing_long = pd.read_csv(os.path.join(path, '02 Data', 'Original Data', 'listings_long.csv'))"
   ]
  },
  {
   "cell_type": "code",
   "execution_count": 4,
   "id": "9fdf0d61",
   "metadata": {},
   "outputs": [],
   "source": [
    "listing_long.reset_index(drop=True, inplace=True)\n",
    "listing_long.index = range(1, len(listing_long) + 1)"
   ]
  },
  {
   "cell_type": "markdown",
   "id": "befca371",
   "metadata": {},
   "source": [
    "# 2. Dataset Exploration"
   ]
  },
  {
   "cell_type": "code",
   "execution_count": 5,
   "id": "66228e9f",
   "metadata": {},
   "outputs": [
    {
     "data": {
      "text/plain": [
       "(13327, 75)"
      ]
     },
     "execution_count": 5,
     "metadata": {},
     "output_type": "execute_result"
    }
   ],
   "source": [
    "listing_long.shape"
   ]
  },
  {
   "cell_type": "code",
   "execution_count": 6,
   "id": "28a42a45",
   "metadata": {},
   "outputs": [
    {
     "data": {
      "text/html": [
       "<div>\n",
       "<style scoped>\n",
       "    .dataframe tbody tr th:only-of-type {\n",
       "        vertical-align: middle;\n",
       "    }\n",
       "\n",
       "    .dataframe tbody tr th {\n",
       "        vertical-align: top;\n",
       "    }\n",
       "\n",
       "    .dataframe thead th {\n",
       "        text-align: right;\n",
       "    }\n",
       "</style>\n",
       "<table border=\"1\" class=\"dataframe\">\n",
       "  <thead>\n",
       "    <tr style=\"text-align: right;\">\n",
       "      <th></th>\n",
       "      <th>id</th>\n",
       "      <th>listing_url</th>\n",
       "      <th>scrape_id</th>\n",
       "      <th>last_scraped</th>\n",
       "      <th>source</th>\n",
       "      <th>name</th>\n",
       "      <th>description</th>\n",
       "      <th>neighborhood_overview</th>\n",
       "      <th>picture_url</th>\n",
       "      <th>host_id</th>\n",
       "      <th>...</th>\n",
       "      <th>review_scores_communication</th>\n",
       "      <th>review_scores_location</th>\n",
       "      <th>review_scores_value</th>\n",
       "      <th>license</th>\n",
       "      <th>instant_bookable</th>\n",
       "      <th>calculated_host_listings_count</th>\n",
       "      <th>calculated_host_listings_count_entire_homes</th>\n",
       "      <th>calculated_host_listings_count_private_rooms</th>\n",
       "      <th>calculated_host_listings_count_shared_rooms</th>\n",
       "      <th>reviews_per_month</th>\n",
       "    </tr>\n",
       "  </thead>\n",
       "  <tbody>\n",
       "    <tr>\n",
       "      <th>1</th>\n",
       "      <td>3176</td>\n",
       "      <td>https://www.airbnb.com/rooms/3176</td>\n",
       "      <td>20231218233220</td>\n",
       "      <td>2023-12-19</td>\n",
       "      <td>previous scrape</td>\n",
       "      <td>Rental unit in Berlin · ★4.63 · 1 bedroom · 2 ...</td>\n",
       "      <td>NaN</td>\n",
       "      <td>The neighbourhood is famous for its variety of...</td>\n",
       "      <td>https://a0.muscache.com/pictures/243355/84afcf...</td>\n",
       "      <td>3718</td>\n",
       "      <td>...</td>\n",
       "      <td>4.69</td>\n",
       "      <td>4.92</td>\n",
       "      <td>4.62</td>\n",
       "      <td>No</td>\n",
       "      <td>f</td>\n",
       "      <td>1</td>\n",
       "      <td>1</td>\n",
       "      <td>0</td>\n",
       "      <td>0</td>\n",
       "      <td>0.84</td>\n",
       "    </tr>\n",
       "    <tr>\n",
       "      <th>2</th>\n",
       "      <td>9991</td>\n",
       "      <td>https://www.airbnb.com/rooms/9991</td>\n",
       "      <td>20231218233220</td>\n",
       "      <td>2023-12-19</td>\n",
       "      <td>city scrape</td>\n",
       "      <td>Rental unit in Berlin · ★5.0 · 4 bedrooms · 7 ...</td>\n",
       "      <td>NaN</td>\n",
       "      <td>Prenzlauer Berg is an amazing neighbourhood wh...</td>\n",
       "      <td>https://a0.muscache.com/pictures/42799131/59c8...</td>\n",
       "      <td>33852</td>\n",
       "      <td>...</td>\n",
       "      <td>5.00</td>\n",
       "      <td>4.86</td>\n",
       "      <td>4.86</td>\n",
       "      <td>Yes</td>\n",
       "      <td>f</td>\n",
       "      <td>1</td>\n",
       "      <td>1</td>\n",
       "      <td>0</td>\n",
       "      <td>0</td>\n",
       "      <td>0.07</td>\n",
       "    </tr>\n",
       "    <tr>\n",
       "      <th>3</th>\n",
       "      <td>183988</td>\n",
       "      <td>https://www.airbnb.com/rooms/183988</td>\n",
       "      <td>20231218233220</td>\n",
       "      <td>2023-12-19</td>\n",
       "      <td>city scrape</td>\n",
       "      <td>Rental unit in Berlin · ★4.69 · 1 bedroom · 2 ...</td>\n",
       "      <td>NaN</td>\n",
       "      <td>NaN</td>\n",
       "      <td>https://a0.muscache.com/pictures/1041e6fd-c369...</td>\n",
       "      <td>882801</td>\n",
       "      <td>...</td>\n",
       "      <td>4.79</td>\n",
       "      <td>4.72</td>\n",
       "      <td>4.62</td>\n",
       "      <td>Yes</td>\n",
       "      <td>f</td>\n",
       "      <td>1</td>\n",
       "      <td>1</td>\n",
       "      <td>0</td>\n",
       "      <td>0</td>\n",
       "      <td>3.92</td>\n",
       "    </tr>\n",
       "    <tr>\n",
       "      <th>4</th>\n",
       "      <td>14325</td>\n",
       "      <td>https://www.airbnb.com/rooms/14325</td>\n",
       "      <td>20231218233220</td>\n",
       "      <td>2023-12-19</td>\n",
       "      <td>city scrape</td>\n",
       "      <td>Rental unit in Berlin · ★4.68 · Studio · 1 bed...</td>\n",
       "      <td>NaN</td>\n",
       "      <td>NaN</td>\n",
       "      <td>https://a0.muscache.com/pictures/508703/24988a...</td>\n",
       "      <td>55531</td>\n",
       "      <td>...</td>\n",
       "      <td>4.85</td>\n",
       "      <td>4.60</td>\n",
       "      <td>4.45</td>\n",
       "      <td>No</td>\n",
       "      <td>f</td>\n",
       "      <td>4</td>\n",
       "      <td>4</td>\n",
       "      <td>0</td>\n",
       "      <td>0</td>\n",
       "      <td>0.16</td>\n",
       "    </tr>\n",
       "    <tr>\n",
       "      <th>5</th>\n",
       "      <td>186663</td>\n",
       "      <td>https://www.airbnb.com/rooms/186663</td>\n",
       "      <td>20231218233220</td>\n",
       "      <td>2023-12-19</td>\n",
       "      <td>city scrape</td>\n",
       "      <td>Rental unit in Berlin · ★4.40 · 1 bedroom · 2 ...</td>\n",
       "      <td>NaN</td>\n",
       "      <td>NaN</td>\n",
       "      <td>https://a0.muscache.com/pictures/1757562/947b4...</td>\n",
       "      <td>897302</td>\n",
       "      <td>...</td>\n",
       "      <td>4.73</td>\n",
       "      <td>4.87</td>\n",
       "      <td>4.00</td>\n",
       "      <td>No</td>\n",
       "      <td>f</td>\n",
       "      <td>4</td>\n",
       "      <td>4</td>\n",
       "      <td>0</td>\n",
       "      <td>0</td>\n",
       "      <td>0.11</td>\n",
       "    </tr>\n",
       "  </tbody>\n",
       "</table>\n",
       "<p>5 rows × 75 columns</p>\n",
       "</div>"
      ],
      "text/plain": [
       "       id                          listing_url       scrape_id last_scraped  \\\n",
       "1    3176    https://www.airbnb.com/rooms/3176  20231218233220   2023-12-19   \n",
       "2    9991    https://www.airbnb.com/rooms/9991  20231218233220   2023-12-19   \n",
       "3  183988  https://www.airbnb.com/rooms/183988  20231218233220   2023-12-19   \n",
       "4   14325   https://www.airbnb.com/rooms/14325  20231218233220   2023-12-19   \n",
       "5  186663  https://www.airbnb.com/rooms/186663  20231218233220   2023-12-19   \n",
       "\n",
       "            source                                               name  \\\n",
       "1  previous scrape  Rental unit in Berlin · ★4.63 · 1 bedroom · 2 ...   \n",
       "2      city scrape  Rental unit in Berlin · ★5.0 · 4 bedrooms · 7 ...   \n",
       "3      city scrape  Rental unit in Berlin · ★4.69 · 1 bedroom · 2 ...   \n",
       "4      city scrape  Rental unit in Berlin · ★4.68 · Studio · 1 bed...   \n",
       "5      city scrape  Rental unit in Berlin · ★4.40 · 1 bedroom · 2 ...   \n",
       "\n",
       "   description                              neighborhood_overview  \\\n",
       "1          NaN  The neighbourhood is famous for its variety of...   \n",
       "2          NaN  Prenzlauer Berg is an amazing neighbourhood wh...   \n",
       "3          NaN                                                NaN   \n",
       "4          NaN                                                NaN   \n",
       "5          NaN                                                NaN   \n",
       "\n",
       "                                         picture_url  host_id  ...  \\\n",
       "1  https://a0.muscache.com/pictures/243355/84afcf...     3718  ...   \n",
       "2  https://a0.muscache.com/pictures/42799131/59c8...    33852  ...   \n",
       "3  https://a0.muscache.com/pictures/1041e6fd-c369...   882801  ...   \n",
       "4  https://a0.muscache.com/pictures/508703/24988a...    55531  ...   \n",
       "5  https://a0.muscache.com/pictures/1757562/947b4...   897302  ...   \n",
       "\n",
       "  review_scores_communication review_scores_location review_scores_value  \\\n",
       "1                        4.69                   4.92                4.62   \n",
       "2                        5.00                   4.86                4.86   \n",
       "3                        4.79                   4.72                4.62   \n",
       "4                        4.85                   4.60                4.45   \n",
       "5                        4.73                   4.87                4.00   \n",
       "\n",
       "  license instant_bookable calculated_host_listings_count  \\\n",
       "1      No                f                              1   \n",
       "2     Yes                f                              1   \n",
       "3     Yes                f                              1   \n",
       "4      No                f                              4   \n",
       "5      No                f                              4   \n",
       "\n",
       "  calculated_host_listings_count_entire_homes  \\\n",
       "1                                           1   \n",
       "2                                           1   \n",
       "3                                           1   \n",
       "4                                           4   \n",
       "5                                           4   \n",
       "\n",
       "  calculated_host_listings_count_private_rooms  \\\n",
       "1                                            0   \n",
       "2                                            0   \n",
       "3                                            0   \n",
       "4                                            0   \n",
       "5                                            0   \n",
       "\n",
       "  calculated_host_listings_count_shared_rooms reviews_per_month  \n",
       "1                                           0              0.84  \n",
       "2                                           0              0.07  \n",
       "3                                           0              3.92  \n",
       "4                                           0              0.16  \n",
       "5                                           0              0.11  \n",
       "\n",
       "[5 rows x 75 columns]"
      ]
     },
     "execution_count": 6,
     "metadata": {},
     "output_type": "execute_result"
    }
   ],
   "source": [
    "listing_long.head()"
   ]
  },
  {
   "cell_type": "code",
   "execution_count": 7,
   "id": "69a4efef",
   "metadata": {},
   "outputs": [
    {
     "data": {
      "text/html": [
       "<div>\n",
       "<style scoped>\n",
       "    .dataframe tbody tr th:only-of-type {\n",
       "        vertical-align: middle;\n",
       "    }\n",
       "\n",
       "    .dataframe tbody tr th {\n",
       "        vertical-align: top;\n",
       "    }\n",
       "\n",
       "    .dataframe thead th {\n",
       "        text-align: right;\n",
       "    }\n",
       "</style>\n",
       "<table border=\"1\" class=\"dataframe\">\n",
       "  <thead>\n",
       "    <tr style=\"text-align: right;\">\n",
       "      <th></th>\n",
       "      <th>id</th>\n",
       "      <th>listing_url</th>\n",
       "      <th>scrape_id</th>\n",
       "      <th>last_scraped</th>\n",
       "      <th>source</th>\n",
       "      <th>name</th>\n",
       "      <th>description</th>\n",
       "      <th>neighborhood_overview</th>\n",
       "      <th>picture_url</th>\n",
       "      <th>host_id</th>\n",
       "      <th>...</th>\n",
       "      <th>review_scores_communication</th>\n",
       "      <th>review_scores_location</th>\n",
       "      <th>review_scores_value</th>\n",
       "      <th>license</th>\n",
       "      <th>instant_bookable</th>\n",
       "      <th>calculated_host_listings_count</th>\n",
       "      <th>calculated_host_listings_count_entire_homes</th>\n",
       "      <th>calculated_host_listings_count_private_rooms</th>\n",
       "      <th>calculated_host_listings_count_shared_rooms</th>\n",
       "      <th>reviews_per_month</th>\n",
       "    </tr>\n",
       "  </thead>\n",
       "  <tbody>\n",
       "    <tr>\n",
       "      <th>13323</th>\n",
       "      <td>1048290130755102956</td>\n",
       "      <td>https://www.airbnb.com/rooms/1048290130755102956</td>\n",
       "      <td>20231218233220</td>\n",
       "      <td>2023-12-19</td>\n",
       "      <td>city scrape</td>\n",
       "      <td>Rental unit in Berlin · ★New · 1 bedroom · 1 b...</td>\n",
       "      <td>NaN</td>\n",
       "      <td>NaN</td>\n",
       "      <td>https://a0.muscache.com/pictures/hosting/Hosti...</td>\n",
       "      <td>168840227</td>\n",
       "      <td>...</td>\n",
       "      <td>NaN</td>\n",
       "      <td>NaN</td>\n",
       "      <td>NaN</td>\n",
       "      <td>No</td>\n",
       "      <td>f</td>\n",
       "      <td>1</td>\n",
       "      <td>1</td>\n",
       "      <td>0</td>\n",
       "      <td>0</td>\n",
       "      <td>NaN</td>\n",
       "    </tr>\n",
       "    <tr>\n",
       "      <th>13324</th>\n",
       "      <td>1048444986736672883</td>\n",
       "      <td>https://www.airbnb.com/rooms/1048444986736672883</td>\n",
       "      <td>20231218233220</td>\n",
       "      <td>2023-12-19</td>\n",
       "      <td>city scrape</td>\n",
       "      <td>Rental unit in Berlin · ★New · 1 bedroom · 1 b...</td>\n",
       "      <td>NaN</td>\n",
       "      <td>Alexanderplatz, Prenzlauer Berg, Boxhagener Pl...</td>\n",
       "      <td>https://a0.muscache.com/pictures/hosting/Hosti...</td>\n",
       "      <td>551079357</td>\n",
       "      <td>...</td>\n",
       "      <td>NaN</td>\n",
       "      <td>NaN</td>\n",
       "      <td>NaN</td>\n",
       "      <td>No</td>\n",
       "      <td>f</td>\n",
       "      <td>1</td>\n",
       "      <td>1</td>\n",
       "      <td>0</td>\n",
       "      <td>0</td>\n",
       "      <td>NaN</td>\n",
       "    </tr>\n",
       "    <tr>\n",
       "      <th>13325</th>\n",
       "      <td>1048535169043506669</td>\n",
       "      <td>https://www.airbnb.com/rooms/1048535169043506669</td>\n",
       "      <td>20231218233220</td>\n",
       "      <td>2023-12-19</td>\n",
       "      <td>city scrape</td>\n",
       "      <td>Rental unit in Berlin · ★New · 1 bedroom · 1 b...</td>\n",
       "      <td>NaN</td>\n",
       "      <td>NaN</td>\n",
       "      <td>https://a0.muscache.com/pictures/hosting/Hosti...</td>\n",
       "      <td>551034226</td>\n",
       "      <td>...</td>\n",
       "      <td>NaN</td>\n",
       "      <td>NaN</td>\n",
       "      <td>NaN</td>\n",
       "      <td>No</td>\n",
       "      <td>f</td>\n",
       "      <td>1</td>\n",
       "      <td>1</td>\n",
       "      <td>0</td>\n",
       "      <td>0</td>\n",
       "      <td>NaN</td>\n",
       "    </tr>\n",
       "    <tr>\n",
       "      <th>13326</th>\n",
       "      <td>1048637262243761764</td>\n",
       "      <td>https://www.airbnb.com/rooms/1048637262243761764</td>\n",
       "      <td>20231218233220</td>\n",
       "      <td>2023-12-19</td>\n",
       "      <td>city scrape</td>\n",
       "      <td>Rental unit in Berlin · ★New · 3 bedrooms · 3 ...</td>\n",
       "      <td>NaN</td>\n",
       "      <td>NaN</td>\n",
       "      <td>https://a0.muscache.com/pictures/miso/Hosting-...</td>\n",
       "      <td>29385449</td>\n",
       "      <td>...</td>\n",
       "      <td>NaN</td>\n",
       "      <td>NaN</td>\n",
       "      <td>NaN</td>\n",
       "      <td>Yes</td>\n",
       "      <td>f</td>\n",
       "      <td>3</td>\n",
       "      <td>1</td>\n",
       "      <td>2</td>\n",
       "      <td>0</td>\n",
       "      <td>NaN</td>\n",
       "    </tr>\n",
       "    <tr>\n",
       "      <th>13327</th>\n",
       "      <td>1049081468356551619</td>\n",
       "      <td>https://www.airbnb.com/rooms/1049081468356551619</td>\n",
       "      <td>20231218233220</td>\n",
       "      <td>2023-12-19</td>\n",
       "      <td>city scrape</td>\n",
       "      <td>Rental unit in Berlin · ★New · Studio · 2 beds...</td>\n",
       "      <td>NaN</td>\n",
       "      <td>Die Wohnung befindet sich im belebten Friedric...</td>\n",
       "      <td>https://a0.muscache.com/pictures/prohost-api/H...</td>\n",
       "      <td>175463482</td>\n",
       "      <td>...</td>\n",
       "      <td>NaN</td>\n",
       "      <td>NaN</td>\n",
       "      <td>NaN</td>\n",
       "      <td>Yes</td>\n",
       "      <td>t</td>\n",
       "      <td>9</td>\n",
       "      <td>9</td>\n",
       "      <td>0</td>\n",
       "      <td>0</td>\n",
       "      <td>NaN</td>\n",
       "    </tr>\n",
       "  </tbody>\n",
       "</table>\n",
       "<p>5 rows × 75 columns</p>\n",
       "</div>"
      ],
      "text/plain": [
       "                        id                                       listing_url  \\\n",
       "13323  1048290130755102956  https://www.airbnb.com/rooms/1048290130755102956   \n",
       "13324  1048444986736672883  https://www.airbnb.com/rooms/1048444986736672883   \n",
       "13325  1048535169043506669  https://www.airbnb.com/rooms/1048535169043506669   \n",
       "13326  1048637262243761764  https://www.airbnb.com/rooms/1048637262243761764   \n",
       "13327  1049081468356551619  https://www.airbnb.com/rooms/1049081468356551619   \n",
       "\n",
       "            scrape_id last_scraped       source  \\\n",
       "13323  20231218233220   2023-12-19  city scrape   \n",
       "13324  20231218233220   2023-12-19  city scrape   \n",
       "13325  20231218233220   2023-12-19  city scrape   \n",
       "13326  20231218233220   2023-12-19  city scrape   \n",
       "13327  20231218233220   2023-12-19  city scrape   \n",
       "\n",
       "                                                    name  description  \\\n",
       "13323  Rental unit in Berlin · ★New · 1 bedroom · 1 b...          NaN   \n",
       "13324  Rental unit in Berlin · ★New · 1 bedroom · 1 b...          NaN   \n",
       "13325  Rental unit in Berlin · ★New · 1 bedroom · 1 b...          NaN   \n",
       "13326  Rental unit in Berlin · ★New · 3 bedrooms · 3 ...          NaN   \n",
       "13327  Rental unit in Berlin · ★New · Studio · 2 beds...          NaN   \n",
       "\n",
       "                                   neighborhood_overview  \\\n",
       "13323                                                NaN   \n",
       "13324  Alexanderplatz, Prenzlauer Berg, Boxhagener Pl...   \n",
       "13325                                                NaN   \n",
       "13326                                                NaN   \n",
       "13327  Die Wohnung befindet sich im belebten Friedric...   \n",
       "\n",
       "                                             picture_url    host_id  ...  \\\n",
       "13323  https://a0.muscache.com/pictures/hosting/Hosti...  168840227  ...   \n",
       "13324  https://a0.muscache.com/pictures/hosting/Hosti...  551079357  ...   \n",
       "13325  https://a0.muscache.com/pictures/hosting/Hosti...  551034226  ...   \n",
       "13326  https://a0.muscache.com/pictures/miso/Hosting-...   29385449  ...   \n",
       "13327  https://a0.muscache.com/pictures/prohost-api/H...  175463482  ...   \n",
       "\n",
       "      review_scores_communication review_scores_location review_scores_value  \\\n",
       "13323                         NaN                    NaN                 NaN   \n",
       "13324                         NaN                    NaN                 NaN   \n",
       "13325                         NaN                    NaN                 NaN   \n",
       "13326                         NaN                    NaN                 NaN   \n",
       "13327                         NaN                    NaN                 NaN   \n",
       "\n",
       "      license instant_bookable calculated_host_listings_count  \\\n",
       "13323      No                f                              1   \n",
       "13324      No                f                              1   \n",
       "13325      No                f                              1   \n",
       "13326     Yes                f                              3   \n",
       "13327     Yes                t                              9   \n",
       "\n",
       "      calculated_host_listings_count_entire_homes  \\\n",
       "13323                                           1   \n",
       "13324                                           1   \n",
       "13325                                           1   \n",
       "13326                                           1   \n",
       "13327                                           9   \n",
       "\n",
       "      calculated_host_listings_count_private_rooms  \\\n",
       "13323                                            0   \n",
       "13324                                            0   \n",
       "13325                                            0   \n",
       "13326                                            2   \n",
       "13327                                            0   \n",
       "\n",
       "      calculated_host_listings_count_shared_rooms reviews_per_month  \n",
       "13323                                           0               NaN  \n",
       "13324                                           0               NaN  \n",
       "13325                                           0               NaN  \n",
       "13326                                           0               NaN  \n",
       "13327                                           0               NaN  \n",
       "\n",
       "[5 rows x 75 columns]"
      ]
     },
     "execution_count": 7,
     "metadata": {},
     "output_type": "execute_result"
    }
   ],
   "source": [
    "listing_long.tail()"
   ]
  },
  {
   "cell_type": "code",
   "execution_count": 8,
   "id": "ed3665ce",
   "metadata": {},
   "outputs": [
    {
     "data": {
      "text/plain": [
       "Index(['id', 'listing_url', 'scrape_id', 'last_scraped', 'source', 'name',\n",
       "       'description', 'neighborhood_overview', 'picture_url', 'host_id',\n",
       "       'host_url', 'host_name', 'host_since', 'host_location', 'host_about',\n",
       "       'host_response_time', 'host_response_rate', 'host_acceptance_rate',\n",
       "       'host_is_superhost', 'host_thumbnail_url', 'host_picture_url',\n",
       "       'host_neighbourhood', 'host_listings_count',\n",
       "       'host_total_listings_count', 'host_verifications',\n",
       "       'host_has_profile_pic', 'host_identity_verified', 'neighbourhood',\n",
       "       'neighbourhood_cleansed', 'neighbourhood_group_cleansed', 'latitude',\n",
       "       'longitude', 'property_type', 'room_type', 'accommodates', 'bathrooms',\n",
       "       'bathrooms_text', 'bedrooms', 'beds', 'amenities', 'price',\n",
       "       'minimum_nights', 'maximum_nights', 'minimum_minimum_nights',\n",
       "       'maximum_minimum_nights', 'minimum_maximum_nights',\n",
       "       'maximum_maximum_nights', 'minimum_nights_avg_ntm',\n",
       "       'maximum_nights_avg_ntm', 'calendar_updated', 'has_availability',\n",
       "       'availability_30', 'availability_60', 'availability_90',\n",
       "       'availability_365', 'calendar_last_scraped', 'number_of_reviews',\n",
       "       'number_of_reviews_ltm', 'number_of_reviews_l30d', 'first_review',\n",
       "       'last_review', 'review_scores_rating', 'review_scores_accuracy',\n",
       "       'review_scores_cleanliness', 'review_scores_checkin',\n",
       "       'review_scores_communication', 'review_scores_location',\n",
       "       'review_scores_value', 'license', 'instant_bookable',\n",
       "       'calculated_host_listings_count',\n",
       "       'calculated_host_listings_count_entire_homes',\n",
       "       'calculated_host_listings_count_private_rooms',\n",
       "       'calculated_host_listings_count_shared_rooms', 'reviews_per_month'],\n",
       "      dtype='object')"
      ]
     },
     "execution_count": 8,
     "metadata": {},
     "output_type": "execute_result"
    }
   ],
   "source": [
    "listing_long.columns"
   ]
  },
  {
   "cell_type": "code",
   "execution_count": 9,
   "id": "abc2d972",
   "metadata": {},
   "outputs": [
    {
     "name": "stdout",
     "output_type": "stream",
     "text": [
      "<class 'pandas.core.frame.DataFrame'>\n",
      "RangeIndex: 13327 entries, 1 to 13327\n",
      "Data columns (total 75 columns):\n",
      " #   Column                                        Non-Null Count  Dtype  \n",
      "---  ------                                        --------------  -----  \n",
      " 0   id                                            13327 non-null  object \n",
      " 1   listing_url                                   13327 non-null  object \n",
      " 2   scrape_id                                     13327 non-null  int64  \n",
      " 3   last_scraped                                  13327 non-null  object \n",
      " 4   source                                        13327 non-null  object \n",
      " 5   name                                          13327 non-null  object \n",
      " 6   description                                   0 non-null      float64\n",
      " 7   neighborhood_overview                         6867 non-null   object \n",
      " 8   picture_url                                   13327 non-null  object \n",
      " 9   host_id                                       13327 non-null  int64  \n",
      " 10  host_url                                      13327 non-null  object \n",
      " 11  host_name                                     13318 non-null  object \n",
      " 12  host_since                                    13318 non-null  object \n",
      " 13  host_location                                 10912 non-null  object \n",
      " 14  host_about                                    6788 non-null   object \n",
      " 15  host_response_time                            8275 non-null   object \n",
      " 16  host_response_rate                            8275 non-null   object \n",
      " 17  host_acceptance_rate                          9021 non-null   object \n",
      " 18  host_is_superhost                             13285 non-null  object \n",
      " 19  host_thumbnail_url                            13318 non-null  object \n",
      " 20  host_picture_url                              13318 non-null  object \n",
      " 21  host_neighbourhood                            6385 non-null   object \n",
      " 22  host_listings_count                           13318 non-null  float64\n",
      " 23  host_total_listings_count                     13318 non-null  float64\n",
      " 24  host_verifications                            13318 non-null  object \n",
      " 25  host_has_profile_pic                          13318 non-null  object \n",
      " 26  host_identity_verified                        13318 non-null  object \n",
      " 27  neighbourhood                                 6867 non-null   object \n",
      " 28  neighbourhood_cleansed                        13327 non-null  object \n",
      " 29  neighbourhood_group_cleansed                  13327 non-null  object \n",
      " 30  latitude                                      13327 non-null  object \n",
      " 31  longitude                                     13327 non-null  object \n",
      " 32  property_type                                 13327 non-null  object \n",
      " 33  room_type                                     13327 non-null  object \n",
      " 34  accommodates                                  13327 non-null  int64  \n",
      " 35  bathrooms                                     0 non-null      float64\n",
      " 36  bathrooms_text                                13325 non-null  object \n",
      " 37  bedrooms                                      0 non-null      float64\n",
      " 38  beds                                          13119 non-null  float64\n",
      " 39  amenities                                     13327 non-null  object \n",
      " 40  price                                         9374 non-null   object \n",
      " 41  minimum_nights                                13327 non-null  int64  \n",
      " 42  maximum_nights                                13327 non-null  int64  \n",
      " 43  minimum_minimum_nights                        13326 non-null  float64\n",
      " 44  maximum_minimum_nights                        13326 non-null  float64\n",
      " 45  minimum_maximum_nights                        13326 non-null  float64\n",
      " 46  maximum_maximum_nights                        13326 non-null  float64\n",
      " 47  minimum_nights_avg_ntm                        13326 non-null  float64\n",
      " 48  maximum_nights_avg_ntm                        13326 non-null  float64\n",
      " 49  calendar_updated                              0 non-null      float64\n",
      " 50  has_availability                              9374 non-null   object \n",
      " 51  availability_30                               13327 non-null  int64  \n",
      " 52  availability_60                               13327 non-null  int64  \n",
      " 53  availability_90                               13327 non-null  int64  \n",
      " 54  availability_365                              13327 non-null  int64  \n",
      " 55  calendar_last_scraped                         13327 non-null  object \n",
      " 56  number_of_reviews                             13327 non-null  int64  \n",
      " 57  number_of_reviews_ltm                         13327 non-null  int64  \n",
      " 58  number_of_reviews_l30d                        13327 non-null  int64  \n",
      " 59  first_review                                  10327 non-null  object \n",
      " 60  last_review                                   10327 non-null  object \n",
      " 61  review_scores_rating                          10332 non-null  float64\n",
      " 62  review_scores_accuracy                        10329 non-null  float64\n",
      " 63  review_scores_cleanliness                     10331 non-null  float64\n",
      " 64  review_scores_checkin                         10328 non-null  float64\n",
      " 65  review_scores_communication                   10331 non-null  float64\n",
      " 66  review_scores_location                        10328 non-null  float64\n",
      " 67  review_scores_value                           10326 non-null  float64\n",
      " 68  license                                       13327 non-null  object \n",
      " 69  instant_bookable                              13327 non-null  object \n",
      " 70  calculated_host_listings_count                13327 non-null  int64  \n",
      " 71  calculated_host_listings_count_entire_homes   13327 non-null  int64  \n",
      " 72  calculated_host_listings_count_private_rooms  13327 non-null  int64  \n",
      " 73  calculated_host_listings_count_shared_rooms   13327 non-null  int64  \n",
      " 74  reviews_per_month                             10327 non-null  float64\n",
      "dtypes: float64(21), int64(16), object(38)\n",
      "memory usage: 7.6+ MB\n"
     ]
    }
   ],
   "source": [
    "listing_long.info()"
   ]
  },
  {
   "cell_type": "markdown",
   "id": "a9bd3a93",
   "metadata": {},
   "source": [
    "## 2.1 Delete unnecessary columns to reduce volume"
   ]
  },
  {
   "cell_type": "code",
   "execution_count": 10,
   "id": "157cc37d",
   "metadata": {},
   "outputs": [
    {
     "data": {
      "text/plain": [
       "(13327, 16)"
      ]
     },
     "execution_count": 10,
     "metadata": {},
     "output_type": "execute_result"
    }
   ],
   "source": [
    "columns_to_drop = ['amenities', 'availability_30', 'availability_365', 'availability_60', 'availability_90', 'bathrooms', 'bathrooms_text', 'bedrooms', 'beds', 'calculated_host_listings_count', 'calculated_host_listings_count_entire_homes', 'calculated_host_listings_count_private_rooms', 'calculated_host_listings_count_shared_rooms', 'calendar_last_scraped', 'calendar_updated', 'description', 'has_availability', 'host_about', 'host_acceptance_rate', 'host_has_profile_pic', 'host_id', 'host_identity_verified', 'host_listings_count', 'host_location', 'host_name', 'host_neighbourhood', 'host_picture_url', 'host_since', 'host_thumbnail_url', 'host_total_listings_count', 'host_url', 'host_verifications', 'last_review', 'last_scraped', 'latitude', 'license', 'longitude', 'maximum_maximum_nights', 'maximum_minimum_nights', 'maximum_nights_avg_ntm', 'minimum_maximum_nights', 'minimum_minimum_nights', 'minimum_nights', 'minimum_nights_avg_ntm', 'name', 'neighborhood_overview', 'neighbourhood', 'neighbourhood_cleansed', 'neighbourhood_group_cleansed', 'number_of_reviews', 'number_of_reviews_l30d', 'number_of_reviews_ltm', 'picture_url', 'price', 'reviews_per_month', 'room_type', 'source', 'scrape_id', 'listing_url']\n",
    "listing_long_reduced = listing_long.drop(columns=columns_to_drop)\n",
    "listing_long_reduced.shape"
   ]
  },
  {
   "cell_type": "code",
   "execution_count": 11,
   "id": "39da1378",
   "metadata": {},
   "outputs": [
    {
     "name": "stdout",
     "output_type": "stream",
     "text": [
      "<class 'pandas.core.frame.DataFrame'>\n",
      "RangeIndex: 13327 entries, 1 to 13327\n",
      "Data columns (total 16 columns):\n",
      " #   Column                       Non-Null Count  Dtype  \n",
      "---  ------                       --------------  -----  \n",
      " 0   id                           13327 non-null  object \n",
      " 1   host_response_time           8275 non-null   object \n",
      " 2   host_response_rate           8275 non-null   object \n",
      " 3   host_is_superhost            13285 non-null  object \n",
      " 4   property_type                13327 non-null  object \n",
      " 5   accommodates                 13327 non-null  int64  \n",
      " 6   maximum_nights               13327 non-null  int64  \n",
      " 7   first_review                 10327 non-null  object \n",
      " 8   review_scores_rating         10332 non-null  float64\n",
      " 9   review_scores_accuracy       10329 non-null  float64\n",
      " 10  review_scores_cleanliness    10331 non-null  float64\n",
      " 11  review_scores_checkin        10328 non-null  float64\n",
      " 12  review_scores_communication  10331 non-null  float64\n",
      " 13  review_scores_location       10328 non-null  float64\n",
      " 14  review_scores_value          10326 non-null  float64\n",
      " 15  instant_bookable             13327 non-null  object \n",
      "dtypes: float64(7), int64(2), object(7)\n",
      "memory usage: 1.6+ MB\n"
     ]
    }
   ],
   "source": [
    "listing_long_reduced.info()"
   ]
  },
  {
   "cell_type": "markdown",
   "id": "9103f55c",
   "metadata": {},
   "source": [
    "## 2.2 Descriptive Analysis"
   ]
  },
  {
   "cell_type": "code",
   "execution_count": 12,
   "id": "182daffd",
   "metadata": {},
   "outputs": [
    {
     "data": {
      "text/html": [
       "<div>\n",
       "<style scoped>\n",
       "    .dataframe tbody tr th:only-of-type {\n",
       "        vertical-align: middle;\n",
       "    }\n",
       "\n",
       "    .dataframe tbody tr th {\n",
       "        vertical-align: top;\n",
       "    }\n",
       "\n",
       "    .dataframe thead th {\n",
       "        text-align: right;\n",
       "    }\n",
       "</style>\n",
       "<table border=\"1\" class=\"dataframe\">\n",
       "  <thead>\n",
       "    <tr style=\"text-align: right;\">\n",
       "      <th></th>\n",
       "      <th>accommodates</th>\n",
       "      <th>maximum_nights</th>\n",
       "      <th>review_scores_rating</th>\n",
       "      <th>review_scores_accuracy</th>\n",
       "      <th>review_scores_cleanliness</th>\n",
       "      <th>review_scores_checkin</th>\n",
       "      <th>review_scores_communication</th>\n",
       "      <th>review_scores_location</th>\n",
       "      <th>review_scores_value</th>\n",
       "    </tr>\n",
       "  </thead>\n",
       "  <tbody>\n",
       "    <tr>\n",
       "      <th>count</th>\n",
       "      <td>13327.000000</td>\n",
       "      <td>13327.000000</td>\n",
       "      <td>10332.000000</td>\n",
       "      <td>10329.000000</td>\n",
       "      <td>10331.000000</td>\n",
       "      <td>10328.000000</td>\n",
       "      <td>10331.000000</td>\n",
       "      <td>10328.000000</td>\n",
       "      <td>10326.000000</td>\n",
       "    </tr>\n",
       "    <tr>\n",
       "      <th>mean</th>\n",
       "      <td>2.934794</td>\n",
       "      <td>620.284235</td>\n",
       "      <td>4.738167</td>\n",
       "      <td>4.784869</td>\n",
       "      <td>4.675088</td>\n",
       "      <td>4.814052</td>\n",
       "      <td>4.814176</td>\n",
       "      <td>4.752748</td>\n",
       "      <td>4.633318</td>\n",
       "    </tr>\n",
       "    <tr>\n",
       "      <th>std</th>\n",
       "      <td>1.864588</td>\n",
       "      <td>488.014129</td>\n",
       "      <td>0.392293</td>\n",
       "      <td>0.380341</td>\n",
       "      <td>0.461500</td>\n",
       "      <td>0.371995</td>\n",
       "      <td>0.389549</td>\n",
       "      <td>0.361336</td>\n",
       "      <td>0.432601</td>\n",
       "    </tr>\n",
       "    <tr>\n",
       "      <th>min</th>\n",
       "      <td>1.000000</td>\n",
       "      <td>1.000000</td>\n",
       "      <td>0.000000</td>\n",
       "      <td>0.000000</td>\n",
       "      <td>0.000000</td>\n",
       "      <td>0.000000</td>\n",
       "      <td>0.000000</td>\n",
       "      <td>0.000000</td>\n",
       "      <td>0.000000</td>\n",
       "    </tr>\n",
       "    <tr>\n",
       "      <th>25%</th>\n",
       "      <td>2.000000</td>\n",
       "      <td>120.000000</td>\n",
       "      <td>4.650000</td>\n",
       "      <td>4.730000</td>\n",
       "      <td>4.570000</td>\n",
       "      <td>4.780000</td>\n",
       "      <td>4.780000</td>\n",
       "      <td>4.670000</td>\n",
       "      <td>4.500000</td>\n",
       "    </tr>\n",
       "    <tr>\n",
       "      <th>50%</th>\n",
       "      <td>2.000000</td>\n",
       "      <td>365.000000</td>\n",
       "      <td>4.850000</td>\n",
       "      <td>4.890000</td>\n",
       "      <td>4.810000</td>\n",
       "      <td>4.920000</td>\n",
       "      <td>4.930000</td>\n",
       "      <td>4.850000</td>\n",
       "      <td>4.730000</td>\n",
       "    </tr>\n",
       "    <tr>\n",
       "      <th>75%</th>\n",
       "      <td>4.000000</td>\n",
       "      <td>1125.000000</td>\n",
       "      <td>5.000000</td>\n",
       "      <td>5.000000</td>\n",
       "      <td>5.000000</td>\n",
       "      <td>5.000000</td>\n",
       "      <td>5.000000</td>\n",
       "      <td>5.000000</td>\n",
       "      <td>4.890000</td>\n",
       "    </tr>\n",
       "    <tr>\n",
       "      <th>max</th>\n",
       "      <td>16.000000</td>\n",
       "      <td>9999.000000</td>\n",
       "      <td>5.000000</td>\n",
       "      <td>5.000000</td>\n",
       "      <td>5.000000</td>\n",
       "      <td>5.000000</td>\n",
       "      <td>5.000000</td>\n",
       "      <td>5.000000</td>\n",
       "      <td>5.000000</td>\n",
       "    </tr>\n",
       "  </tbody>\n",
       "</table>\n",
       "</div>"
      ],
      "text/plain": [
       "       accommodates  maximum_nights  review_scores_rating  \\\n",
       "count  13327.000000    13327.000000          10332.000000   \n",
       "mean       2.934794      620.284235              4.738167   \n",
       "std        1.864588      488.014129              0.392293   \n",
       "min        1.000000        1.000000              0.000000   \n",
       "25%        2.000000      120.000000              4.650000   \n",
       "50%        2.000000      365.000000              4.850000   \n",
       "75%        4.000000     1125.000000              5.000000   \n",
       "max       16.000000     9999.000000              5.000000   \n",
       "\n",
       "       review_scores_accuracy  review_scores_cleanliness  \\\n",
       "count            10329.000000               10331.000000   \n",
       "mean                 4.784869                   4.675088   \n",
       "std                  0.380341                   0.461500   \n",
       "min                  0.000000                   0.000000   \n",
       "25%                  4.730000                   4.570000   \n",
       "50%                  4.890000                   4.810000   \n",
       "75%                  5.000000                   5.000000   \n",
       "max                  5.000000                   5.000000   \n",
       "\n",
       "       review_scores_checkin  review_scores_communication  \\\n",
       "count           10328.000000                 10331.000000   \n",
       "mean                4.814052                     4.814176   \n",
       "std                 0.371995                     0.389549   \n",
       "min                 0.000000                     0.000000   \n",
       "25%                 4.780000                     4.780000   \n",
       "50%                 4.920000                     4.930000   \n",
       "75%                 5.000000                     5.000000   \n",
       "max                 5.000000                     5.000000   \n",
       "\n",
       "       review_scores_location  review_scores_value  \n",
       "count            10328.000000         10326.000000  \n",
       "mean                 4.752748             4.633318  \n",
       "std                  0.361336             0.432601  \n",
       "min                  0.000000             0.000000  \n",
       "25%                  4.670000             4.500000  \n",
       "50%                  4.850000             4.730000  \n",
       "75%                  5.000000             4.890000  \n",
       "max                  5.000000             5.000000  "
      ]
     },
     "execution_count": 12,
     "metadata": {},
     "output_type": "execute_result"
    }
   ],
   "source": [
    "listing_long_reduced.describe()"
   ]
  },
  {
   "cell_type": "markdown",
   "id": "0c60ad2f",
   "metadata": {},
   "source": [
    "### 2.2.1 Maximum_nights: Outliers Analysis"
   ]
  },
  {
   "cell_type": "code",
   "execution_count": 13,
   "id": "15c0023d",
   "metadata": {},
   "outputs": [
    {
     "data": {
      "text/plain": [
       "<Axes: xlabel='maximum_nights', ylabel='maximum_nights'>"
      ]
     },
     "execution_count": 13,
     "metadata": {},
     "output_type": "execute_result"
    },
    {
     "data": {
      "image/png": "[encoded data removed]",
      "text/plain": [
       "<Figure size 640x480 with 1 Axes>"
      ]
     },
     "metadata": {},
     "output_type": "display_data"
    }
   ],
   "source": [
    "# Create scatterplot to analyze outliers\n",
    "sns.scatterplot(x = 'maximum_nights', y = 'maximum_nights', data = listing_long_reduced)"
   ]
  },
  {
   "cell_type": "code",
   "execution_count": 14,
   "id": "79208cb2",
   "metadata": {},
   "outputs": [
    {
     "data": {
      "text/html": [
       "<div>\n",
       "<style scoped>\n",
       "    .dataframe tbody tr th:only-of-type {\n",
       "        vertical-align: middle;\n",
       "    }\n",
       "\n",
       "    .dataframe tbody tr th {\n",
       "        vertical-align: top;\n",
       "    }\n",
       "\n",
       "    .dataframe thead th {\n",
       "        text-align: right;\n",
       "    }\n",
       "</style>\n",
       "<table border=\"1\" class=\"dataframe\">\n",
       "  <thead>\n",
       "    <tr style=\"text-align: right;\">\n",
       "      <th></th>\n",
       "      <th>id</th>\n",
       "      <th>host_response_time</th>\n",
       "      <th>host_response_rate</th>\n",
       "      <th>host_is_superhost</th>\n",
       "      <th>property_type</th>\n",
       "      <th>accommodates</th>\n",
       "      <th>maximum_nights</th>\n",
       "      <th>first_review</th>\n",
       "      <th>review_scores_rating</th>\n",
       "      <th>review_scores_accuracy</th>\n",
       "      <th>review_scores_cleanliness</th>\n",
       "      <th>review_scores_checkin</th>\n",
       "      <th>review_scores_communication</th>\n",
       "      <th>review_scores_location</th>\n",
       "      <th>review_scores_value</th>\n",
       "      <th>instant_bookable</th>\n",
       "    </tr>\n",
       "  </thead>\n",
       "  <tbody>\n",
       "    <tr>\n",
       "      <th>4</th>\n",
       "      <td>14325</td>\n",
       "      <td>within a few hours</td>\n",
       "      <td>100%</td>\n",
       "      <td>f</td>\n",
       "      <td>Entire rental unit</td>\n",
       "      <td>1</td>\n",
       "      <td>1125</td>\n",
       "      <td>2010-06-29</td>\n",
       "      <td>4.68</td>\n",
       "      <td>5.00</td>\n",
       "      <td>4.85</td>\n",
       "      <td>4.70</td>\n",
       "      <td>4.85</td>\n",
       "      <td>4.60</td>\n",
       "      <td>4.45</td>\n",
       "      <td>f</td>\n",
       "    </tr>\n",
       "    <tr>\n",
       "      <th>5</th>\n",
       "      <td>186663</td>\n",
       "      <td>within a day</td>\n",
       "      <td>100%</td>\n",
       "      <td>f</td>\n",
       "      <td>Entire rental unit</td>\n",
       "      <td>2</td>\n",
       "      <td>730</td>\n",
       "      <td>2012-04-12</td>\n",
       "      <td>4.40</td>\n",
       "      <td>4.07</td>\n",
       "      <td>4.47</td>\n",
       "      <td>4.80</td>\n",
       "      <td>4.73</td>\n",
       "      <td>4.87</td>\n",
       "      <td>4.00</td>\n",
       "      <td>f</td>\n",
       "    </tr>\n",
       "    <tr>\n",
       "      <th>12</th>\n",
       "      <td>21869</td>\n",
       "      <td>NaN</td>\n",
       "      <td>NaN</td>\n",
       "      <td>f</td>\n",
       "      <td>Entire rental unit</td>\n",
       "      <td>2</td>\n",
       "      <td>730</td>\n",
       "      <td>2010-09-23</td>\n",
       "      <td>4.74</td>\n",
       "      <td>4.70</td>\n",
       "      <td>4.91</td>\n",
       "      <td>4.77</td>\n",
       "      <td>4.58</td>\n",
       "      <td>4.62</td>\n",
       "      <td>4.58</td>\n",
       "      <td>f</td>\n",
       "    </tr>\n",
       "    <tr>\n",
       "      <th>20</th>\n",
       "      <td>193601</td>\n",
       "      <td>NaN</td>\n",
       "      <td>NaN</td>\n",
       "      <td>f</td>\n",
       "      <td>Entire rental unit</td>\n",
       "      <td>2</td>\n",
       "      <td>1125</td>\n",
       "      <td>NaN</td>\n",
       "      <td>NaN</td>\n",
       "      <td>NaN</td>\n",
       "      <td>NaN</td>\n",
       "      <td>NaN</td>\n",
       "      <td>NaN</td>\n",
       "      <td>NaN</td>\n",
       "      <td>NaN</td>\n",
       "      <td>f</td>\n",
       "    </tr>\n",
       "    <tr>\n",
       "      <th>25</th>\n",
       "      <td>195413</td>\n",
       "      <td>within a day</td>\n",
       "      <td>100%</td>\n",
       "      <td>f</td>\n",
       "      <td>Entire rental unit</td>\n",
       "      <td>4</td>\n",
       "      <td>730</td>\n",
       "      <td>2012-11-12</td>\n",
       "      <td>4.67</td>\n",
       "      <td>5.00</td>\n",
       "      <td>4.89</td>\n",
       "      <td>4.67</td>\n",
       "      <td>4.78</td>\n",
       "      <td>4.89</td>\n",
       "      <td>4.67</td>\n",
       "      <td>f</td>\n",
       "    </tr>\n",
       "    <tr>\n",
       "      <th>...</th>\n",
       "      <td>...</td>\n",
       "      <td>...</td>\n",
       "      <td>...</td>\n",
       "      <td>...</td>\n",
       "      <td>...</td>\n",
       "      <td>...</td>\n",
       "      <td>...</td>\n",
       "      <td>...</td>\n",
       "      <td>...</td>\n",
       "      <td>...</td>\n",
       "      <td>...</td>\n",
       "      <td>...</td>\n",
       "      <td>...</td>\n",
       "      <td>...</td>\n",
       "      <td>...</td>\n",
       "      <td>...</td>\n",
       "    </tr>\n",
       "    <tr>\n",
       "      <th>13248</th>\n",
       "      <td>1044057605329253360</td>\n",
       "      <td>within an hour</td>\n",
       "      <td>100%</td>\n",
       "      <td>t</td>\n",
       "      <td>Entire rental unit</td>\n",
       "      <td>4</td>\n",
       "      <td>1125</td>\n",
       "      <td>NaN</td>\n",
       "      <td>NaN</td>\n",
       "      <td>NaN</td>\n",
       "      <td>NaN</td>\n",
       "      <td>NaN</td>\n",
       "      <td>NaN</td>\n",
       "      <td>NaN</td>\n",
       "      <td>NaN</td>\n",
       "      <td>t</td>\n",
       "    </tr>\n",
       "    <tr>\n",
       "      <th>13303</th>\n",
       "      <td>1046220336894036720</td>\n",
       "      <td>within an hour</td>\n",
       "      <td>100%</td>\n",
       "      <td>f</td>\n",
       "      <td>Entire rental unit</td>\n",
       "      <td>2</td>\n",
       "      <td>1125</td>\n",
       "      <td>NaN</td>\n",
       "      <td>NaN</td>\n",
       "      <td>NaN</td>\n",
       "      <td>NaN</td>\n",
       "      <td>NaN</td>\n",
       "      <td>NaN</td>\n",
       "      <td>NaN</td>\n",
       "      <td>NaN</td>\n",
       "      <td>f</td>\n",
       "    </tr>\n",
       "    <tr>\n",
       "      <th>13305</th>\n",
       "      <td>1046223860054622744</td>\n",
       "      <td>within an hour</td>\n",
       "      <td>100%</td>\n",
       "      <td>f</td>\n",
       "      <td>Entire rental unit</td>\n",
       "      <td>2</td>\n",
       "      <td>1125</td>\n",
       "      <td>NaN</td>\n",
       "      <td>NaN</td>\n",
       "      <td>NaN</td>\n",
       "      <td>NaN</td>\n",
       "      <td>NaN</td>\n",
       "      <td>NaN</td>\n",
       "      <td>NaN</td>\n",
       "      <td>NaN</td>\n",
       "      <td>f</td>\n",
       "    </tr>\n",
       "    <tr>\n",
       "      <th>13306</th>\n",
       "      <td>1046224148012983761</td>\n",
       "      <td>within an hour</td>\n",
       "      <td>100%</td>\n",
       "      <td>f</td>\n",
       "      <td>Entire rental unit</td>\n",
       "      <td>2</td>\n",
       "      <td>1125</td>\n",
       "      <td>NaN</td>\n",
       "      <td>NaN</td>\n",
       "      <td>NaN</td>\n",
       "      <td>NaN</td>\n",
       "      <td>NaN</td>\n",
       "      <td>NaN</td>\n",
       "      <td>NaN</td>\n",
       "      <td>NaN</td>\n",
       "      <td>f</td>\n",
       "    </tr>\n",
       "    <tr>\n",
       "      <th>13319</th>\n",
       "      <td>1046996446344843150</td>\n",
       "      <td>within an hour</td>\n",
       "      <td>100%</td>\n",
       "      <td>f</td>\n",
       "      <td>Entire rental unit</td>\n",
       "      <td>4</td>\n",
       "      <td>1125</td>\n",
       "      <td>NaN</td>\n",
       "      <td>NaN</td>\n",
       "      <td>NaN</td>\n",
       "      <td>NaN</td>\n",
       "      <td>NaN</td>\n",
       "      <td>NaN</td>\n",
       "      <td>NaN</td>\n",
       "      <td>NaN</td>\n",
       "      <td>f</td>\n",
       "    </tr>\n",
       "  </tbody>\n",
       "</table>\n",
       "<p>6206 rows × 16 columns</p>\n",
       "</div>"
      ],
      "text/plain": [
       "                        id  host_response_time host_response_rate  \\\n",
       "4                    14325  within a few hours               100%   \n",
       "5                   186663        within a day               100%   \n",
       "12                   21869                 NaN                NaN   \n",
       "20                  193601                 NaN                NaN   \n",
       "25                  195413        within a day               100%   \n",
       "...                    ...                 ...                ...   \n",
       "13248  1044057605329253360      within an hour               100%   \n",
       "13303  1046220336894036720      within an hour               100%   \n",
       "13305  1046223860054622744      within an hour               100%   \n",
       "13306  1046224148012983761      within an hour               100%   \n",
       "13319  1046996446344843150      within an hour               100%   \n",
       "\n",
       "      host_is_superhost       property_type  accommodates  maximum_nights  \\\n",
       "4                     f  Entire rental unit             1            1125   \n",
       "5                     f  Entire rental unit             2             730   \n",
       "12                    f  Entire rental unit             2             730   \n",
       "20                    f  Entire rental unit             2            1125   \n",
       "25                    f  Entire rental unit             4             730   \n",
       "...                 ...                 ...           ...             ...   \n",
       "13248                 t  Entire rental unit             4            1125   \n",
       "13303                 f  Entire rental unit             2            1125   \n",
       "13305                 f  Entire rental unit             2            1125   \n",
       "13306                 f  Entire rental unit             2            1125   \n",
       "13319                 f  Entire rental unit             4            1125   \n",
       "\n",
       "      first_review  review_scores_rating  review_scores_accuracy  \\\n",
       "4       2010-06-29                  4.68                    5.00   \n",
       "5       2012-04-12                  4.40                    4.07   \n",
       "12      2010-09-23                  4.74                    4.70   \n",
       "20             NaN                   NaN                     NaN   \n",
       "25      2012-11-12                  4.67                    5.00   \n",
       "...            ...                   ...                     ...   \n",
       "13248          NaN                   NaN                     NaN   \n",
       "13303          NaN                   NaN                     NaN   \n",
       "13305          NaN                   NaN                     NaN   \n",
       "13306          NaN                   NaN                     NaN   \n",
       "13319          NaN                   NaN                     NaN   \n",
       "\n",
       "       review_scores_cleanliness  review_scores_checkin  \\\n",
       "4                           4.85                   4.70   \n",
       "5                           4.47                   4.80   \n",
       "12                          4.91                   4.77   \n",
       "20                           NaN                    NaN   \n",
       "25                          4.89                   4.67   \n",
       "...                          ...                    ...   \n",
       "13248                        NaN                    NaN   \n",
       "13303                        NaN                    NaN   \n",
       "13305                        NaN                    NaN   \n",
       "13306                        NaN                    NaN   \n",
       "13319                        NaN                    NaN   \n",
       "\n",
       "       review_scores_communication  review_scores_location  \\\n",
       "4                             4.85                    4.60   \n",
       "5                             4.73                    4.87   \n",
       "12                            4.58                    4.62   \n",
       "20                             NaN                     NaN   \n",
       "25                            4.78                    4.89   \n",
       "...                            ...                     ...   \n",
       "13248                          NaN                     NaN   \n",
       "13303                          NaN                     NaN   \n",
       "13305                          NaN                     NaN   \n",
       "13306                          NaN                     NaN   \n",
       "13319                          NaN                     NaN   \n",
       "\n",
       "       review_scores_value instant_bookable  \n",
       "4                     4.45                f  \n",
       "5                     4.00                f  \n",
       "12                    4.58                f  \n",
       "20                     NaN                f  \n",
       "25                    4.67                f  \n",
       "...                    ...              ...  \n",
       "13248                  NaN                t  \n",
       "13303                  NaN                f  \n",
       "13305                  NaN                f  \n",
       "13306                  NaN                f  \n",
       "13319                  NaN                f  \n",
       "\n",
       "[6206 rows x 16 columns]"
      ]
     },
     "execution_count": 14,
     "metadata": {},
     "output_type": "execute_result"
    }
   ],
   "source": [
    "# Set outlier criteria \"maximum_nights > 365 = outlier\" --> Bookings are based on the 365 days of the calendar 2024. It cannot be greater than a year.\n",
    "listing_long_reduced.loc[listing_long_reduced['maximum_nights'] > 365]"
   ]
  },
  {
   "cell_type": "markdown",
   "id": "3de87cb7",
   "metadata": {},
   "source": [
    "Around the half of the listing have a maximum nights greater than 1 year. It seems to be a normal practice to show this listing is available in flexible terms. It is not an outlier. "
   ]
  },
  {
   "cell_type": "markdown",
   "id": "8e651110",
   "metadata": {},
   "source": [
    "# 3. Data Wrangling"
   ]
  },
  {
   "cell_type": "markdown",
   "id": "d7bc77d7",
   "metadata": {},
   "source": [
    "## 3.1 Mixed Data Type"
   ]
  },
  {
   "cell_type": "code",
   "execution_count": 15,
   "id": "cb0c8801",
   "metadata": {},
   "outputs": [
    {
     "name": "stdout",
     "output_type": "stream",
     "text": [
      "id\n",
      "host_response_time\n",
      "host_response_rate\n",
      "host_is_superhost\n",
      "first_review\n"
     ]
    }
   ],
   "source": [
    "for col in listing_long_reduced.columns.tolist():\n",
    "  weird = (listing_long_reduced[[col]].map(type) != listing_long_reduced[[col]].iloc[0].apply(type)).any(axis = 1)\n",
    "  if len (listing_long_reduced[weird]) > 0:\n",
    "    print (col)"
   ]
  },
  {
   "cell_type": "code",
   "execution_count": 16,
   "id": "ad226fed",
   "metadata": {},
   "outputs": [
    {
     "data": {
      "text/plain": [
       "dtype('O')"
      ]
     },
     "execution_count": 16,
     "metadata": {},
     "output_type": "execute_result"
    }
   ],
   "source": [
    "# Change host_response_time data type to string\n",
    "listing_long_reduced['host_response_time'] = listing_long_reduced['host_response_time'].astype('str')\n",
    "listing_long_reduced['host_response_time'].dtype"
   ]
  },
  {
   "cell_type": "code",
   "execution_count": 17,
   "id": "7200c89a",
   "metadata": {},
   "outputs": [
    {
     "data": {
      "text/plain": [
       "dtype('O')"
      ]
     },
     "execution_count": 17,
     "metadata": {},
     "output_type": "execute_result"
    }
   ],
   "source": [
    "# Change host_response_rate data type to string\n",
    "listing_long_reduced['host_response_rate'] = listing_long_reduced['host_response_rate'].astype('str')\n",
    "listing_long_reduced['host_response_rate'].dtype"
   ]
  },
  {
   "cell_type": "code",
   "execution_count": 18,
   "id": "bfb43aec",
   "metadata": {},
   "outputs": [
    {
     "data": {
      "text/plain": [
       "dtype('O')"
      ]
     },
     "execution_count": 18,
     "metadata": {},
     "output_type": "execute_result"
    }
   ],
   "source": [
    "# Change host_is_superhost data type to string\n",
    "listing_long_reduced['host_is_superhost'] = listing_long_reduced['host_is_superhost'].astype('str')\n",
    "listing_long_reduced['host_is_superhost'].dtype"
   ]
  },
  {
   "cell_type": "code",
   "execution_count": 19,
   "id": "84b390d9",
   "metadata": {},
   "outputs": [
    {
     "data": {
      "text/plain": [
       "dtype('O')"
      ]
     },
     "execution_count": 19,
     "metadata": {},
     "output_type": "execute_result"
    }
   ],
   "source": [
    "# Change first_review data type to string\n",
    "listing_long_reduced['first_review'] = listing_long_reduced['first_review'].astype('str')\n",
    "listing_long_reduced['first_review'].dtype"
   ]
  },
  {
   "cell_type": "markdown",
   "id": "5ac6b4a9",
   "metadata": {},
   "source": [
    "## 3.2 Change Data Types"
   ]
  },
  {
   "cell_type": "code",
   "execution_count": 20,
   "id": "6a8a40e7",
   "metadata": {},
   "outputs": [
    {
     "data": {
      "text/plain": [
       "dtype('O')"
      ]
     },
     "execution_count": 20,
     "metadata": {},
     "output_type": "execute_result"
    }
   ],
   "source": [
    "# Change id data type to string\n",
    "listing_long_reduced['id'] = listing_long_reduced['id'].astype('str')\n",
    "listing_long_reduced['id'].dtype"
   ]
  },
  {
   "cell_type": "markdown",
   "id": "5c24e969",
   "metadata": {},
   "source": [
    "# 4. Consistency Checks: Duplicates and Missing Values"
   ]
  },
  {
   "cell_type": "markdown",
   "id": "c07e130a",
   "metadata": {},
   "source": [
    "## 4.1 Missing Values"
   ]
  },
  {
   "cell_type": "code",
   "execution_count": 21,
   "id": "f2a0a83a",
   "metadata": {},
   "outputs": [
    {
     "data": {
      "text/plain": [
       "id                                0\n",
       "host_response_time                0\n",
       "host_response_rate                0\n",
       "host_is_superhost                 0\n",
       "property_type                     0\n",
       "accommodates                      0\n",
       "maximum_nights                    0\n",
       "first_review                      0\n",
       "review_scores_rating           2995\n",
       "review_scores_accuracy         2998\n",
       "review_scores_cleanliness      2996\n",
       "review_scores_checkin          2999\n",
       "review_scores_communication    2996\n",
       "review_scores_location         2999\n",
       "review_scores_value            3001\n",
       "instant_bookable                  0\n",
       "dtype: int64"
      ]
     },
     "execution_count": 21,
     "metadata": {},
     "output_type": "execute_result"
    }
   ],
   "source": [
    "listing_long_reduced.isnull().sum()"
   ]
  },
  {
   "cell_type": "markdown",
   "id": "f63f53be",
   "metadata": {},
   "source": [
    "### 4.1.1 Missing Values: review_scores_rating - Mean"
   ]
  },
  {
   "cell_type": "code",
   "execution_count": 22,
   "id": "2cd049df",
   "metadata": {},
   "outputs": [],
   "source": [
    "# Replace by Mean in order to avoid missing values in review_scores_rating\n",
    "listing_long_reduced['review_scores_rating'].fillna(4.738112, inplace=True)"
   ]
  },
  {
   "cell_type": "markdown",
   "id": "60888b3c",
   "metadata": {},
   "source": [
    "### 4.1.2 Missing Values: review_scores_accuracy - Mean"
   ]
  },
  {
   "cell_type": "code",
   "execution_count": 23,
   "id": "eedeab4e",
   "metadata": {},
   "outputs": [],
   "source": [
    "# Replace by Mean in order to avoid missing values in review_scores_accuracy\n",
    "listing_long_reduced['review_scores_accuracy'].fillna(4.785194, inplace=True)"
   ]
  },
  {
   "cell_type": "markdown",
   "id": "677db19b",
   "metadata": {},
   "source": [
    "### 4.1.3 Missing Values: review_scores_cleanliness - Mean"
   ]
  },
  {
   "cell_type": "code",
   "execution_count": 24,
   "id": "a5a67bc1",
   "metadata": {},
   "outputs": [],
   "source": [
    "# Replace by Mean in order to avoid missing values in review_scores_cleanliness\n",
    "listing_long_reduced['review_scores_cleanliness'].fillna(4.675027, inplace=True)"
   ]
  },
  {
   "cell_type": "markdown",
   "id": "661e9dce",
   "metadata": {},
   "source": [
    "### 4.1.5 Missing Values: review_scores_checkin - Mean"
   ]
  },
  {
   "cell_type": "code",
   "execution_count": 25,
   "id": "7a3d2f03",
   "metadata": {},
   "outputs": [],
   "source": [
    "# Replace by Mean in order to avoid missing values in review_scores_checkin\n",
    "listing_long_reduced['review_scores_checkin'].fillna(4.814016, inplace=True)"
   ]
  },
  {
   "cell_type": "markdown",
   "id": "2f7c0b4c",
   "metadata": {},
   "source": [
    "### 4.1.6 Missing Values: review_scores_communication - Mean"
   ]
  },
  {
   "cell_type": "code",
   "execution_count": 26,
   "id": "14bf1b80",
   "metadata": {},
   "outputs": [],
   "source": [
    "# Replace by Mean in order to avoid missing values in review_scores_communication\n",
    "listing_long_reduced['review_scores_communication'].fillna(4.814183, inplace=True)"
   ]
  },
  {
   "cell_type": "markdown",
   "id": "50b349a2",
   "metadata": {},
   "source": [
    "### 4.1.6 Missing Values: review_scores_location - Mean"
   ]
  },
  {
   "cell_type": "code",
   "execution_count": 27,
   "id": "8c4f9997",
   "metadata": {},
   "outputs": [],
   "source": [
    "# Replace by Mean in order to avoid missing values in review_scores_location\n",
    "listing_long_reduced['review_scores_location'].fillna(4.752700, inplace=True)"
   ]
  },
  {
   "cell_type": "markdown",
   "id": "e3e6b111",
   "metadata": {},
   "source": [
    "### 4.1.6 Missing Values: review_scores_value - Mean"
   ]
  },
  {
   "cell_type": "code",
   "execution_count": 28,
   "id": "6d3795db",
   "metadata": {},
   "outputs": [],
   "source": [
    "# Replace by Mean in order to avoid missing values in review_scores_value\n",
    "listing_long_reduced['review_scores_value'].fillna(4.633318, inplace=True)"
   ]
  },
  {
   "cell_type": "markdown",
   "id": "c3d9ff8b",
   "metadata": {},
   "source": [
    "## 4.2 Duplicates"
   ]
  },
  {
   "cell_type": "code",
   "execution_count": 29,
   "id": "0bf561e1",
   "metadata": {},
   "outputs": [
    {
     "data": {
      "text/plain": [
       "(0, 16)"
      ]
     },
     "execution_count": 29,
     "metadata": {},
     "output_type": "execute_result"
    }
   ],
   "source": [
    "listing_long_reduced_dups = listing_long_reduced[listing_long_reduced.duplicated()]\n",
    "listing_long_reduced_dups.shape"
   ]
  },
  {
   "cell_type": "code",
   "execution_count": 30,
   "id": "93119dcc",
   "metadata": {},
   "outputs": [
    {
     "data": {
      "text/plain": [
       "(13327, 16)"
      ]
     },
     "execution_count": 30,
     "metadata": {},
     "output_type": "execute_result"
    }
   ],
   "source": [
    "# Dropping duplicates\n",
    "listing_long_reduced_no_dups = listing_long_reduced.drop_duplicates()\n",
    "listing_long_reduced_no_dups.shape"
   ]
  },
  {
   "cell_type": "markdown",
   "id": "390c7253",
   "metadata": {},
   "source": [
    "# 5. Export final dataset"
   ]
  },
  {
   "cell_type": "code",
   "execution_count": 31,
   "id": "c7f6747c",
   "metadata": {},
   "outputs": [],
   "source": [
    "listing_long_reduced_no_dups.to_pickle(os.path.join(path, '02 Data','Prepared Data', 'listing_long_clean.pkl'))"
   ]
  },
  {
   "cell_type": "code",
   "execution_count": null,
   "id": "2440b4f9",
   "metadata": {},
   "outputs": [],
   "source": [
    "listing_long_reduced_no_dups.to_excel(os.path.join(path, '02 Data','Prepared Data', 'listing_long_clean.xlsx'))"
   ]
  }
 ],
 "metadata": {
  "kernelspec": {
   "display_name": "Python 3 (ipykernel)",
   "language": "python",
   "name": "python3"
  },
  "language_info": {
   "codemirror_mode": {
    "name": "ipython",
    "version": 3
   },
   "file_extension": ".py",
   "mimetype": "text/x-python",
   "name": "python",
   "nbconvert_exporter": "python",
   "pygments_lexer": "ipython3",
   "version": "3.11.5"
  }
 },
 "nbformat": 4,
 "nbformat_minor": 5
}
