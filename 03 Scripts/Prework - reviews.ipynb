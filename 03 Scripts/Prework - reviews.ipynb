{
 "cells": [
  {
   "cell_type": "markdown",
   "id": "02a7677c",
   "metadata": {},
   "source": [
    "# Table on Content\n",
    "    1. Importing Libraries & dataset 'reviews'\n",
    "    2. Dataset Exploration\n",
    "    3. Data Wrangling\n",
    "      3.1 Mixed Data Types\n",
    "      3.2 Change Data Types\n",
    "    4. Consistency Checks: Duplicates and Missing Values\n",
    "    5. Deriving New Variables: Season segmentation\n",
    "    6. Merging datasets\n",
    "    7. Export final dataset"
   ]
  },
  {
   "cell_type": "markdown",
   "id": "dbaf8cf2",
   "metadata": {},
   "source": [
    "# 1. Importing Libraries & dataset 'reviews'"
   ]
  },
  {
   "cell_type": "code",
   "execution_count": 1,
   "id": "97dfe8e4",
   "metadata": {},
   "outputs": [],
   "source": [
    "# Import libraries\n",
    "import pandas as pd\n",
    "import numpy as np\n",
    "import os\n",
    "import matplotlib.pyplot as plt\n",
    "import seaborn as sns\n",
    "import scipy"
   ]
  },
  {
   "cell_type": "code",
   "execution_count": 2,
   "id": "7ce2e8bb",
   "metadata": {},
   "outputs": [],
   "source": [
    "# Create path\n",
    "path = r'/Users/Dulce/Dec2024 - Airbnb Berlin'"
   ]
  },
  {
   "cell_type": "code",
   "execution_count": 3,
   "id": "d701c1cb",
   "metadata": {
    "scrolled": true
   },
   "outputs": [
    {
     "name": "stderr",
     "output_type": "stream",
     "text": [
      "/var/folders/bq/9pw947f52fdd4s0pghmqxh580000gn/T/ipykernel_2759/2966869328.py:2: UserWarning: Could not infer format, so each element will be parsed individually, falling back to `dateutil`. To ensure parsing is consistent and as-expected, please specify a format.\n",
      "  reviews = pd.read_csv(os.path.join(path, '02 Data', 'Original Data', 'reviews.csv'), sep=\";\", low_memory=False, parse_dates=['date'])\n"
     ]
    }
   ],
   "source": [
    "# Import 'reviews'\n",
    "reviews = pd.read_csv(os.path.join(path, '02 Data', 'Original Data', 'reviews.csv'), sep=\";\", low_memory=False, parse_dates=['date'])"
   ]
  },
  {
   "cell_type": "code",
   "execution_count": 4,
   "id": "e91e18f7",
   "metadata": {},
   "outputs": [],
   "source": [
    "reviews.reset_index(drop=True, inplace=True)\n",
    "reviews.index = range(1, len(reviews) + 1)"
   ]
  },
  {
   "cell_type": "markdown",
   "id": "7ae55f68",
   "metadata": {},
   "source": [
    "# 2. Dataset Exploration"
   ]
  },
  {
   "cell_type": "code",
   "execution_count": 5,
   "id": "4eeef36d",
   "metadata": {},
   "outputs": [
    {
     "data": {
      "text/plain": [
       "(214809, 6)"
      ]
     },
     "execution_count": 5,
     "metadata": {},
     "output_type": "execute_result"
    }
   ],
   "source": [
    "reviews.shape"
   ]
  },
  {
   "cell_type": "code",
   "execution_count": 6,
   "id": "331c5abd",
   "metadata": {
    "scrolled": true
   },
   "outputs": [
    {
     "data": {
      "text/html": [
       "<div>\n",
       "<style scoped>\n",
       "    .dataframe tbody tr th:only-of-type {\n",
       "        vertical-align: middle;\n",
       "    }\n",
       "\n",
       "    .dataframe tbody tr th {\n",
       "        vertical-align: top;\n",
       "    }\n",
       "\n",
       "    .dataframe thead th {\n",
       "        text-align: right;\n",
       "    }\n",
       "</style>\n",
       "<table border=\"1\" class=\"dataframe\">\n",
       "  <thead>\n",
       "    <tr style=\"text-align: right;\">\n",
       "      <th></th>\n",
       "      <th>id</th>\n",
       "      <th>review_id</th>\n",
       "      <th>date</th>\n",
       "      <th>reviewer_id</th>\n",
       "      <th>reviewer_name</th>\n",
       "      <th>comments</th>\n",
       "    </tr>\n",
       "  </thead>\n",
       "  <tbody>\n",
       "    <tr>\n",
       "      <th>1</th>\n",
       "      <td>265354</td>\n",
       "      <td>5,36E+17</td>\n",
       "      <td>2022-09-01</td>\n",
       "      <td>160241545</td>\n",
       "      <td>Oscar</td>\n",
       "      <td>El bar, la atenci√≥n y todo estuvo muy bueno</td>\n",
       "    </tr>\n",
       "    <tr>\n",
       "      <th>2</th>\n",
       "      <td>265354</td>\n",
       "      <td>5,36E+17</td>\n",
       "      <td>2022-09-01</td>\n",
       "      <td>182609068</td>\n",
       "      <td>Cristoffer</td>\n",
       "      <td>Buena atenci√≥n y comodidad.</td>\n",
       "    </tr>\n",
       "    <tr>\n",
       "      <th>3</th>\n",
       "      <td>265354</td>\n",
       "      <td>5,40E+17</td>\n",
       "      <td>2022-01-15</td>\n",
       "      <td>9427410</td>\n",
       "      <td>Alejandro</td>\n",
       "      <td>We rent kind of mini apartment. It was great. ...</td>\n",
       "    </tr>\n",
       "    <tr>\n",
       "      <th>4</th>\n",
       "      <td>265354</td>\n",
       "      <td>5,46E+17</td>\n",
       "      <td>2022-01-23</td>\n",
       "      <td>348472408</td>\n",
       "      <td>Andr√©a</td>\n",
       "      <td>super s√©jour dans cette auberge atypique asse...</td>\n",
       "    </tr>\n",
       "    <tr>\n",
       "      <th>5</th>\n",
       "      <td>265354</td>\n",
       "      <td>5,66E+17</td>\n",
       "      <td>2022-02-19</td>\n",
       "      <td>312892160</td>\n",
       "      <td>Lander</td>\n",
       "      <td>Somos un grupo de 4 amigos los que hemos venid...</td>\n",
       "    </tr>\n",
       "  </tbody>\n",
       "</table>\n",
       "</div>"
      ],
      "text/plain": [
       "       id review_id       date  reviewer_id reviewer_name  \\\n",
       "1  265354  5,36E+17 2022-09-01    160241545         Oscar   \n",
       "2  265354  5,36E+17 2022-09-01    182609068    Cristoffer   \n",
       "3  265354  5,40E+17 2022-01-15      9427410     Alejandro   \n",
       "4  265354  5,46E+17 2022-01-23    348472408       Andr√©a   \n",
       "5  265354  5,66E+17 2022-02-19    312892160        Lander   \n",
       "\n",
       "                                            comments  \n",
       "1       El bar, la atenci√≥n y todo estuvo muy bueno  \n",
       "2                       Buena atenci√≥n y comodidad.  \n",
       "3  We rent kind of mini apartment. It was great. ...  \n",
       "4  super s√©jour dans cette auberge atypique asse...  \n",
       "5  Somos un grupo de 4 amigos los que hemos venid...  "
      ]
     },
     "execution_count": 6,
     "metadata": {},
     "output_type": "execute_result"
    }
   ],
   "source": [
    "reviews.head()"
   ]
  },
  {
   "cell_type": "code",
   "execution_count": 7,
   "id": "ebcb7d0c",
   "metadata": {},
   "outputs": [
    {
     "data": {
      "text/html": [
       "<div>\n",
       "<style scoped>\n",
       "    .dataframe tbody tr th:only-of-type {\n",
       "        vertical-align: middle;\n",
       "    }\n",
       "\n",
       "    .dataframe tbody tr th {\n",
       "        vertical-align: top;\n",
       "    }\n",
       "\n",
       "    .dataframe thead th {\n",
       "        text-align: right;\n",
       "    }\n",
       "</style>\n",
       "<table border=\"1\" class=\"dataframe\">\n",
       "  <thead>\n",
       "    <tr style=\"text-align: right;\">\n",
       "      <th></th>\n",
       "      <th>id</th>\n",
       "      <th>review_id</th>\n",
       "      <th>date</th>\n",
       "      <th>reviewer_id</th>\n",
       "      <th>reviewer_name</th>\n",
       "      <th>comments</th>\n",
       "    </tr>\n",
       "  </thead>\n",
       "  <tbody>\n",
       "    <tr>\n",
       "      <th>214805</th>\n",
       "      <td>1,04E+18</td>\n",
       "      <td>1,04E+18</td>\n",
       "      <td>2023-09-12</td>\n",
       "      <td>6293103</td>\n",
       "      <td>Emily</td>\n",
       "      <td>Peaceful, clean and spacious apartment. Well e...</td>\n",
       "    </tr>\n",
       "    <tr>\n",
       "      <th>214806</th>\n",
       "      <td>1,03E+18</td>\n",
       "      <td>1,04E+18</td>\n",
       "      <td>2023-12-12</td>\n",
       "      <td>472171733</td>\n",
       "      <td>Carlos</td>\n",
       "      <td>We‚Äôre grateful to the guys for letting us st...</td>\n",
       "    </tr>\n",
       "    <tr>\n",
       "      <th>214807</th>\n",
       "      <td>1,03E+18</td>\n",
       "      <td>1,03E+18</td>\n",
       "      <td>2023-11-28</td>\n",
       "      <td>409488996</td>\n",
       "      <td>Michelle</td>\n",
       "      <td>Die Unterkunft war leider sehr dreckig und hat...</td>\n",
       "    </tr>\n",
       "    <tr>\n",
       "      <th>214808</th>\n",
       "      <td>1,03E+18</td>\n",
       "      <td>1,04E+18</td>\n",
       "      <td>2023-03-12</td>\n",
       "      <td>446380798</td>\n",
       "      <td>Benedict</td>\n",
       "      <td>A well located place in Berlin, with decent tr...</td>\n",
       "    </tr>\n",
       "    <tr>\n",
       "      <th>214809</th>\n",
       "      <td>1,03E+18</td>\n",
       "      <td>1,04E+18</td>\n",
       "      <td>2023-11-12</td>\n",
       "      <td>227758970</td>\n",
       "      <td>Jo</td>\n",
       "      <td>Rene hat einen supersch√∂nen Ort geschaffen, d...</td>\n",
       "    </tr>\n",
       "  </tbody>\n",
       "</table>\n",
       "</div>"
      ],
      "text/plain": [
       "              id review_id       date  reviewer_id reviewer_name  \\\n",
       "214805  1,04E+18  1,04E+18 2023-09-12      6293103         Emily   \n",
       "214806  1,03E+18  1,04E+18 2023-12-12    472171733        Carlos   \n",
       "214807  1,03E+18  1,03E+18 2023-11-28    409488996      Michelle   \n",
       "214808  1,03E+18  1,04E+18 2023-03-12    446380798      Benedict   \n",
       "214809  1,03E+18  1,04E+18 2023-11-12    227758970            Jo   \n",
       "\n",
       "                                                 comments  \n",
       "214805  Peaceful, clean and spacious apartment. Well e...  \n",
       "214806  We‚Äôre grateful to the guys for letting us st...  \n",
       "214807  Die Unterkunft war leider sehr dreckig und hat...  \n",
       "214808  A well located place in Berlin, with decent tr...  \n",
       "214809  Rene hat einen supersch√∂nen Ort geschaffen, d...  "
      ]
     },
     "execution_count": 7,
     "metadata": {},
     "output_type": "execute_result"
    }
   ],
   "source": [
    "reviews.tail()"
   ]
  },
  {
   "cell_type": "code",
   "execution_count": 8,
   "id": "828580a6",
   "metadata": {},
   "outputs": [
    {
     "data": {
      "text/plain": [
       "Index(['id', 'review_id', 'date', 'reviewer_id', 'reviewer_name', 'comments'], dtype='object')"
      ]
     },
     "execution_count": 8,
     "metadata": {},
     "output_type": "execute_result"
    }
   ],
   "source": [
    "reviews.columns"
   ]
  },
  {
   "cell_type": "code",
   "execution_count": 9,
   "id": "fc09f797",
   "metadata": {},
   "outputs": [
    {
     "name": "stdout",
     "output_type": "stream",
     "text": [
      "<class 'pandas.core.frame.DataFrame'>\n",
      "RangeIndex: 214809 entries, 1 to 214809\n",
      "Data columns (total 6 columns):\n",
      " #   Column         Non-Null Count   Dtype         \n",
      "---  ------         --------------   -----         \n",
      " 0   id             214809 non-null  object        \n",
      " 1   review_id      214809 non-null  object        \n",
      " 2   date           214809 non-null  datetime64[ns]\n",
      " 3   reviewer_id    214809 non-null  int64         \n",
      " 4   reviewer_name  214809 non-null  object        \n",
      " 5   comments       214778 non-null  object        \n",
      "dtypes: datetime64[ns](1), int64(1), object(4)\n",
      "memory usage: 9.8+ MB\n"
     ]
    }
   ],
   "source": [
    "reviews.info()"
   ]
  },
  {
   "cell_type": "markdown",
   "id": "3fefd085",
   "metadata": {},
   "source": [
    "## 3. Data Wrangling"
   ]
  },
  {
   "cell_type": "markdown",
   "id": "c72eb416",
   "metadata": {},
   "source": [
    "### 3.1 Mixed Data Type"
   ]
  },
  {
   "cell_type": "code",
   "execution_count": 10,
   "id": "82e9aa3e",
   "metadata": {},
   "outputs": [
    {
     "name": "stdout",
     "output_type": "stream",
     "text": [
      "comments\n"
     ]
    }
   ],
   "source": [
    "for col in reviews.columns.tolist():\n",
    "  weird = (reviews[[col]].map(type) != reviews[[col]].iloc[0].apply(type)).any(axis = 1)\n",
    "  if len (reviews[weird]) > 0:\n",
    "    print (col)"
   ]
  },
  {
   "cell_type": "code",
   "execution_count": 11,
   "id": "35ffdda2",
   "metadata": {},
   "outputs": [
    {
     "data": {
      "text/plain": [
       "dtype('O')"
      ]
     },
     "execution_count": 11,
     "metadata": {},
     "output_type": "execute_result"
    }
   ],
   "source": [
    "# Change comments data type to string\n",
    "reviews['comments'] = reviews['comments'].astype('str')\n",
    "reviews['comments'].dtype"
   ]
  },
  {
   "cell_type": "markdown",
   "id": "fbe5f930",
   "metadata": {},
   "source": [
    "### 3.2 Change Data Types"
   ]
  },
  {
   "cell_type": "code",
   "execution_count": 12,
   "id": "59ee199e",
   "metadata": {},
   "outputs": [
    {
     "data": {
      "text/plain": [
       "dtype('O')"
      ]
     },
     "execution_count": 12,
     "metadata": {},
     "output_type": "execute_result"
    }
   ],
   "source": [
    "# Change reviewer_id data type to string\n",
    "reviews['reviewer_id'] = reviews['reviewer_id'].astype('str')\n",
    "reviews['reviewer_id'].dtype"
   ]
  },
  {
   "cell_type": "markdown",
   "id": "ce8c58a5",
   "metadata": {},
   "source": [
    "# 4. Consistency Checks: Duplicates and Missing Values"
   ]
  },
  {
   "cell_type": "markdown",
   "id": "5f09cbbb",
   "metadata": {},
   "source": [
    "## 4.1 Missing Values"
   ]
  },
  {
   "cell_type": "code",
   "execution_count": 13,
   "id": "a882c782",
   "metadata": {},
   "outputs": [
    {
     "data": {
      "text/plain": [
       "id               0\n",
       "review_id        0\n",
       "date             0\n",
       "reviewer_id      0\n",
       "reviewer_name    0\n",
       "comments         0\n",
       "dtype: int64"
      ]
     },
     "execution_count": 13,
     "metadata": {},
     "output_type": "execute_result"
    }
   ],
   "source": [
    "reviews.isnull().sum()"
   ]
  },
  {
   "cell_type": "markdown",
   "id": "98ea7306",
   "metadata": {},
   "source": [
    "No missing values found."
   ]
  },
  {
   "cell_type": "markdown",
   "id": "73d3bc29",
   "metadata": {},
   "source": [
    "## 4.2 Duplicates"
   ]
  },
  {
   "cell_type": "code",
   "execution_count": 14,
   "id": "80a73084",
   "metadata": {},
   "outputs": [
    {
     "data": {
      "text/plain": [
       "(5, 6)"
      ]
     },
     "execution_count": 14,
     "metadata": {},
     "output_type": "execute_result"
    }
   ],
   "source": [
    "# Checking duplicate values\n",
    "reviews_dups = reviews[reviews.duplicated()]\n",
    "reviews_dups.shape"
   ]
  },
  {
   "cell_type": "code",
   "execution_count": 15,
   "id": "610081f1",
   "metadata": {},
   "outputs": [
    {
     "data": {
      "text/plain": [
       "(214804, 6)"
      ]
     },
     "execution_count": 15,
     "metadata": {},
     "output_type": "execute_result"
    }
   ],
   "source": [
    "# Dropping duplicates\n",
    "reviews_no_dups = reviews.drop_duplicates()\n",
    "reviews_no_dups.shape"
   ]
  },
  {
   "cell_type": "markdown",
   "id": "808db7e5",
   "metadata": {},
   "source": [
    "# 5. Export final dataset"
   ]
  },
  {
   "cell_type": "code",
   "execution_count": 16,
   "id": "17cfee2a",
   "metadata": {},
   "outputs": [],
   "source": [
    "reviews_no_dups.to_pickle(os.path.join(path, '02 Data','Prepared Data', 'reviews_clean.pkl'))"
   ]
  }
 ],
 "metadata": {
  "kernelspec": {
   "display_name": "Python 3 (ipykernel)",
   "language": "python",
   "name": "python3"
  },
  "language_info": {
   "codemirror_mode": {
    "name": "ipython",
    "version": 3
   },
   "file_extension": ".py",
   "mimetype": "text/x-python",
   "name": "python",
   "nbconvert_exporter": "python",
   "pygments_lexer": "ipython3",
   "version": "3.11.5"
  }
 },
 "nbformat": 4,
 "nbformat_minor": 5
}
